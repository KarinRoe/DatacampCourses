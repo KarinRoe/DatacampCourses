{
 "cells": [
  {
   "cell_type": "code",
   "execution_count": 1,
   "metadata": {},
   "outputs": [
    {
     "name": "stderr",
     "output_type": "stream",
     "text": [
      "-- Attaching packages --------------------------------------- tidyverse 1.2.1 --\n",
      "v ggplot2 3.0.0     v purrr   0.2.5\n",
      "v tibble  1.4.2     v dplyr   0.7.6\n",
      "v tidyr   0.8.1     v stringr 1.3.1\n",
      "v readr   1.1.1     v forcats 0.3.0\n",
      "-- Conflicts ------------------------------------------ tidyverse_conflicts() --\n",
      "x dplyr::filter() masks stats::filter()\n",
      "x dplyr::lag()    masks stats::lag()\n"
     ]
    }
   ],
   "source": [
    "library(repr)\n",
    "library(tidyverse)\n",
    "# setting the size of all graphics\n",
    "options(repr.plot.width=6, repr.plot.height=4)"
   ]
  },
  {
   "cell_type": "markdown",
   "metadata": {},
   "source": [
    "### Code a simple one-variable regression\n",
    "\n",
    "For the first coding exercise, you'll create a formula to define a one-variable modeling task, and then fit a linear model to the data. You are given the rates of male and female unemployment in the United States over several years.\n",
    "\n",
    "The task is to predict the rate of female unemployment from the observed rate of male unemployment. The outcome is female_unemployment, and the input is male_unemployment.\n",
    "\n",
    "The sign of the variable coefficient tells you whether the outcome increases (+) or decreases (-) as the variable increases."
   ]
  },
  {
   "cell_type": "code",
   "execution_count": 8,
   "metadata": {},
   "outputs": [],
   "source": [
    "unemployment <- readRDS(\"unemployment.rds\")"
   ]
  },
  {
   "cell_type": "code",
   "execution_count": 9,
   "metadata": {},
   "outputs": [
    {
     "data": {
      "text/plain": [
       " male_unemployment female_unemployment\n",
       " Min.   :2.900     Min.   :4.000      \n",
       " 1st Qu.:4.900     1st Qu.:4.400      \n",
       " Median :6.000     Median :5.200      \n",
       " Mean   :5.954     Mean   :5.569      \n",
       " 3rd Qu.:6.700     3rd Qu.:6.100      \n",
       " Max.   :9.800     Max.   :7.900      "
      ]
     },
     "metadata": {},
     "output_type": "display_data"
    }
   ],
   "source": [
    "summary(unemployment)"
   ]
  },
  {
   "cell_type": "code",
   "execution_count": 10,
   "metadata": {},
   "outputs": [
    {
     "data": {
      "text/plain": [
       "\n",
       "Call:\n",
       "lm(formula = fmla, data = unemployment)\n",
       "\n",
       "Coefficients:\n",
       "      (Intercept)  male_unemployment  \n",
       "           1.4341             0.6945  \n"
      ]
     },
     "metadata": {},
     "output_type": "display_data"
    }
   ],
   "source": [
    "# Define a formula to express female_unemployment as a function of male_unemployment\n",
    "fmla <- female_unemployment ~ male_unemployment\n",
    "\n",
    "# Use the formula to fit a model: unemployment_model\n",
    "unemployment_model <- lm(fmla, data = unemployment)\n",
    "\n",
    "# Print it\n",
    "unemployment_model"
   ]
  },
  {
   "cell_type": "markdown",
   "metadata": {},
   "source": [
    "The coefficient for male unemployment is positive, so female unemployment increases as male unemployment does. Linear regression is the most basic of regression approaches. You can think of this course as ways to address its limitations."
   ]
  },
  {
   "cell_type": "markdown",
   "metadata": {},
   "source": [
    "### Examining a model\n",
    "\n",
    "Let's look at the model unemployment_model that you have just created. There are a variety of different ways to examine a model; each way provides different information. We will use `summary()`, `broom::glance()`, and `sigr::wrapFTest()`."
   ]
  },
  {
   "cell_type": "code",
   "execution_count": 12,
   "metadata": {},
   "outputs": [
    {
     "data": {
      "text/plain": [
       "\n",
       "Call:\n",
       "lm(formula = fmla, data = unemployment)\n",
       "\n",
       "Residuals:\n",
       "     Min       1Q   Median       3Q      Max \n",
       "-0.77621 -0.34050 -0.09004  0.27911  1.31254 \n",
       "\n",
       "Coefficients:\n",
       "                  Estimate Std. Error t value Pr(>|t|)    \n",
       "(Intercept)        1.43411    0.60340   2.377   0.0367 *  \n",
       "male_unemployment  0.69453    0.09767   7.111 1.97e-05 ***\n",
       "---\n",
       "Signif. codes:  0 '***' 0.001 '**' 0.01 '*' 0.05 '.' 0.1 ' ' 1\n",
       "\n",
       "Residual standard error: 0.5803 on 11 degrees of freedom\n",
       "Multiple R-squared:  0.8213,\tAdjusted R-squared:  0.8051 \n",
       "F-statistic: 50.56 on 1 and 11 DF,  p-value: 1.966e-05\n"
      ]
     },
     "metadata": {},
     "output_type": "display_data"
    },
    {
     "data": {
      "text/html": [
       "<table>\n",
       "<thead><tr><th></th><th scope=col>r.squared</th><th scope=col>adj.r.squared</th><th scope=col>sigma</th><th scope=col>statistic</th><th scope=col>p.value</th><th scope=col>df</th><th scope=col>logLik</th><th scope=col>AIC</th><th scope=col>BIC</th><th scope=col>deviance</th><th scope=col>df.residual</th></tr></thead>\n",
       "<tbody>\n",
       "\t<tr><th scope=row>value</th><td>0.8213157   </td><td>0.8050716   </td><td>0.5802596   </td><td>50.56108    </td><td>1.965985e-05</td><td>2           </td><td>-10.28471   </td><td>26.56943    </td><td>28.26428    </td><td>3.703714    </td><td>11          </td></tr>\n",
       "</tbody>\n",
       "</table>\n"
      ],
      "text/latex": [
       "\\begin{tabular}{r|lllllllllll}\n",
       "  & r.squared & adj.r.squared & sigma & statistic & p.value & df & logLik & AIC & BIC & deviance & df.residual\\\\\n",
       "\\hline\n",
       "\tvalue & 0.8213157    & 0.8050716    & 0.5802596    & 50.56108     & 1.965985e-05 & 2            & -10.28471    & 26.56943     & 28.26428     & 3.703714     & 11          \\\\\n",
       "\\end{tabular}\n"
      ],
      "text/markdown": [
       "\n",
       "| <!--/--> | r.squared | adj.r.squared | sigma | statistic | p.value | df | logLik | AIC | BIC | deviance | df.residual | \n",
       "|---|\n",
       "| value | 0.8213157    | 0.8050716    | 0.5802596    | 50.56108     | 1.965985e-05 | 2            | -10.28471    | 26.56943     | 28.26428     | 3.703714     | 11           | \n",
       "\n",
       "\n"
      ],
      "text/plain": [
       "      r.squared adj.r.squared sigma     statistic p.value      df logLik   \n",
       "value 0.8213157 0.8050716     0.5802596 50.56108  1.965985e-05 2  -10.28471\n",
       "      AIC      BIC      deviance df.residual\n",
       "value 26.56943 28.26428 3.703714 11         "
      ]
     },
     "metadata": {},
     "output_type": "display_data"
    },
    {
     "data": {
      "text/plain": [
       "[1] \"F Test summary: (R2=0.8213, F(1,11)=50.56, p=1.966e-05).\""
      ]
     },
     "metadata": {},
     "output_type": "display_data"
    }
   ],
   "source": [
    "library(broom)\n",
    "library(sigr)\n",
    "# Call summary() on unemployment_model to get more details\n",
    "summary(unemployment_model)\n",
    "\n",
    "# Call glance() on unemployment_model to see the details in a tidier form\n",
    "glance(unemployment_model)\n",
    "\n",
    "# Call wrapFTest() on unemployment_model to see the most relevant details\n",
    "wrapFTest(unemployment_model)\n"
   ]
  },
  {
   "cell_type": "markdown",
   "metadata": {},
   "source": [
    "### Predicting from the unemployment model\n",
    "\n",
    "In this exercise, you will use your unemployment model unemployment_model to make predictions from the unemployment data, and compare predicted female unemployment rates to the actual observed female unemployment rates on the training data, unemployment. You will also use your model to predict on the new data in newrates, which consists of only one observation, where male unemployment is 5%.\n",
    "\n",
    "The `predict()` interface for lm models takes the form\n",
    "\n",
    "    predict(model, newdata)\n",
    "\n",
    "You will use the ggplot2 package to make the plots, so you will add the prediction column to the unemployment data frame. You will plot outcome versus prediction, and compare them to the line that represents perfect predictions (that is when the outcome is equal to the predicted value)."
   ]
  },
  {
   "cell_type": "code",
   "execution_count": 13,
   "metadata": {},
   "outputs": [],
   "source": [
    "newrates <- data.frame(male_unemployment = 5)"
   ]
  },
  {
   "cell_type": "code",
   "execution_count": 15,
   "metadata": {},
   "outputs": [
    {
     "data": {
      "text/html": [
       "<table>\n",
       "<thead><tr><th scope=col>male_unemployment</th><th scope=col>female_unemployment</th><th scope=col>prediction</th></tr></thead>\n",
       "<tbody>\n",
       "\t<tr><td>2.9     </td><td>4.0     </td><td>3.448245</td></tr>\n",
       "\t<tr><td>6.7     </td><td>7.4     </td><td>6.087456</td></tr>\n",
       "</tbody>\n",
       "</table>\n"
      ],
      "text/latex": [
       "\\begin{tabular}{r|lll}\n",
       " male\\_unemployment & female\\_unemployment & prediction\\\\\n",
       "\\hline\n",
       "\t 2.9      & 4.0      & 3.448245\\\\\n",
       "\t 6.7      & 7.4      & 6.087456\\\\\n",
       "\\end{tabular}\n"
      ],
      "text/markdown": [
       "\n",
       "male_unemployment | female_unemployment | prediction | \n",
       "|---|---|\n",
       "| 2.9      | 4.0      | 3.448245 | \n",
       "| 6.7      | 7.4      | 6.087456 | \n",
       "\n",
       "\n"
      ],
      "text/plain": [
       "  male_unemployment female_unemployment prediction\n",
       "1 2.9               4.0                 3.448245  \n",
       "2 6.7               7.4                 6.087456  "
      ]
     },
     "metadata": {},
     "output_type": "display_data"
    },
    {
     "data": {},
     "metadata": {},
     "output_type": "display_data"
    },
    {
     "data": {
      "text/html": [
       "<strong>1:</strong> 4.90675673466077"
      ],
      "text/latex": [
       "\\textbf{1:} 4.90675673466077"
      ],
      "text/markdown": [
       "**1:** 4.90675673466077"
      ],
      "text/plain": [
       "       1 \n",
       "4.906757 "
      ]
     },
     "metadata": {},
     "output_type": "display_data"
    },
    {
     "data": {
      "image/png": "[encoded data removed]",
      "text/plain": [
       "plot without title"
      ]
     },
     "metadata": {},
     "output_type": "display_data"
    }
   ],
   "source": [
    "# Predict female unemployment in the unemployment data set\n",
    "unemployment$prediction <- predict(unemployment_model)\n",
    "\n",
    "head(unemployment, 2)\n",
    "# Make a plot to compare predictions to actual (prediction on x axis). \n",
    "ggplot(unemployment, aes(x = prediction, y = female_unemployment)) + \n",
    "  geom_point() +\n",
    "  geom_abline(color = \"blue\")\n",
    "\n",
    "# Predict female unemployment rate when male unemployment is 5%\n",
    "pred <- predict(unemployment_model, newdata = newrates)\n",
    "# Print it\n",
    "pred"
   ]
  },
  {
   "cell_type": "markdown",
   "metadata": {},
   "source": [
    "### Multivariate linear regression (Part 1)\n",
    "\n",
    "In this exercise, you will work with the blood pressure dataset, and model blood_pressure as a function of weight and age."
   ]
  },
  {
   "cell_type": "code",
   "execution_count": 16,
   "metadata": {},
   "outputs": [],
   "source": [
    "bloodpressure <- readRDS(\"bloodpressure.rds\")"
   ]
  },
  {
   "cell_type": "code",
   "execution_count": 17,
   "metadata": {},
   "outputs": [
    {
     "data": {
      "text/plain": [
       " blood_pressure       age            weight   \n",
       " Min.   :128.0   Min.   :46.00   Min.   :167  \n",
       " 1st Qu.:140.0   1st Qu.:56.50   1st Qu.:186  \n",
       " Median :153.0   Median :64.00   Median :194  \n",
       " Mean   :150.1   Mean   :62.45   Mean   :195  \n",
       " 3rd Qu.:160.5   3rd Qu.:69.50   3rd Qu.:209  \n",
       " Max.   :168.0   Max.   :74.00   Max.   :220  "
      ]
     },
     "metadata": {},
     "output_type": "display_data"
    },
    {
     "data": {
      "text/plain": [
       "\n",
       "Call:\n",
       "lm(formula = fmla, data = bloodpressure)\n",
       "\n",
       "Residuals:\n",
       "    Min      1Q  Median      3Q     Max \n",
       "-3.4640 -1.1949 -0.4078  1.8511  2.6981 \n",
       "\n",
       "Coefficients:\n",
       "            Estimate Std. Error t value Pr(>|t|)   \n",
       "(Intercept)  30.9941    11.9438   2.595  0.03186 * \n",
       "weight        0.3349     0.1307   2.563  0.03351 * \n",
       "age           0.8614     0.2482   3.470  0.00844 **\n",
       "---\n",
       "Signif. codes:  0 '***' 0.001 '**' 0.01 '*' 0.05 '.' 0.1 ' ' 1\n",
       "\n",
       "Residual standard error: 2.318 on 8 degrees of freedom\n",
       "Multiple R-squared:  0.9768,\tAdjusted R-squared:  0.9711 \n",
       "F-statistic: 168.8 on 2 and 8 DF,  p-value: 2.874e-07\n"
      ]
     },
     "metadata": {},
     "output_type": "display_data"
    },
    {
     "data": {
      "text/plain": [
       "\n",
       "Call:\n",
       "lm(formula = fmla, data = bloodpressure)\n",
       "\n",
       "Coefficients:\n",
       "(Intercept)       weight          age  \n",
       "    30.9941       0.3349       0.8614  \n"
      ]
     },
     "metadata": {},
     "output_type": "display_data"
    }
   ],
   "source": [
    "# bloodpressure is in the workspace\n",
    "summary(bloodpressure)\n",
    "\n",
    "# Create the formula and print it\n",
    "fmla <- blood_pressure ~ weight + age\n",
    "\n",
    "# Fit the model: bloodpressure_model\n",
    "bloodpressure_model <- lm(fmla, data = bloodpressure)\n",
    "\n",
    "# Print bloodpressure_model and call summary() \n",
    "summary(bloodpressure_model)\n",
    "bloodpressure_model"
   ]
  },
  {
   "cell_type": "markdown",
   "metadata": {},
   "source": [
    "One of the advantages of linear regression is that you can interpret the effects of each variable on the input – to a certain extent. In this case the coefficients for both age and weight are positive, which indicates that bloodpressure tends to increase as both age and weight increase. "
   ]
  },
  {
   "cell_type": "code",
   "execution_count": 20,
   "metadata": {},
   "outputs": [
    {
     "data": {},
     "metadata": {},
     "output_type": "display_data"
    },
    {
     "data": {
      "image/png": "[encoded data removed]",
      "text/plain": [
       "plot without title"
      ]
     },
     "metadata": {},
     "output_type": "display_data"
    }
   ],
   "source": [
    "# predict blood pressure using bloodpressure_model :prediction\n",
    "bloodpressure$prediction <- predict(bloodpressure_model)\n",
    "\n",
    "# plot the results\n",
    "ggplot(bloodpressure, aes(x = prediction, y = blood_pressure)) + \n",
    "    geom_point() +\n",
    "    geom_abline(color = \"blue\")"
   ]
  },
  {
   "cell_type": "markdown",
   "metadata": {},
   "source": [
    "The results stay fairly close to the line of perfect prediction, indicating that the model fits the training data well. From a prediction perspective, multivariate linear regression behaves much as simple (one-variable) linear regression does. "
   ]
  },
  {
   "cell_type": "markdown",
   "metadata": {},
   "source": [
    "### Graphically evaluate the unemployment model\n",
    "\n",
    "In this exercise you will graphically evaluate the `unemployment model`, that you fit to the unemployment data in the previous chapter. Recall that the model predicts `female_unemployment` from `male_unemployment`.\n",
    "\n",
    "Then you will calculate the residuals:\n",
    "\n",
    "    residuals <- actual outcome - predicted outcome\n",
    "\n",
    "and plot predictions against residuals. The residual graph will take a slightly different form: you compare the residuals to the horizonal line x=0 (using geom_hline()) rather than to the line x=y. "
   ]
  },
  {
   "cell_type": "code",
   "execution_count": 21,
   "metadata": {},
   "outputs": [
    {
     "data": {
      "text/plain": [
       " male_unemployment female_unemployment   prediction   \n",
       " Min.   :2.900     Min.   :4.000       Min.   :3.448  \n",
       " 1st Qu.:4.900     1st Qu.:4.400       1st Qu.:4.837  \n",
       " Median :6.000     Median :5.200       Median :5.601  \n",
       " Mean   :5.954     Mean   :5.569       Mean   :5.569  \n",
       " 3rd Qu.:6.700     3rd Qu.:6.100       3rd Qu.:6.087  \n",
       " Max.   :9.800     Max.   :7.900       Max.   :8.240  "
      ]
     },
     "metadata": {},
     "output_type": "display_data"
    },
    {
     "data": {
      "text/plain": [
       "\n",
       "Call:\n",
       "lm(formula = fmla, data = unemployment)\n",
       "\n",
       "Residuals:\n",
       "     Min       1Q   Median       3Q      Max \n",
       "-0.77621 -0.34050 -0.09004  0.27911  1.31254 \n",
       "\n",
       "Coefficients:\n",
       "                  Estimate Std. Error t value Pr(>|t|)    \n",
       "(Intercept)        1.43411    0.60340   2.377   0.0367 *  \n",
       "male_unemployment  0.69453    0.09767   7.111 1.97e-05 ***\n",
       "---\n",
       "Signif. codes:  0 '***' 0.001 '**' 0.01 '*' 0.05 '.' 0.1 ' ' 1\n",
       "\n",
       "Residual standard error: 0.5803 on 11 degrees of freedom\n",
       "Multiple R-squared:  0.8213,\tAdjusted R-squared:  0.8051 \n",
       "F-statistic: 50.56 on 1 and 11 DF,  p-value: 1.966e-05\n"
      ]
     },
     "metadata": {},
     "output_type": "display_data"
    },
    {
     "data": {},
     "metadata": {},
     "output_type": "display_data"
    },
    {
     "data": {},
     "metadata": {},
     "output_type": "display_data"
    },
    {
     "data": {
      "image/png": "[encoded data removed]",
      "text/plain": [
       "plot without title"
      ]
     },
     "metadata": {},
     "output_type": "display_data"
    },
    {
     "data": {
      "image/png": "[encoded data removed]",
      "text/plain": [
       "plot without title"
      ]
     },
     "metadata": {},
     "output_type": "display_data"
    }
   ],
   "source": [
    "# unemployment is in the workspace\n",
    "summary(unemployment)\n",
    "\n",
    "# unemployment_model is in the workspace\n",
    "summary(unemployment_model)\n",
    "\n",
    "# Make predictions from the model\n",
    "unemployment$predictions <- predict(unemployment_model)\n",
    "\n",
    "# Fill in the blanks to plot predictions (on x-axis) versus the female_unemployment rates\n",
    "ggplot(unemployment, aes(x = predictions, y = female_unemployment)) + \n",
    "  geom_point() + \n",
    "  geom_abline()\n",
    "\n",
    "# Calculate residuals\n",
    "unemployment$residuals <- unemployment$predictions - unemployment$female_unemployment\n",
    "\n",
    "# Fill in the blanks to plot predictions (on x-axis) versus the residuals\n",
    "ggplot(unemployment, aes(x = predictions, y = residuals)) + \n",
    "  geom_pointrange(aes(ymin = 0, ymax = residuals)) + \n",
    "  geom_hline(yintercept = 0, linetype = 3) + \n",
    "  ggtitle(\"residuals vs. linear model prediction\")"
   ]
  },
  {
   "cell_type": "markdown",
   "metadata": {},
   "source": [
    "### The gain curve to evaluate the unemployment model\n",
    "\n",
    "In the previous exercise you made predictions about female_unemployment and visualized the predictions and the residuals. Now, you will also plot the gain curve of the unemployment_model's predictions against actual female_unemployment using the `WVPlots::GainCurvePlot()` function.\n",
    "\n",
    "For situations where order is more important than exact values, the gain curve helps you check if the model's predictions sort in the same order as the true outcome.\n",
    "\n",
    "Calls to the function `GainCurvePlot()` look like:\n",
    "\n",
    "    GainCurvePlot(frame, xvar, truthvar, title)\n",
    "\n",
    "where `frame` is a data frame, `xvar` and `truthvar` are strings naming the prediction and actual outcome columns of frame and `title` is the title of the plot.\n",
    "\n",
    "When the predictions sort in exactly the same order, the relative Gini coefficient is 1. When the model sorts poorly, the relative Gini coefficient is close to zero, or even negative."
   ]
  },
  {
   "cell_type": "code",
   "execution_count": 23,
   "metadata": {},
   "outputs": [
    {
     "data": {
      "text/plain": [
       " male_unemployment female_unemployment   prediction     predictions   \n",
       " Min.   :2.900     Min.   :4.000       Min.   :3.448   Min.   :3.448  \n",
       " 1st Qu.:4.900     1st Qu.:4.400       1st Qu.:4.837   1st Qu.:4.837  \n",
       " Median :6.000     Median :5.200       Median :5.601   Median :5.601  \n",
       " Mean   :5.954     Mean   :5.569       Mean   :5.569   Mean   :5.569  \n",
       " 3rd Qu.:6.700     3rd Qu.:6.100       3rd Qu.:6.087   3rd Qu.:6.087  \n",
       " Max.   :9.800     Max.   :7.900       Max.   :8.240   Max.   :8.240  \n",
       "   residuals       \n",
       " Min.   :-1.31254  \n",
       " 1st Qu.:-0.27911  \n",
       " Median : 0.09004  \n",
       " Mean   : 0.00000  \n",
       " 3rd Qu.: 0.34050  \n",
       " Max.   : 0.77621  "
      ]
     },
     "metadata": {},
     "output_type": "display_data"
    },
    {
     "data": {
      "text/plain": [
       "\n",
       "Call:\n",
       "lm(formula = fmla, data = unemployment)\n",
       "\n",
       "Residuals:\n",
       "     Min       1Q   Median       3Q      Max \n",
       "-0.77621 -0.34050 -0.09004  0.27911  1.31254 \n",
       "\n",
       "Coefficients:\n",
       "                  Estimate Std. Error t value Pr(>|t|)    \n",
       "(Intercept)        1.43411    0.60340   2.377   0.0367 *  \n",
       "male_unemployment  0.69453    0.09767   7.111 1.97e-05 ***\n",
       "---\n",
       "Signif. codes:  0 '***' 0.001 '**' 0.01 '*' 0.05 '.' 0.1 ' ' 1\n",
       "\n",
       "Residual standard error: 0.5803 on 11 degrees of freedom\n",
       "Multiple R-squared:  0.8213,\tAdjusted R-squared:  0.8051 \n",
       "F-statistic: 50.56 on 1 and 11 DF,  p-value: 1.966e-05\n"
      ]
     },
     "metadata": {},
     "output_type": "display_data"
    },
    {
     "data": {},
     "metadata": {},
     "output_type": "display_data"
    },
    {
     "data": {
      "image/png": "[encoded data removed]",
      "text/plain": [
       "plot without title"
      ]
     },
     "metadata": {},
     "output_type": "display_data"
    }
   ],
   "source": [
    "# unemployment is in the workspace (with predictions)\n",
    "summary(unemployment)\n",
    "\n",
    "# unemployment_model is in the workspace\n",
    "summary(unemployment_model)\n",
    "\n",
    "# Load the package WVPlots\n",
    "library(WVPlots)\n",
    "\n",
    "# Plot the Gain Curve\n",
    "GainCurvePlot(unemployment, \"predictions\", \"female_unemployment\", \"Unemployment model\")"
   ]
  },
  {
   "cell_type": "markdown",
   "metadata": {},
   "source": [
    "A relative gini coefficient close to one shows that the model correctly sorts high unemployment situations from lower ones"
   ]
  },
  {
   "cell_type": "markdown",
   "metadata": {},
   "source": [
    "### Calculate RMSE\n",
    "\n",
    "In this exercise you will calculate the RMSE of your unemployment model. In the previous coding exercises, you added two columns to the unemployment dataset:\n",
    "\n",
    "* the model's predictions (predictions column)\n",
    "* the residuals between the predictions and the outcome (residuals column)\n",
    "\n",
    "You can calculate the RMSE from a vector of residuals, $res$, as:\n",
    "\n",
    "$$ RMSE=\\sqrt{mean(res^2)}$$\n",
    "\n",
    "You want $RMSE$ to be small. How small is \"small\"? One heuristic is to compare the RMSE to the standard deviation of the outcome. With a good model, the RMSE should be smaller."
   ]
  },
  {
   "cell_type": "code",
   "execution_count": 24,
   "metadata": {},
   "outputs": [
    {
     "data": {
      "text/plain": [
       " male_unemployment female_unemployment   prediction     predictions   \n",
       " Min.   :2.900     Min.   :4.000       Min.   :3.448   Min.   :3.448  \n",
       " 1st Qu.:4.900     1st Qu.:4.400       1st Qu.:4.837   1st Qu.:4.837  \n",
       " Median :6.000     Median :5.200       Median :5.601   Median :5.601  \n",
       " Mean   :5.954     Mean   :5.569       Mean   :5.569   Mean   :5.569  \n",
       " 3rd Qu.:6.700     3rd Qu.:6.100       3rd Qu.:6.087   3rd Qu.:6.087  \n",
       " Max.   :9.800     Max.   :7.900       Max.   :8.240   Max.   :8.240  \n",
       "   residuals       \n",
       " Min.   :-1.31254  \n",
       " 1st Qu.:-0.27911  \n",
       " Median : 0.09004  \n",
       " Mean   : 0.00000  \n",
       " 3rd Qu.: 0.34050  \n",
       " Max.   : 0.77621  "
      ]
     },
     "metadata": {},
     "output_type": "display_data"
    },
    {
     "data": {
      "text/html": [
       "0.533761238893794"
      ],
      "text/latex": [
       "0.533761238893794"
      ],
      "text/markdown": [
       "0.533761238893794"
      ],
      "text/plain": [
       "[1] 0.5337612"
      ]
     },
     "metadata": {},
     "output_type": "display_data"
    },
    {
     "data": {
      "text/html": [
       "1.31427080687744"
      ],
      "text/latex": [
       "1.31427080687744"
      ],
      "text/markdown": [
       "1.31427080687744"
      ],
      "text/plain": [
       "[1] 1.314271"
      ]
     },
     "metadata": {},
     "output_type": "display_data"
    }
   ],
   "source": [
    "# unemployment is in the workspace\n",
    "summary(unemployment)\n",
    "\n",
    "# For convenience put the residuals in the variable res\n",
    "res <- unemployment$residuals\n",
    "\n",
    "# Calculate RMSE, assign it to the variable rmse and print it\n",
    "(rmse <- sqrt(mean(res^2)))\n",
    "\n",
    "# Calculate the standard deviation of female_unemployment and print it\n",
    "(sd_unemployment <- sd(unemployment$female_unemployment))"
   ]
  },
  {
   "cell_type": "markdown",
   "metadata": {},
   "source": [
    " An RMSE much smaller than the outcome's standard deviation suggests a model that predicts well. "
   ]
  },
  {
   "cell_type": "markdown",
   "metadata": {},
   "source": [
    "### Calculate R-Squared\n",
    "\n",
    "Now that you've calculated the RMSE of your model's predictions, you will examine how well the model fits the data: that is, how much variance does it explain. You can do this using $R^2$.\n",
    "\n",
    "Suppose $y$ is the true outcome, $p$ is the prediction from the model, and $res=y−p$ are the residuals of the predictions.\n",
    "\n",
    "Then the total sum of squares $tss$ (\"total variance\") of the data is:\n",
    "\n",
    "$$ tss=\\sum{(y−\\hat{y})^2} $$\n",
    "\n",
    "where $\\hat{y}$ is the mean value of $y$.\n",
    "\n",
    "The residual sum of squared errors of the model, $rss$ is:\n",
    "\n",
    "$$ rss=\\sum{res^2} $$\n",
    "\n",
    "$R^2$ (R-Squared), the \"variance explained\" by the model, is then:\n",
    "\n",
    "$$ 1−\\frac{rss}{tss} $$\n",
    "\n",
    "After you calculate $R^2$, you will compare what you computed with the $R^2$ reported by `glance()`. `glance()` returns a one-row data frame; for a linear regression model, one of the columns returned is the $R^2$ of the model on the training data.\n",
    "\n",
    "The data frame unemployment is in your workspace, with the columns predictions and residuals that you calculated in a previous exercise."
   ]
  },
  {
   "cell_type": "code",
   "execution_count": 25,
   "metadata": {},
   "outputs": [
    {
     "data": {
      "text/plain": [
       " male_unemployment female_unemployment   prediction     predictions   \n",
       " Min.   :2.900     Min.   :4.000       Min.   :3.448   Min.   :3.448  \n",
       " 1st Qu.:4.900     1st Qu.:4.400       1st Qu.:4.837   1st Qu.:4.837  \n",
       " Median :6.000     Median :5.200       Median :5.601   Median :5.601  \n",
       " Mean   :5.954     Mean   :5.569       Mean   :5.569   Mean   :5.569  \n",
       " 3rd Qu.:6.700     3rd Qu.:6.100       3rd Qu.:6.087   3rd Qu.:6.087  \n",
       " Max.   :9.800     Max.   :7.900       Max.   :8.240   Max.   :8.240  \n",
       "   residuals       \n",
       " Min.   :-1.31254  \n",
       " 1st Qu.:-0.27911  \n",
       " Median : 0.09004  \n",
       " Mean   : 0.00000  \n",
       " 3rd Qu.: 0.34050  \n",
       " Max.   : 0.77621  "
      ]
     },
     "metadata": {},
     "output_type": "display_data"
    },
    {
     "data": {
      "text/plain": [
       "\n",
       "Call:\n",
       "lm(formula = fmla, data = unemployment)\n",
       "\n",
       "Residuals:\n",
       "     Min       1Q   Median       3Q      Max \n",
       "-0.77621 -0.34050 -0.09004  0.27911  1.31254 \n",
       "\n",
       "Coefficients:\n",
       "                  Estimate Std. Error t value Pr(>|t|)    \n",
       "(Intercept)        1.43411    0.60340   2.377   0.0367 *  \n",
       "male_unemployment  0.69453    0.09767   7.111 1.97e-05 ***\n",
       "---\n",
       "Signif. codes:  0 '***' 0.001 '**' 0.01 '*' 0.05 '.' 0.1 ' ' 1\n",
       "\n",
       "Residual standard error: 0.5803 on 11 degrees of freedom\n",
       "Multiple R-squared:  0.8213,\tAdjusted R-squared:  0.8051 \n",
       "F-statistic: 50.56 on 1 and 11 DF,  p-value: 1.966e-05\n"
      ]
     },
     "metadata": {},
     "output_type": "display_data"
    },
    {
     "data": {
      "text/html": [
       "5.56923073976923"
      ],
      "text/latex": [
       "5.56923073976923"
      ],
      "text/markdown": [
       "5.56923073976923"
      ],
      "text/plain": [
       "[1] 5.569231"
      ]
     },
     "metadata": {},
     "output_type": "display_data"
    },
    {
     "data": {
      "text/html": [
       "20.7276930457233"
      ],
      "text/latex": [
       "20.7276930457233"
      ],
      "text/markdown": [
       "20.7276930457233"
      ],
      "text/plain": [
       "[1] 20.72769"
      ]
     },
     "metadata": {},
     "output_type": "display_data"
    },
    {
     "data": {
      "text/html": [
       "3.70371378189069"
      ],
      "text/latex": [
       "3.70371378189069"
      ],
      "text/markdown": [
       "3.70371378189069"
      ],
      "text/plain": [
       "[1] 3.703714"
      ]
     },
     "metadata": {},
     "output_type": "display_data"
    },
    {
     "data": {
      "text/html": [
       "0.821315677836378"
      ],
      "text/latex": [
       "0.821315677836378"
      ],
      "text/markdown": [
       "0.821315677836378"
      ],
      "text/plain": [
       "[1] 0.8213157"
      ]
     },
     "metadata": {},
     "output_type": "display_data"
    },
    {
     "data": {
      "text/html": [
       "0.821315677836378"
      ],
      "text/latex": [
       "0.821315677836378"
      ],
      "text/markdown": [
       "0.821315677836378"
      ],
      "text/plain": [
       "[1] 0.8213157"
      ]
     },
     "metadata": {},
     "output_type": "display_data"
    }
   ],
   "source": [
    "# unemployment is in your workspace\n",
    "summary(unemployment)\n",
    "\n",
    "# unemployment_model is in the workspace\n",
    "summary(unemployment_model)\n",
    "\n",
    "# Calculate mean female_unemployment: fe_mean. Print it\n",
    "(fe_mean <- mean(unemployment$female_unemployment))\n",
    "\n",
    "# Calculate total sum of squares: tss. Print it\n",
    "(tss <- sum((unemployment$female_unemployment - fe_mean)^2))\n",
    "\n",
    "# Calculate residual sum of squares: rss. Print it\n",
    "(rss <- sum(unemployment$residuals^2))\n",
    "\n",
    "# Calculate R-squared: rsq. Print it. Is it a good fit?\n",
    "(rsq <- 1 -(rss / tss))\n",
    "\n",
    "# Get R-squared from glance. Print it\n",
    "(rsq_glance <- glance(unemployment_model)$r.squared)"
   ]
  },
  {
   "cell_type": "markdown",
   "metadata": {},
   "source": [
    "An R-squared close to one suggests a model that predicts well. "
   ]
  },
  {
   "cell_type": "markdown",
   "metadata": {},
   "source": [
    "### Correlation and R-squared\n",
    "\n",
    "The linear correlation of two variables, $x$ and $y$, measures the strength of the linear relationship between them. When $x$ and $y$ are respectively:\n",
    "\n",
    "* the outcomes of a regression model that minimizes squared-error (like linear regression) and\n",
    "* the true outcomes of the training data,\n",
    "\n",
    "then the square of the correlation is the same as $R^2$. You will verify that in this exercise."
   ]
  },
  {
   "cell_type": "code",
   "execution_count": 26,
   "metadata": {},
   "outputs": [
    {
     "data": {
      "text/html": [
       "0.906264684204553"
      ],
      "text/latex": [
       "0.906264684204553"
      ],
      "text/markdown": [
       "0.906264684204553"
      ],
      "text/plain": [
       "[1] 0.9062647"
      ]
     },
     "metadata": {},
     "output_type": "display_data"
    },
    {
     "data": {
      "text/html": [
       "0.821315677836377"
      ],
      "text/latex": [
       "0.821315677836377"
      ],
      "text/markdown": [
       "0.821315677836377"
      ],
      "text/plain": [
       "[1] 0.8213157"
      ]
     },
     "metadata": {},
     "output_type": "display_data"
    },
    {
     "data": {
      "text/html": [
       "0.821315677836378"
      ],
      "text/latex": [
       "0.821315677836378"
      ],
      "text/markdown": [
       "0.821315677836378"
      ],
      "text/plain": [
       "[1] 0.8213157"
      ]
     },
     "metadata": {},
     "output_type": "display_data"
    }
   ],
   "source": [
    "# Get the correlation between the prediction and true outcome: rho and print it\n",
    "(rho <- cor(unemployment$predictions, unemployment$female_unemployment))\n",
    "\n",
    "# Square rho: rho2 and print it\n",
    "(rho2 <- rho^2)\n",
    "\n",
    "# Get R-squared from glance and print it\n",
    "(rsq_glance <- glance(unemployment_model)$r.squared)"
   ]
  },
  {
   "cell_type": "markdown",
   "metadata": {},
   "source": [
    "Remember this equivalence is only true for the training data, and only for models that minimize squared error. "
   ]
  },
  {
   "cell_type": "markdown",
   "metadata": {},
   "source": [
    "### Generating a random test/train split\n",
    "\n",
    "For the next several exercises you will use the mpg data from the package ggplot2. The data describes the characteristics of several makes and models of cars from different years. The goal is to predict city fuel efficiency from highway fuel efficiency.\n",
    "\n",
    "In this exercise, you will split `mpg` into a training set `mpg_train` (75% of the data) and a test set `mpg_test` (25% of the data). One way to do this is to generate a column of uniform random numbers between 0 and 1, using the function `runif()`.\n",
    "\n",
    "If you have a data set dframe of size $N$, and you want a random subset of approximately size $100∗X$% of $N$ (where $X$ is between 0 and 1), then:\n",
    "\n",
    "1. Generate a vector of uniform random numbers: `gp = runif(N)`.\n",
    "2. `dframe[gp < X,]` will be about the right size.\n",
    "3. `dframe[gp >= X,]` will be the complement.\n"
   ]
  },
  {
   "cell_type": "code",
   "execution_count": 27,
   "metadata": {},
   "outputs": [
    {
     "data": {
      "text/plain": [
       " manufacturer          model               displ            year     \n",
       " Length:234         Length:234         Min.   :1.600   Min.   :1999  \n",
       " Class :character   Class :character   1st Qu.:2.400   1st Qu.:1999  \n",
       " Mode  :character   Mode  :character   Median :3.300   Median :2004  \n",
       "                                       Mean   :3.472   Mean   :2004  \n",
       "                                       3rd Qu.:4.600   3rd Qu.:2008  \n",
       "                                       Max.   :7.000   Max.   :2008  \n",
       "      cyl           trans               drv                 cty       \n",
       " Min.   :4.000   Length:234         Length:234         Min.   : 9.00  \n",
       " 1st Qu.:4.000   Class :character   Class :character   1st Qu.:14.00  \n",
       " Median :6.000   Mode  :character   Mode  :character   Median :17.00  \n",
       " Mean   :5.889                                         Mean   :16.86  \n",
       " 3rd Qu.:8.000                                         3rd Qu.:19.00  \n",
       " Max.   :8.000                                         Max.   :35.00  \n",
       "      hwy             fl               class          \n",
       " Min.   :12.00   Length:234         Length:234        \n",
       " 1st Qu.:18.00   Class :character   Class :character  \n",
       " Median :24.00   Mode  :character   Mode  :character  \n",
       " Mean   :23.44                                        \n",
       " 3rd Qu.:27.00                                        \n",
       " Max.   :44.00                                        "
      ]
     },
     "metadata": {},
     "output_type": "display_data"
    },
    {
     "data": {
      "text/html": [
       "<ol class=list-inline>\n",
       "\t<li>234</li>\n",
       "\t<li>11</li>\n",
       "</ol>\n"
      ],
      "text/latex": [
       "\\begin{enumerate*}\n",
       "\\item 234\n",
       "\\item 11\n",
       "\\end{enumerate*}\n"
      ],
      "text/markdown": [
       "1. 234\n",
       "2. 11\n",
       "\n",
       "\n"
      ],
      "text/plain": [
       "[1] 234  11"
      ]
     },
     "metadata": {},
     "output_type": "display_data"
    },
    {
     "data": {
      "text/html": [
       "234"
      ],
      "text/latex": [
       "234"
      ],
      "text/markdown": [
       "234"
      ],
      "text/plain": [
       "[1] 234"
      ]
     },
     "metadata": {},
     "output_type": "display_data"
    },
    {
     "data": {
      "text/html": [
       "176"
      ],
      "text/latex": [
       "176"
      ],
      "text/markdown": [
       "176"
      ],
      "text/plain": [
       "[1] 176"
      ]
     },
     "metadata": {},
     "output_type": "display_data"
    },
    {
     "data": {
      "text/html": [
       "190"
      ],
      "text/latex": [
       "190"
      ],
      "text/markdown": [
       "190"
      ],
      "text/plain": [
       "[1] 190"
      ]
     },
     "metadata": {},
     "output_type": "display_data"
    },
    {
     "data": {
      "text/html": [
       "44"
      ],
      "text/latex": [
       "44"
      ],
      "text/markdown": [
       "44"
      ],
      "text/plain": [
       "[1] 44"
      ]
     },
     "metadata": {},
     "output_type": "display_data"
    }
   ],
   "source": [
    "# mpg is in the workspace\n",
    "summary(mpg)\n",
    "dim(mpg)\n",
    "\n",
    "# Use nrow to get the number of rows in mpg (N) and print it\n",
    "(N <- nrow(mpg))\n",
    "\n",
    "# Calculate how many rows 75% of N should be and print it\n",
    "# Hint: use round() to get an integer\n",
    "(target <-round(0.75 * N))\n",
    "\n",
    "# Create the vector of N uniform random variables: gp\n",
    "gp <- runif(N)\n",
    "\n",
    "# Use gp to create the training set: mpg_train (75% of data) and mpg_test (25% of data)\n",
    "mpg_train <- mpg[gp < 0.75,]\n",
    "mpg_test <- mpg[gp >= 0.75,]\n",
    "\n",
    "# Use nrow() to examine mpg_train and mpg_test\n",
    "nrow(mpg_train)\n",
    "nrow(mpg_test)"
   ]
  },
  {
   "cell_type": "markdown",
   "metadata": {},
   "source": [
    "### Train a model using test/train split\n",
    "\n",
    "Now that you have split the mpg dataset into `mpg_train` and `mpg_test`, you will use `mpg_train` to train a model to predict city fuel efficiency (`cty`) from highway fuel efficiency (`hwy`)."
   ]
  },
  {
   "cell_type": "code",
   "execution_count": 28,
   "metadata": {},
   "outputs": [
    {
     "data": {
      "text/plain": [
       " manufacturer          model               displ            year     \n",
       " Length:190         Length:190         Min.   :1.600   Min.   :1999  \n",
       " Class :character   Class :character   1st Qu.:2.500   1st Qu.:1999  \n",
       " Mode  :character   Mode  :character   Median :3.300   Median :2008  \n",
       "                                       Mean   :3.539   Mean   :2004  \n",
       "                                       3rd Qu.:4.675   3rd Qu.:2008  \n",
       "                                       Max.   :7.000   Max.   :2008  \n",
       "      cyl           trans               drv                 cty       \n",
       " Min.   :4.000   Length:190         Length:190         Min.   : 9.00  \n",
       " 1st Qu.:4.000   Class :character   Class :character   1st Qu.:14.00  \n",
       " Median :6.000   Mode  :character   Mode  :character   Median :16.00  \n",
       " Mean   :5.984                                         Mean   :16.71  \n",
       " 3rd Qu.:8.000                                         3rd Qu.:19.00  \n",
       " Max.   :8.000                                         Max.   :35.00  \n",
       "      hwy             fl               class          \n",
       " Min.   :12.00   Length:190         Length:190        \n",
       " 1st Qu.:17.25   Class :character   Class :character  \n",
       " Median :24.00   Mode  :character   Mode  :character  \n",
       " Mean   :23.27                                        \n",
       " 3rd Qu.:27.00                                        \n",
       " Max.   :44.00                                        "
      ]
     },
     "metadata": {},
     "output_type": "display_data"
    },
    {
     "data": {
      "text/plain": [
       "cty ~ hwy"
      ]
     },
     "metadata": {},
     "output_type": "display_data"
    },
    {
     "data": {
      "text/plain": [
       "\n",
       "Call:\n",
       "lm(formula = fmla, data = mpg_train)\n",
       "\n",
       "Residuals:\n",
       "    Min      1Q  Median      3Q     Max \n",
       "-2.8727 -0.7517 -0.1405  0.5278  4.7415 \n",
       "\n",
       "Coefficients:\n",
       "            Estimate Std. Error t value Pr(>|t|)    \n",
       "(Intercept)  1.04209    0.36960   2.819  0.00533 ** \n",
       "hwy          0.67323    0.01538  43.779  < 2e-16 ***\n",
       "---\n",
       "Signif. codes:  0 '***' 0.001 '**' 0.01 '*' 0.05 '.' 0.1 ' ' 1\n",
       "\n",
       "Residual standard error: 1.272 on 188 degrees of freedom\n",
       "Multiple R-squared:  0.9107,\tAdjusted R-squared:  0.9102 \n",
       "F-statistic:  1917 on 1 and 188 DF,  p-value: < 2.2e-16\n"
      ]
     },
     "metadata": {},
     "output_type": "display_data"
    }
   ],
   "source": [
    "# mpg_train is in the workspace\n",
    "summary(mpg_train)\n",
    "\n",
    "# Create a formula to express cty as a function of hwy: fmla and print it.\n",
    "(fmla <- cty ~ hwy)\n",
    "\n",
    "# Now use lm() to build a model mpg_model from mpg_train that predicts cty from hwy \n",
    "mpg_model <- lm(fmla, data = mpg_train)\n",
    "\n",
    "# Use summary() to examine the model\n",
    "summary(mpg_model)"
   ]
  },
  {
   "cell_type": "markdown",
   "metadata": {},
   "source": [
    "### Evaluate a model using test/train split\n",
    "\n",
    "Now you will test the model `mpg_model` on the test data, `mpg_test`. Functions `rmse()` and `r_squared()` to calculate RMSE and R-squared have been provided for convenience:\n",
    "\n",
    "    rmse(predcol, ycol)\n",
    "    r_squared(predcol, ycol)\n",
    "\n",
    "where:\n",
    "\n",
    "* predcol: The predicted values\n",
    "* ycol: The actual outcome\n",
    "\n",
    "You will also plot the predictions vs. the outcome.\n",
    "\n",
    "Generally, model performance is better on the training data than the test data (though sometimes the test set \"gets lucky\"). A slight difference in performance is okay; if the performance on training is significantly better, there is a problem."
   ]
  },
  {
   "cell_type": "code",
   "execution_count": 29,
   "metadata": {},
   "outputs": [],
   "source": [
    "# RMSE function to calculate the RMSE\n",
    "rmse <- function(predcol, ycol) {\n",
    "  res = predcol-ycol\n",
    "  sqrt(mean(res^2))\n",
    "}\n",
    "\n",
    "# function to calculate r^2\n",
    "r_squared <- function(predcol, ycol) {\n",
    "  tss = sum((ycol - mean(ycol))^2 )\n",
    "  rss = sum((predcol - ycol)^2 )\n",
    "  1 - rss/tss\n",
    "}"
   ]
  },
  {
   "cell_type": "code",
   "execution_count": 30,
   "metadata": {},
   "outputs": [
    {
     "data": {
      "text/plain": [
       "bloodpressure : 'data.frame':\t11 obs. of  4 variables:\n",
       " $ blood_pressure: int  132 143 153 162 154 168 137 149 159 128 ...\n",
       " $ age           : int  52 59 67 73 64 74 54 61 65 46 ...\n",
       " $ weight        : int  173 184 194 211 196 220 188 188 207 167 ...\n",
       " $ prediction    : num  134 143 154 165 152 ...\n",
       "bloodpressure_model : List of 12\n",
       " $ coefficients : Named num [1:3] 30.994 0.335 0.861\n",
       " $ residuals    : Named num [1:11] -1.718 -0.432 -0.672 -2.533 2.243 ...\n",
       " $ effects      : Named num [1:11] -497.8 41.82 -8.04 -2.09 2.66 ...\n",
       " $ rank         : int 3\n",
       " $ fitted.values: Named num [1:11] 134 143 154 165 152 ...\n",
       " $ assign       : int [1:3] 0 1 2\n",
       " $ qr           :List of 5\n",
       " $ df.residual  : int 8\n",
       " $ xlevels      : Named list()\n",
       " $ call         : language lm(formula = fmla, data = bloodpressure)\n",
       " $ terms        :Classes 'terms', 'formula'  language blood_pressure ~ weight + age\n",
       " $ model        :'data.frame':\t11 obs. of  3 variables:\n",
       "fe_mean :  num 5.57\n",
       "fmla : Class 'formula'  language cty ~ hwy\n",
       "gp :  num [1:234] 0.3713 0.0296 0.4202 0.1062 0.3563 ...\n",
       "mpg_model : List of 12\n",
       " $ coefficients : Named num [1:2] 1.042 0.673\n",
       " $ residuals    : Named num [1:190] -2.566 0.434 -1.912 -0.239 -2.546 ...\n",
       " $ effects      : Named num [1:190] -230.339 -55.686 -1.789 -0.109 -2.389 ...\n",
       " $ rank         : int 2\n",
       " $ fitted.values: Named num [1:190] 20.6 20.6 21.9 21.2 18.5 ...\n",
       " $ assign       : int [1:2] 0 1\n",
       " $ qr           :List of 5\n",
       " $ df.residual  : int 188\n",
       " $ xlevels      : Named list()\n",
       " $ call         : language lm(formula = fmla, data = mpg_train)\n",
       " $ terms        :Classes 'terms', 'formula'  language cty ~ hwy\n",
       " $ model        :'data.frame':\t190 obs. of  2 variables:\n",
       "mpg_test : Classes 'tbl_df', 'tbl' and 'data.frame':\t44 obs. of  11 variables:\n",
       " $ manufacturer: chr  \"audi\" \"audi\" \"audi\" \"chevrolet\" ...\n",
       " $ model       : chr  \"a4 quattro\" \"a4 quattro\" \"a4 quattro\" \"corvette\" ...\n",
       " $ displ       : num  2 2 3.1 5.7 2.4 2.4 3.8 3.7 4.7 4.7 ...\n",
       " $ year        : int  2008 2008 2008 1999 2008 1999 1999 2008 2008 2008 ...\n",
       " $ cyl         : int  4 4 6 8 4 4 6 6 8 8 ...\n",
       " $ trans       : chr  \"manual(m6)\" \"auto(s6)\" \"auto(s6)\" \"auto(l4)\" ...\n",
       " $ drv         : chr  \"4\" \"4\" \"4\" \"r\" ...\n",
       " $ cty         : int  20 19 17 15 22 18 15 14 14 14 ...\n",
       " $ hwy         : int  28 27 25 23 30 24 22 18 19 19 ...\n",
       " $ fl          : chr  \"p\" \"p\" \"p\" \"p\" ...\n",
       " $ class       : chr  \"compact\" \"compact\" \"compact\" \"2seater\" ...\n",
       "mpg_train : Classes 'tbl_df', 'tbl' and 'data.frame':\t190 obs. of  11 variables:\n",
       " $ manufacturer: chr  \"audi\" \"audi\" \"audi\" \"audi\" ...\n",
       " $ model       : chr  \"a4\" \"a4\" \"a4\" \"a4\" ...\n",
       " $ displ       : num  1.8 1.8 2 2 2.8 2.8 3.1 1.8 1.8 2.8 ...\n",
       " $ year        : int  1999 1999 2008 2008 1999 1999 2008 1999 1999 1999 ...\n",
       " $ cyl         : int  4 4 4 4 6 6 6 4 4 6 ...\n",
       " $ trans       : chr  \"auto(l5)\" \"manual(m5)\" \"manual(m6)\" \"auto(av)\" ...\n",
       " $ drv         : chr  \"f\" \"f\" \"f\" \"f\" ...\n",
       " $ cty         : int  18 21 20 21 16 18 18 18 16 15 ...\n",
       " $ hwy         : int  29 29 31 30 26 26 27 26 25 25 ...\n",
       " $ fl          : chr  \"p\" \"p\" \"p\" \"p\" ...\n",
       " $ class       : chr  \"compact\" \"compact\" \"compact\" \"compact\" ...\n",
       "N :  int 234\n",
       "newrates : 'data.frame':\t1 obs. of  1 variable:\n",
       " $ male_unemployment: num 5\n",
       "pred :  Named num 4.91\n",
       "r_squared : function (predcol, ycol)  \n",
       "res :  num [1:13] -0.552 -1.313 -0.163 -0.279 0.34 ...\n",
       "rho :  num 0.906\n",
       "rho2 :  num 0.821\n",
       "rmse : function (predcol, ycol)  \n",
       "rsq :  num 0.821\n",
       "rsq_glance :  num 0.821\n",
       "rss :  num 3.7\n",
       "sd_unemployment :  num 1.31\n",
       "target :  num 176\n",
       "tss :  num 20.7\n",
       "unemployment : 'data.frame':\t13 obs. of  5 variables:\n",
       " $ male_unemployment  : num  2.9 6.7 4.9 7.9 9.8 ...\n",
       " $ female_unemployment: num  4 7.4 5 7.2 7.9 ...\n",
       " $ prediction         : num  3.45 6.09 4.84 6.92 8.24 ...\n",
       " $ predictions        : num  3.45 6.09 4.84 6.92 8.24 ...\n",
       " $ residuals          : num  -0.552 -1.313 -0.163 -0.279 0.34 ...\n",
       "unemployment_model : List of 12\n",
       " $ coefficients : Named num [1:2] 1.434 0.695\n",
       " $ residuals    : Named num [1:13] 0.552 1.313 0.163 0.279 -0.34 ...\n",
       " $ effects      : Named num [1:13] -20.08 -4.126 0.106 -0.264 -1.192 ...\n",
       " $ rank         : int 2\n",
       " $ fitted.values: Named num [1:13] 3.45 6.09 4.84 6.92 8.24 ...\n",
       " $ assign       : int [1:2] 0 1\n",
       " $ qr           :List of 5\n",
       " $ df.residual  : int 11\n",
       " $ xlevels      : Named list()\n",
       " $ call         : language lm(formula = fmla, data = unemployment)\n",
       " $ terms        :Classes 'terms', 'formula'  language female_unemployment ~ male_unemployment\n",
       " $ model        :'data.frame':\t13 obs. of  2 variables:"
      ]
     },
     "metadata": {},
     "output_type": "display_data"
    }
   ],
   "source": [
    "# Examine the objects in the workspace\n",
    "ls.str()"
   ]
  },
  {
   "cell_type": "code",
   "execution_count": 31,
   "metadata": {},
   "outputs": [
    {
     "data": {
      "text/html": [
       "1.26525863111761"
      ],
      "text/latex": [
       "1.26525863111761"
      ],
      "text/markdown": [
       "1.26525863111761"
      ],
      "text/plain": [
       "[1] 1.265259"
      ]
     },
     "metadata": {},
     "output_type": "display_data"
    },
    {
     "data": {
      "text/html": [
       "1.17614388951608"
      ],
      "text/latex": [
       "1.17614388951608"
      ],
      "text/markdown": [
       "1.17614388951608"
      ],
      "text/plain": [
       "[1] 1.176144"
      ]
     },
     "metadata": {},
     "output_type": "display_data"
    },
    {
     "data": {
      "text/html": [
       "0.910672530244147"
      ],
      "text/latex": [
       "0.910672530244147"
      ],
      "text/markdown": [
       "0.910672530244147"
      ],
      "text/plain": [
       "[1] 0.9106725"
      ]
     },
     "metadata": {},
     "output_type": "display_data"
    },
    {
     "data": {
      "text/html": [
       "0.923246108765164"
      ],
      "text/latex": [
       "0.923246108765164"
      ],
      "text/markdown": [
       "0.923246108765164"
      ],
      "text/plain": [
       "[1] 0.9232461"
      ]
     },
     "metadata": {},
     "output_type": "display_data"
    },
    {
     "data": {},
     "metadata": {},
     "output_type": "display_data"
    },
    {
     "data": {
      "image/png": "[encoded data removed]",
      "text/plain": [
       "plot without title"
      ]
     },
     "metadata": {},
     "output_type": "display_data"
    }
   ],
   "source": [
    "# predict cty from hwy for the training set\n",
    "mpg_train$pred <- predict(mpg_model)\n",
    "\n",
    "# predict cty from hwy for the test set\n",
    "mpg_test$pred <- predict(mpg_model, newdata = mpg_test)\n",
    "\n",
    "# Evaluate the rmse on both training and test data and print them\n",
    "(rmse_train <- rmse(mpg_train$pred, mpg_train$cty))\n",
    "(rmse_test <- rmse(mpg_test$pred, mpg_test$cty))\n",
    "\n",
    "\n",
    "# Evaluate the r-squared on both training and test data.and print them\n",
    "(rsq_train <- r_squared(mpg_train$pred, mpg_train$cty))\n",
    "(rsq_test <- r_squared(mpg_test$pred, mpg_test$cty))\n",
    "\n",
    "# Plot the predictions (on the x-axis) against the outcome (cty) on the test data\n",
    "ggplot(mpg_test, aes(x = pred, y = cty)) + \n",
    "  geom_point() + \n",
    "  geom_abline()"
   ]
  },
  {
   "cell_type": "markdown",
   "metadata": {},
   "source": [
    " Good performance on the test data is more confirmation that the model works as expected. "
   ]
  },
  {
   "cell_type": "markdown",
   "metadata": {},
   "source": [
    "### Create a cross validation plan\n",
    "\n",
    "There are several ways to implement an n-fold cross validation plan. In this exercise you will create such a plan using `vtreat::kWayCrossValidation()`, and examine it.\n",
    "\n",
    "`kWayCrossValidation()` creates a cross validation plan with the following call:\n",
    "\n",
    "    splitPlan <- kWayCrossValidation(nRows, nSplits, dframe, y)\n",
    "\n",
    "where `nRows` is the number of rows of data to be split, and `nSplits` is the desired number of cross-validation folds.\n",
    "\n",
    "Strictly speaking, dframe and y aren't used by kWayCrossValidation; they are there for compatibility with other vtreat data partitioning functions. You can set them both to NULL.\n",
    "\n",
    "The resulting splitPlan is a list of nSplits elements; each element contains two vectors:\n",
    "\n",
    "* train: the indices of dframe that will form the training set\n",
    "* app: the indices of dframe that will form the test (or application) set\n",
    "\n",
    "In this exercise you will create a 3-fold cross-validation plan for the data set mpg.\n"
   ]
  },
  {
   "cell_type": "code",
   "execution_count": 33,
   "metadata": {},
   "outputs": [],
   "source": [
    "library(vtreat)"
   ]
  },
  {
   "cell_type": "code",
   "execution_count": 36,
   "metadata": {},
   "outputs": [
    {
     "data": {
      "text/html": [
       "234"
      ],
      "text/latex": [
       "234"
      ],
      "text/markdown": [
       "234"
      ],
      "text/plain": [
       "[1] 234"
      ]
     },
     "metadata": {},
     "output_type": "display_data"
    },
    {
     "name": "stdout",
     "output_type": "stream",
     "text": [
      "List of 3\n",
      " $ :List of 2\n",
      "  ..$ train: int [1:156] 1 2 3 4 8 10 12 16 19 20 ...\n",
      "  ..$ app  : int [1:78] 220 40 58 15 98 56 185 68 37 48 ...\n",
      " $ :List of 2\n",
      "  ..$ train: int [1:156] 1 2 3 5 6 7 9 10 11 13 ...\n",
      "  ..$ app  : int [1:78] 57 77 144 21 78 88 132 215 197 218 ...\n",
      " $ :List of 2\n",
      "  ..$ train: int [1:156] 4 5 6 7 8 9 11 12 13 14 ...\n",
      "  ..$ app  : int [1:78] 62 124 182 184 97 31 74 159 79 158 ...\n",
      " - attr(*, \"splitmethod\")= chr \"kwaycross\"\n"
     ]
    }
   ],
   "source": [
    "# Get the number of rows in mpg\n",
    "nRows <- nrow(mpg)\n",
    "nRows\n",
    "# Implement the 3-fold cross-fold plan with vtreat\n",
    "splitPlan <- kWayCrossValidation(nRows, 3, NULL, NULL)\n",
    "\n",
    "# Examine the split plan\n",
    "str(splitPlan)"
   ]
  },
  {
   "cell_type": "markdown",
   "metadata": {},
   "source": [
    "### Evaluate a modeling procedure using n-fold cross-validation\n",
    "\n",
    "In this exercise you will use splitPlan, the 3-fold cross validation plan from the previous exercise, to make predictions from a model that predicts `mpg$cty` from `mpg$hwy`.\n",
    "\n",
    "Cross-validation predicts how well a model built from all the data will perform on new data. As with the test/train split, for a good modeling procedure, cross-validation performance and training performance should be close."
   ]
  },
  {
   "cell_type": "code",
   "execution_count": 37,
   "metadata": {},
   "outputs": [
    {
     "data": {
      "text/html": [
       "1.24704498525316"
      ],
      "text/latex": [
       "1.24704498525316"
      ],
      "text/markdown": [
       "1.24704498525316"
      ],
      "text/plain": [
       "[1] 1.247045"
      ]
     },
     "metadata": {},
     "output_type": "display_data"
    },
    {
     "data": {
      "text/html": [
       "1.25538750362784"
      ],
      "text/latex": [
       "1.25538750362784"
      ],
      "text/markdown": [
       "1.25538750362784"
      ],
      "text/plain": [
       "[1] 1.255388"
      ]
     },
     "metadata": {},
     "output_type": "display_data"
    }
   ],
   "source": [
    "# Run the 3-fold cross validation plan from splitPlan\n",
    "k <- 3 # Number of folds\n",
    "# Initialize a column of the appropriate length\n",
    "mpg$pred.cv <- 0 \n",
    "\n",
    "for(i in 1:k) {\n",
    "  # get the ith split\n",
    "  split <- splitPlan[[i]]\n",
    "  # Build a model on the training data from the split\n",
    "  model <- lm(cty ~ hwy, data = mpg[split$train,])\n",
    "  # make predictions on the application data from this split\n",
    "  mpg$pred.cv[split$app] <- predict(model, newdata = mpg[split$app,])\n",
    "}\n",
    "\n",
    "# Predict from a full model\n",
    "mpg$pred <- predict(lm(cty ~ hwy, data = mpg))\n",
    "\n",
    "# Get the rmse of the full model's predictions\n",
    "rmse(mpg$pred, mpg$cty)\n",
    "\n",
    "# Get the rmse of the cross-validation predictions\n",
    "rmse(mpg$pred.cv, mpg$cty)"
   ]
  },
  {
   "cell_type": "markdown",
   "metadata": {},
   "source": [
    "You have successfully estimated a model's out-of-sample error via cross-validation. Remember, cross-validation validates the modeling process, not an actual model. "
   ]
  },
  {
   "cell_type": "code",
   "execution_count": 46,
   "metadata": {},
   "outputs": [
    {
     "data": {
      "text/plain": [
       "    Flowers           Time       Intensity  \n",
       " Min.   :31.30   Min.   :1.0   Min.   :150  \n",
       " 1st Qu.:45.42   1st Qu.:1.0   1st Qu.:300  \n",
       " Median :54.75   Median :1.5   Median :525  \n",
       " Mean   :56.14   Mean   :1.5   Mean   :525  \n",
       " 3rd Qu.:64.45   3rd Qu.:2.0   3rd Qu.:750  \n",
       " Max.   :78.00   Max.   :2.0   Max.   :900  "
      ]
     },
     "metadata": {},
     "output_type": "display_data"
    }
   ],
   "source": [
    "library(Sleuth3)"
   ]
  },
  {
   "cell_type": "markdown",
   "metadata": {},
   "source": [
    "## Categorical inputs\n",
    "### Examining the structure of categorical inputs\n",
    "\n",
    "For this exercise you will call `model.matrix()` to examine how R represents data with both categorical and numerical inputs for modeling. The dataset flowers (derived from the Sleuth3 package). It has the following columns:\n",
    "\n",
    "* Flowers: the average number of flowers on a meadowfoam plant\n",
    "* Intensity: the intensity of a light treatment applied to the plant\n",
    "* Time: A categorical variable - when (Late or Early) in the lifecycle the light treatment occurred\n",
    "\n",
    "The ultimate goal is to predict Flowers as a function of Time and Intensity."
   ]
  },
  {
   "cell_type": "code",
   "execution_count": 47,
   "metadata": {},
   "outputs": [
    {
     "name": "stdout",
     "output_type": "stream",
     "text": [
      "'data.frame':\t24 obs. of  3 variables:\n",
      " $ Flowers  : num  62.3 77.4 55.3 54.2 49.6 61.9 39.4 45.7 31.3 44.9 ...\n",
      " $ Time     : chr  \"Late\" \"Late\" \"Late\" \"Late\" ...\n",
      " $ Intensity: int  150 150 300 300 450 450 600 600 750 750 ...\n"
     ]
    },
    {
     "data": {
      "text/html": [
       "<ol class=list-inline>\n",
       "\t<li>'Late'</li>\n",
       "\t<li>'Early'</li>\n",
       "</ol>\n"
      ],
      "text/latex": [
       "\\begin{enumerate*}\n",
       "\\item 'Late'\n",
       "\\item 'Early'\n",
       "\\end{enumerate*}\n"
      ],
      "text/markdown": [
       "1. 'Late'\n",
       "2. 'Early'\n",
       "\n",
       "\n"
      ],
      "text/plain": [
       "[1] \"Late\"  \"Early\""
      ]
     },
     "metadata": {},
     "output_type": "display_data"
    }
   ],
   "source": [
    "flowers <- case0901\n",
    "flowers$Time[flowers$Time == 1] <- \"Late\"\n",
    "flowers$Time[flowers$Time == 2] <- \"Early\"\n",
    "# Call str on flowers to see the types of each column\n",
    "str(flowers)\n",
    "\n",
    "# Use unique() to see how many possible values Time takes\n",
    "unique(flowers$Time)"
   ]
  },
  {
   "cell_type": "code",
   "execution_count": 48,
   "metadata": {},
   "outputs": [
    {
     "data": {
      "text/plain": [
       "Flowers ~ Intensity + Time"
      ]
     },
     "metadata": {},
     "output_type": "display_data"
    },
    {
     "data": {
      "text/html": [
       "<table>\n",
       "<thead><tr><th scope=col>Flowers</th><th scope=col>Time</th><th scope=col>Intensity</th></tr></thead>\n",
       "<tbody>\n",
       "\t<tr><td>62.3 </td><td>Late </td><td>150  </td></tr>\n",
       "\t<tr><td>77.4 </td><td>Late </td><td>150  </td></tr>\n",
       "\t<tr><td>55.3 </td><td>Late </td><td>300  </td></tr>\n",
       "\t<tr><td>54.2 </td><td>Late </td><td>300  </td></tr>\n",
       "\t<tr><td>49.6 </td><td>Late </td><td>450  </td></tr>\n",
       "\t<tr><td>61.9 </td><td>Late </td><td>450  </td></tr>\n",
       "\t<tr><td>39.4 </td><td>Late </td><td>600  </td></tr>\n",
       "\t<tr><td>45.7 </td><td>Late </td><td>600  </td></tr>\n",
       "\t<tr><td>31.3 </td><td>Late </td><td>750  </td></tr>\n",
       "\t<tr><td>44.9 </td><td>Late </td><td>750  </td></tr>\n",
       "\t<tr><td>36.8 </td><td>Late </td><td>900  </td></tr>\n",
       "\t<tr><td>41.9 </td><td>Late </td><td>900  </td></tr>\n",
       "\t<tr><td>77.8 </td><td>Early</td><td>150  </td></tr>\n",
       "\t<tr><td>75.6 </td><td>Early</td><td>150  </td></tr>\n",
       "\t<tr><td>69.1 </td><td>Early</td><td>300  </td></tr>\n",
       "\t<tr><td>78.0 </td><td>Early</td><td>300  </td></tr>\n",
       "\t<tr><td>57.0 </td><td>Early</td><td>450  </td></tr>\n",
       "\t<tr><td>71.1 </td><td>Early</td><td>450  </td></tr>\n",
       "\t<tr><td>62.9 </td><td>Early</td><td>600  </td></tr>\n",
       "\t<tr><td>52.2 </td><td>Early</td><td>600  </td></tr>\n",
       "</tbody>\n",
       "</table>\n"
      ],
      "text/latex": [
       "\\begin{tabular}{r|lll}\n",
       " Flowers & Time & Intensity\\\\\n",
       "\\hline\n",
       "\t 62.3  & Late  & 150  \\\\\n",
       "\t 77.4  & Late  & 150  \\\\\n",
       "\t 55.3  & Late  & 300  \\\\\n",
       "\t 54.2  & Late  & 300  \\\\\n",
       "\t 49.6  & Late  & 450  \\\\\n",
       "\t 61.9  & Late  & 450  \\\\\n",
       "\t 39.4  & Late  & 600  \\\\\n",
       "\t 45.7  & Late  & 600  \\\\\n",
       "\t 31.3  & Late  & 750  \\\\\n",
       "\t 44.9  & Late  & 750  \\\\\n",
       "\t 36.8  & Late  & 900  \\\\\n",
       "\t 41.9  & Late  & 900  \\\\\n",
       "\t 77.8  & Early & 150  \\\\\n",
       "\t 75.6  & Early & 150  \\\\\n",
       "\t 69.1  & Early & 300  \\\\\n",
       "\t 78.0  & Early & 300  \\\\\n",
       "\t 57.0  & Early & 450  \\\\\n",
       "\t 71.1  & Early & 450  \\\\\n",
       "\t 62.9  & Early & 600  \\\\\n",
       "\t 52.2  & Early & 600  \\\\\n",
       "\\end{tabular}\n"
      ],
      "text/markdown": [
       "\n",
       "Flowers | Time | Intensity | \n",
       "|---|---|---|---|---|---|---|---|---|---|---|---|---|---|---|---|---|---|---|---|\n",
       "| 62.3  | Late  | 150   | \n",
       "| 77.4  | Late  | 150   | \n",
       "| 55.3  | Late  | 300   | \n",
       "| 54.2  | Late  | 300   | \n",
       "| 49.6  | Late  | 450   | \n",
       "| 61.9  | Late  | 450   | \n",
       "| 39.4  | Late  | 600   | \n",
       "| 45.7  | Late  | 600   | \n",
       "| 31.3  | Late  | 750   | \n",
       "| 44.9  | Late  | 750   | \n",
       "| 36.8  | Late  | 900   | \n",
       "| 41.9  | Late  | 900   | \n",
       "| 77.8  | Early | 150   | \n",
       "| 75.6  | Early | 150   | \n",
       "| 69.1  | Early | 300   | \n",
       "| 78.0  | Early | 300   | \n",
       "| 57.0  | Early | 450   | \n",
       "| 71.1  | Early | 450   | \n",
       "| 62.9  | Early | 600   | \n",
       "| 52.2  | Early | 600   | \n",
       "\n",
       "\n"
      ],
      "text/plain": [
       "   Flowers Time  Intensity\n",
       "1  62.3    Late  150      \n",
       "2  77.4    Late  150      \n",
       "3  55.3    Late  300      \n",
       "4  54.2    Late  300      \n",
       "5  49.6    Late  450      \n",
       "6  61.9    Late  450      \n",
       "7  39.4    Late  600      \n",
       "8  45.7    Late  600      \n",
       "9  31.3    Late  750      \n",
       "10 44.9    Late  750      \n",
       "11 36.8    Late  900      \n",
       "12 41.9    Late  900      \n",
       "13 77.8    Early 150      \n",
       "14 75.6    Early 150      \n",
       "15 69.1    Early 300      \n",
       "16 78.0    Early 300      \n",
       "17 57.0    Early 450      \n",
       "18 71.1    Early 450      \n",
       "19 62.9    Early 600      \n",
       "20 52.2    Early 600      "
      ]
     },
     "metadata": {},
     "output_type": "display_data"
    },
    {
     "data": {
      "text/html": [
       "<table>\n",
       "<thead><tr><th></th><th scope=col>(Intercept)</th><th scope=col>Intensity</th><th scope=col>TimeLate</th></tr></thead>\n",
       "<tbody>\n",
       "\t<tr><th scope=row>1</th><td>1  </td><td>150</td><td>1  </td></tr>\n",
       "\t<tr><th scope=row>2</th><td>1  </td><td>150</td><td>1  </td></tr>\n",
       "\t<tr><th scope=row>3</th><td>1  </td><td>300</td><td>1  </td></tr>\n",
       "\t<tr><th scope=row>4</th><td>1  </td><td>300</td><td>1  </td></tr>\n",
       "\t<tr><th scope=row>5</th><td>1  </td><td>450</td><td>1  </td></tr>\n",
       "\t<tr><th scope=row>6</th><td>1  </td><td>450</td><td>1  </td></tr>\n",
       "\t<tr><th scope=row>7</th><td>1  </td><td>600</td><td>1  </td></tr>\n",
       "\t<tr><th scope=row>8</th><td>1  </td><td>600</td><td>1  </td></tr>\n",
       "\t<tr><th scope=row>9</th><td>1  </td><td>750</td><td>1  </td></tr>\n",
       "\t<tr><th scope=row>10</th><td>1  </td><td>750</td><td>1  </td></tr>\n",
       "\t<tr><th scope=row>11</th><td>1  </td><td>900</td><td>1  </td></tr>\n",
       "\t<tr><th scope=row>12</th><td>1  </td><td>900</td><td>1  </td></tr>\n",
       "\t<tr><th scope=row>13</th><td>1  </td><td>150</td><td>0  </td></tr>\n",
       "\t<tr><th scope=row>14</th><td>1  </td><td>150</td><td>0  </td></tr>\n",
       "\t<tr><th scope=row>15</th><td>1  </td><td>300</td><td>0  </td></tr>\n",
       "\t<tr><th scope=row>16</th><td>1  </td><td>300</td><td>0  </td></tr>\n",
       "\t<tr><th scope=row>17</th><td>1  </td><td>450</td><td>0  </td></tr>\n",
       "\t<tr><th scope=row>18</th><td>1  </td><td>450</td><td>0  </td></tr>\n",
       "\t<tr><th scope=row>19</th><td>1  </td><td>600</td><td>0  </td></tr>\n",
       "\t<tr><th scope=row>20</th><td>1  </td><td>600</td><td>0  </td></tr>\n",
       "</tbody>\n",
       "</table>\n"
      ],
      "text/latex": [
       "\\begin{tabular}{r|lll}\n",
       "  & (Intercept) & Intensity & TimeLate\\\\\n",
       "\\hline\n",
       "\t1 & 1   & 150 & 1  \\\\\n",
       "\t2 & 1   & 150 & 1  \\\\\n",
       "\t3 & 1   & 300 & 1  \\\\\n",
       "\t4 & 1   & 300 & 1  \\\\\n",
       "\t5 & 1   & 450 & 1  \\\\\n",
       "\t6 & 1   & 450 & 1  \\\\\n",
       "\t7 & 1   & 600 & 1  \\\\\n",
       "\t8 & 1   & 600 & 1  \\\\\n",
       "\t9 & 1   & 750 & 1  \\\\\n",
       "\t10 & 1   & 750 & 1  \\\\\n",
       "\t11 & 1   & 900 & 1  \\\\\n",
       "\t12 & 1   & 900 & 1  \\\\\n",
       "\t13 & 1   & 150 & 0  \\\\\n",
       "\t14 & 1   & 150 & 0  \\\\\n",
       "\t15 & 1   & 300 & 0  \\\\\n",
       "\t16 & 1   & 300 & 0  \\\\\n",
       "\t17 & 1   & 450 & 0  \\\\\n",
       "\t18 & 1   & 450 & 0  \\\\\n",
       "\t19 & 1   & 600 & 0  \\\\\n",
       "\t20 & 1   & 600 & 0  \\\\\n",
       "\\end{tabular}\n"
      ],
      "text/markdown": [
       "\n",
       "| <!--/--> | (Intercept) | Intensity | TimeLate | \n",
       "|---|---|---|---|---|---|---|---|---|---|---|---|---|---|---|---|---|---|---|---|\n",
       "| 1 | 1   | 150 | 1   | \n",
       "| 2 | 1   | 150 | 1   | \n",
       "| 3 | 1   | 300 | 1   | \n",
       "| 4 | 1   | 300 | 1   | \n",
       "| 5 | 1   | 450 | 1   | \n",
       "| 6 | 1   | 450 | 1   | \n",
       "| 7 | 1   | 600 | 1   | \n",
       "| 8 | 1   | 600 | 1   | \n",
       "| 9 | 1   | 750 | 1   | \n",
       "| 10 | 1   | 750 | 1   | \n",
       "| 11 | 1   | 900 | 1   | \n",
       "| 12 | 1   | 900 | 1   | \n",
       "| 13 | 1   | 150 | 0   | \n",
       "| 14 | 1   | 150 | 0   | \n",
       "| 15 | 1   | 300 | 0   | \n",
       "| 16 | 1   | 300 | 0   | \n",
       "| 17 | 1   | 450 | 0   | \n",
       "| 18 | 1   | 450 | 0   | \n",
       "| 19 | 1   | 600 | 0   | \n",
       "| 20 | 1   | 600 | 0   | \n",
       "\n",
       "\n"
      ],
      "text/plain": [
       "   (Intercept) Intensity TimeLate\n",
       "1  1           150       1       \n",
       "2  1           150       1       \n",
       "3  1           300       1       \n",
       "4  1           300       1       \n",
       "5  1           450       1       \n",
       "6  1           450       1       \n",
       "7  1           600       1       \n",
       "8  1           600       1       \n",
       "9  1           750       1       \n",
       "10 1           750       1       \n",
       "11 1           900       1       \n",
       "12 1           900       1       \n",
       "13 1           150       0       \n",
       "14 1           150       0       \n",
       "15 1           300       0       \n",
       "16 1           300       0       \n",
       "17 1           450       0       \n",
       "18 1           450       0       \n",
       "19 1           600       0       \n",
       "20 1           600       0       "
      ]
     },
     "metadata": {},
     "output_type": "display_data"
    }
   ],
   "source": [
    "(fmla <- as.formula(\"Flowers ~ Intensity + Time\"))\n",
    "\n",
    "# Use fmla and model.matrix to see how the data is represented for modeling\n",
    "mmat <- model.matrix(fmla, flowers)\n",
    "\n",
    "# Examine the first 20 lines of flowers\n",
    "head(flowers, 20)\n",
    "\n",
    "# Examine the first 20 lines of mmat\n",
    "head(mmat, 20)"
   ]
  },
  {
   "cell_type": "markdown",
   "metadata": {},
   "source": [
    "### Modeling with categorical inputs\n",
    "\n",
    "For this exercise you will fit a linear model to the flowers data, to predict Flowers as a function of Time and Intensity."
   ]
  },
  {
   "cell_type": "code",
   "execution_count": 49,
   "metadata": {},
   "outputs": [
    {
     "data": {
      "text/plain": [
       "  (Intercept)   Intensity      TimeLate  \n",
       " Min.   :1    Min.   :150   Min.   :0.0  \n",
       " 1st Qu.:1    1st Qu.:300   1st Qu.:0.0  \n",
       " Median :1    Median :525   Median :0.5  \n",
       " Mean   :1    Mean   :525   Mean   :0.5  \n",
       " 3rd Qu.:1    3rd Qu.:750   3rd Qu.:1.0  \n",
       " Max.   :1    Max.   :900   Max.   :1.0  "
      ]
     },
     "metadata": {},
     "output_type": "display_data"
    },
    {
     "data": {
      "text/plain": [
       "\n",
       "Call:\n",
       "lm(formula = fmla, data = flowers)\n",
       "\n",
       "Residuals:\n",
       "   Min     1Q Median     3Q    Max \n",
       "-9.652 -4.139 -1.558  5.632 12.165 \n",
       "\n",
       "Coefficients:\n",
       "              Estimate Std. Error t value Pr(>|t|)    \n",
       "(Intercept)  83.464167   3.273772  25.495  < 2e-16 ***\n",
       "Intensity    -0.040471   0.005132  -7.886 1.04e-07 ***\n",
       "TimeLate    -12.158333   2.629557  -4.624 0.000146 ***\n",
       "---\n",
       "Signif. codes:  0 '***' 0.001 '**' 0.01 '*' 0.05 '.' 0.1 ' ' 1\n",
       "\n",
       "Residual standard error: 6.441 on 21 degrees of freedom\n",
       "Multiple R-squared:  0.7992,\tAdjusted R-squared:   0.78 \n",
       "F-statistic: 41.78 on 2 and 21 DF,  p-value: 4.786e-08\n"
      ]
     },
     "metadata": {},
     "output_type": "display_data"
    },
    {
     "data": {},
     "metadata": {},
     "output_type": "display_data"
    },
    {
     "data": {
      "image/png": "[encoded data removed]",
      "text/plain": [
       "plot without title"
      ]
     },
     "metadata": {},
     "output_type": "display_data"
    }
   ],
   "source": [
    "# Fit a model to predict Flowers from Intensity and Time : flower_model\n",
    "flower_model <- lm(fmla, data = flowers)\n",
    "\n",
    "# Use summary on mmat to remind yourself of its structure\n",
    "summary(mmat)\n",
    "\n",
    "# Use summary to examine flower_model \n",
    "summary(flower_model)\n",
    "\n",
    "# Predict the number of flowers on each plant\n",
    "flowers$predictions <- predict(flower_model)\n",
    "\n",
    "# Plot predictions vs actual flowers (predictions on x-axis)\n",
    "ggplot(flowers, aes(x = predictions, y = Flowers)) + \n",
    "  geom_point() +\n",
    "  geom_abline(color = \"blue\") "
   ]
  },
  {
   "cell_type": "markdown",
   "metadata": {},
   "source": [
    "### Modeling an interaction\n",
    "\n",
    "In this exercise you will use interactions to model the effect of gender and gastric activity on alcohol metabolism.\n",
    "\n",
    "The data frame alcohol has columns:\n",
    "\n",
    "* Metabol: the alcohol metabolism rate\n",
    "* Gastric: the rate of gastric alcohol dehydrogenase activity\n",
    "* Sex: the sex of the drinker (Male or Female)\n",
    "\n",
    "In the video, we fit three models to the alcohol data:\n",
    "\n",
    "* one with only additive (main effect) terms : Metabol ~ Gastric + Sex\n",
    "* two models, each with interactions between gastric activity and sex\n",
    "\n",
    "We saw that one of the models with interaction terms had a better R-squared than the additive model, suggesting that using interaction terms gives a better fit. In this exercise we will compare the R-squared of one of the interaction models to the main-effects-only model.\n",
    "\n",
    "Recall that the operator : designates the interaction between two variables. The operator * designates the interaction between the two variables, plus the main effects.\n",
    "\n",
    "    x*y = x + y + x:y\n"
   ]
  },
  {
   "cell_type": "code",
   "execution_count": 50,
   "metadata": {},
   "outputs": [],
   "source": [
    "alcohol <- case1101"
   ]
  },
  {
   "cell_type": "code",
   "execution_count": 51,
   "metadata": {},
   "outputs": [
    {
     "data": {
      "text/plain": [
       "    Subject         Metabol          Gastric          Sex    \n",
       " Min.   : 1.00   Min.   : 0.100   Min.   :0.800   Female:18  \n",
       " 1st Qu.: 8.75   1st Qu.: 0.600   1st Qu.:1.200   Male  :14  \n",
       " Median :16.50   Median : 1.700   Median :1.600              \n",
       " Mean   :16.50   Mean   : 2.422   Mean   :1.863              \n",
       " 3rd Qu.:24.25   3rd Qu.: 2.925   3rd Qu.:2.200              \n",
       " Max.   :32.00   Max.   :12.300   Max.   :5.200              \n",
       "          Alcohol  \n",
       " Alcoholic    : 8  \n",
       " Non-alcoholic:24  \n",
       "                   \n",
       "                   \n",
       "                   \n",
       "                   "
      ]
     },
     "metadata": {},
     "output_type": "display_data"
    },
    {
     "data": {
      "text/plain": [
       "Metabol ~ Gastric + Sex"
      ]
     },
     "metadata": {},
     "output_type": "display_data"
    },
    {
     "data": {
      "text/plain": [
       "Metabol ~ Gastric + Gastric:Sex"
      ]
     },
     "metadata": {},
     "output_type": "display_data"
    },
    {
     "data": {
      "text/plain": [
       "\n",
       "Call:\n",
       "lm(formula = fmla_add, data = alcohol)\n",
       "\n",
       "Residuals:\n",
       "    Min      1Q  Median      3Q     Max \n",
       "-2.2779 -0.6328 -0.0966  0.5783  4.5703 \n",
       "\n",
       "Coefficients:\n",
       "            Estimate Std. Error t value Pr(>|t|)    \n",
       "(Intercept)  -1.9466     0.5198  -3.745 0.000796 ***\n",
       "Gastric       1.9656     0.2674   7.352 4.24e-08 ***\n",
       "SexMale       1.6174     0.5114   3.163 0.003649 ** \n",
       "---\n",
       "Signif. codes:  0 '***' 0.001 '**' 0.01 '*' 0.05 '.' 0.1 ' ' 1\n",
       "\n",
       "Residual standard error: 1.331 on 29 degrees of freedom\n",
       "Multiple R-squared:  0.7654,\tAdjusted R-squared:  0.7492 \n",
       "F-statistic: 47.31 on 2 and 29 DF,  p-value: 7.41e-10\n"
      ]
     },
     "metadata": {},
     "output_type": "display_data"
    },
    {
     "data": {
      "text/plain": [
       "\n",
       "Call:\n",
       "lm(formula = fmla_interaction, data = alcohol)\n",
       "\n",
       "Residuals:\n",
       "    Min      1Q  Median      3Q     Max \n",
       "-2.4656 -0.5091  0.0143  0.5660  4.0668 \n",
       "\n",
       "Coefficients:\n",
       "                Estimate Std. Error t value Pr(>|t|)    \n",
       "(Intercept)      -0.7504     0.5310  -1.413 0.168236    \n",
       "Gastric           1.1489     0.3450   3.331 0.002372 ** \n",
       "Gastric:SexMale   1.0422     0.2412   4.321 0.000166 ***\n",
       "---\n",
       "Signif. codes:  0 '***' 0.001 '**' 0.01 '*' 0.05 '.' 0.1 ' ' 1\n",
       "\n",
       "Residual standard error: 1.204 on 29 degrees of freedom\n",
       "Multiple R-squared:  0.8081,\tAdjusted R-squared:  0.7948 \n",
       "F-statistic: 61.05 on 2 and 29 DF,  p-value: 4.033e-11\n"
      ]
     },
     "metadata": {},
     "output_type": "display_data"
    }
   ],
   "source": [
    "# alcohol is in the workspace\n",
    "summary(alcohol)\n",
    "\n",
    "# Create the formula with main effects only\n",
    "(fmla_add <- Metabol ~ Gastric + Sex)\n",
    "\n",
    "# Create the formula with interactions\n",
    "(fmla_interaction <- Metabol ~ Gastric + Gastric:Sex)\n",
    "\n",
    "# Fit the main effects only model\n",
    "model_add <- lm(fmla_add, data = alcohol)\n",
    "\n",
    "# Fit the interaction model\n",
    "model_interaction <- lm(fmla_interaction, data = alcohol)\n",
    "\n",
    "# Call summary on both models and compare\n",
    "summary(model_add)\n",
    "summary(model_interaction)"
   ]
  },
  {
   "cell_type": "markdown",
   "metadata": {},
   "source": [
    "An interaction appears to give a better fit to the data. In the next exercise we will check the models' out-of-sample performance. "
   ]
  },
  {
   "cell_type": "markdown",
   "metadata": {},
   "source": [
    "### Modeling an interaction \n",
    "\n",
    "In this exercise, you will compare the performance of the interaction model you fit in the previous exercise to the performance of a main-effects only model. Because this data set is small, we will use cross-validation to simulate making predictions on out-of-sample data.\n",
    "\n",
    "You will begin to use the dplyr package to do calculations.\n",
    "\n",
    "* `mutate()` adds new columns to a tbl (a type of data frame)\n",
    "* `group_by()` specifies how rows are grouped in a tbl\n",
    "* `summarize()` computes summary statistics of a column\n",
    "\n",
    "You will also use tidyr's `gather()` which takes multiple columns and collapses them into key-value pairs."
   ]
  },
  {
   "cell_type": "code",
   "execution_count": 52,
   "metadata": {},
   "outputs": [
    {
     "data": {
      "text/plain": [
       "    Subject         Metabol          Gastric          Sex    \n",
       " Min.   : 1.00   Min.   : 0.100   Min.   :0.800   Female:18  \n",
       " 1st Qu.: 8.75   1st Qu.: 0.600   1st Qu.:1.200   Male  :14  \n",
       " Median :16.50   Median : 1.700   Median :1.600              \n",
       " Mean   :16.50   Mean   : 2.422   Mean   :1.863              \n",
       " 3rd Qu.:24.25   3rd Qu.: 2.925   3rd Qu.:2.200              \n",
       " Max.   :32.00   Max.   :12.300   Max.   :5.200              \n",
       "          Alcohol  \n",
       " Alcoholic    : 8  \n",
       " Non-alcoholic:24  \n",
       "                   \n",
       "                   \n",
       "                   \n",
       "                   "
      ]
     },
     "metadata": {},
     "output_type": "display_data"
    },
    {
     "data": {
      "text/plain": [
       "Metabol ~ Gastric + Sex"
      ]
     },
     "metadata": {},
     "output_type": "display_data"
    },
    {
     "data": {
      "text/plain": [
       "Metabol ~ Gastric + Gastric:Sex"
      ]
     },
     "metadata": {},
     "output_type": "display_data"
    },
    {
     "data": {
      "text/html": [
       "<table>\n",
       "<thead><tr><th scope=col>modeltype</th><th scope=col>rmse</th></tr></thead>\n",
       "<tbody>\n",
       "\t<tr><td>pred_add        </td><td>1.635218        </td></tr>\n",
       "\t<tr><td>pred_interaction</td><td>1.375261        </td></tr>\n",
       "</tbody>\n",
       "</table>\n"
      ],
      "text/latex": [
       "\\begin{tabular}{r|ll}\n",
       " modeltype & rmse\\\\\n",
       "\\hline\n",
       "\t pred\\_add         & 1.635218          \\\\\n",
       "\t pred\\_interaction & 1.375261          \\\\\n",
       "\\end{tabular}\n"
      ],
      "text/markdown": [
       "\n",
       "modeltype | rmse | \n",
       "|---|---|\n",
       "| pred_add         | 1.635218         | \n",
       "| pred_interaction | 1.375261         | \n",
       "\n",
       "\n"
      ],
      "text/plain": [
       "  modeltype        rmse    \n",
       "1 pred_add         1.635218\n",
       "2 pred_interaction 1.375261"
      ]
     },
     "metadata": {},
     "output_type": "display_data"
    }
   ],
   "source": [
    "# alcohol is in the workspace\n",
    "summary(alcohol)\n",
    "\n",
    "# Both the formulae are in the workspace\n",
    "fmla_add\n",
    "fmla_interaction\n",
    "\n",
    "# Create the splitting plan for 3-fold cross validation\n",
    "set.seed(34245)  # set the seed for reproducibility\n",
    "splitPlan <- kWayCrossValidation(nrow(alcohol), 3, NULL, NULL)\n",
    "\n",
    "# Sample code: Get cross-val predictions for main-effects only model\n",
    "alcohol$pred_add <- 0  # initialize the prediction vector\n",
    "for(i in 1:3) {\n",
    "  split <- splitPlan[[i]]\n",
    "  model_add <- lm(fmla_add, data = alcohol[split$train, ])\n",
    "  alcohol$pred_add[split$app] <- predict(model_add, newdata = alcohol[split$app, ])\n",
    "}\n",
    "\n",
    "# Get the cross-val predictions for the model with interactions\n",
    "alcohol$pred_interaction <- 0 # initialize the prediction vector\n",
    "for(i in 1:3) {\n",
    "  split <- splitPlan[[i]]\n",
    "  model_interaction <- lm(fmla_interaction, data = alcohol[split$train, ])\n",
    "  alcohol$pred_interaction[split$app] <- predict(model_interaction, newdata = alcohol[split$app, ])\n",
    "}\n",
    "\n",
    "# Get RMSE\n",
    "alcohol %>% \n",
    "  gather(key = modeltype, value = pred, pred_add, pred_interaction) %>%\n",
    "  mutate(residuals = Metabol - pred) %>%\n",
    "  group_by(modeltype) %>%\n",
    "  summarize(rmse = sqrt(mean(residuals^2)))"
   ]
  },
  {
   "cell_type": "markdown",
   "metadata": {},
   "source": [
    "Cross-validation confirms that a model with interaction will likely give better predictions. "
   ]
  },
  {
   "cell_type": "markdown",
   "metadata": {},
   "source": [
    "### Relative error\n",
    "\n",
    "In this exercise, you will compare relative error to absolute error. For the purposes of modeling, we will define relative error as\n",
    "\n",
    "$$ rel=\\frac{(pred−y)}{y} $$\n",
    "\n",
    "that is, the error is relative to the true outcome. You will measure the overall relative error of a model using root mean squared relative error:\n",
    "\n",
    "$$ rmse_rel=\\sqrt{(\\hat{rel^2})} $$\n",
    "\n",
    "where $\\hat{rel^2}$ is the mean of $rel^2$.\n",
    "\n",
    "The example (toy) dataset `fdata` is loaded in your workspace. It includes the columns:\n",
    "\n",
    "* `y`: the true output to be predicted by some model; imagine it is the amount of money a customer will spend on a visit to your store.\n",
    "* `pred`: the predictions of a model that predicts y.\n",
    "* `label`: categorical: whether y comes from a population that makes small purchases, or large ones.\n",
    "\n",
    "You want to know which model does \"better\": the one predicting the small purchases, or the one predicting large ones."
   ]
  },
  {
   "cell_type": "markdown",
   "metadata": {},
   "source": [
    "### Modeling log-transformed monetary output\n",
    "\n",
    "In this exercise, you will practice modeling on log-transformed monetary output, and then transforming the \"log-money\" predictions back into monetary units. The data loaded into your workspace records subjects' incomes in 2005 (Income2005), as well as the results of several aptitude tests taken by the subjects in 1981:\n",
    "\n",
    "    Arith\n",
    "    Word\n",
    "    Parag\n",
    "    Math\n",
    "    AFQT (Percentile on the Armed Forces Qualifying Test)\n",
    "\n",
    "The data have already been split into training and test sets (income_train and income_test respectively) and are in the workspace. You will build a model of log(income) from the inputs, and then convert log(income) back into income."
   ]
  },
  {
   "cell_type": "code",
   "execution_count": 55,
   "metadata": {},
   "outputs": [],
   "source": [
    "load(\"Income.RData\") "
   ]
  },
  {
   "cell_type": "code",
   "execution_count": 58,
   "metadata": {},
   "outputs": [
    {
     "data": {
      "text/plain": [
       "   Min. 1st Qu.  Median    Mean 3rd Qu.    Max. \n",
       "     63   23000   39000   49894   61500  703637 "
      ]
     },
     "metadata": {},
     "output_type": "display_data"
    },
    {
     "data": {
      "text/plain": [
       "log(Income2005) ~ Arith + Word + Parag + Math + AFQT"
      ]
     },
     "metadata": {},
     "output_type": "display_data"
    },
    {
     "data": {
      "text/plain": [
       "   Min. 1st Qu.  Median    Mean 3rd Qu.    Max. \n",
       "  9.766  10.133  10.423  10.419  10.705  11.006 "
      ]
     },
     "metadata": {},
     "output_type": "display_data"
    },
    {
     "data": {
      "text/plain": [
       "   Min. 1st Qu.  Median    Mean 3rd Qu.    Max. \n",
       "  17432   25167   33615   35363   44566   60217 "
      ]
     },
     "metadata": {},
     "output_type": "display_data"
    },
    {
     "data": {},
     "metadata": {},
     "output_type": "display_data"
    },
    {
     "data": {
      "image/png": "[encoded data removed]",
      "text/plain": [
       "plot without title"
      ]
     },
     "metadata": {},
     "output_type": "display_data"
    }
   ],
   "source": [
    "# Examine Income2005 in the training set\n",
    "summary(incometrain$Income2005)\n",
    "\n",
    "# Write the formula for log income as a function of the tests and print it\n",
    "(fmla.log <- log(Income2005) ~ Arith + Word + Parag + Math + AFQT)\n",
    "\n",
    "# Fit the linear model\n",
    "model.log <-  lm(fmla.log, data = incometrain)\n",
    "\n",
    "# Make predictions on income_test\n",
    "incometest$logpred <- predict(model.log, newdata = incometest)\n",
    "summary(incometest$logpred)\n",
    "\n",
    "# Convert the predictions to monetary units\n",
    "incometest$pred.income <- exp(incometest$logpred)\n",
    "summary(incometest$pred.income)\n",
    "\n",
    "#  Plot predicted income (x axis) vs income\n",
    "ggplot(incometest, aes(x = pred.income, y = Income2005)) + \n",
    "  geom_point() + \n",
    "  geom_abline(color = \"blue\")"
   ]
  },
  {
   "cell_type": "markdown",
   "metadata": {},
   "source": [
    "Remember that when you transform the output before modeling, you have to 'reverse transform' the resulting predictions after applying the model. "
   ]
  },
  {
   "cell_type": "markdown",
   "metadata": {},
   "source": [
    "### Comparing RMSE and root-mean-squared Relative Error\n",
    "\n",
    "In this exercise, you will show that log-transforming a monetary output before modeling improves mean relative error (but increases RMSE) compared to modeling the monetary output directly. You will compare the results of model.log from the previous exercise to a model (model.abs) that directly fits income.\n",
    "\n",
    "The `income_train` and `income_test` datasets are loaded in your workspace, along with your model, model.log.\n",
    "\n",
    "Also in the workspace:\n",
    "\n",
    "* model.abs: a model that directly fits income to the inputs using the formula\n",
    "\n",
    "    Income2005 ~ Arith + Word + Parag + Math + AFQT\n"
   ]
  },
  {
   "cell_type": "code",
   "execution_count": 60,
   "metadata": {},
   "outputs": [
    {
     "data": {
      "text/plain": [
       "\n",
       "Call:\n",
       "lm(formula = fmla.abs, data = incometrain)\n",
       "\n",
       "Residuals:\n",
       "   Min     1Q Median     3Q    Max \n",
       "-78728 -24137  -6979  11964 648573 \n",
       "\n",
       "Coefficients:\n",
       "            Estimate Std. Error t value Pr(>|t|)    \n",
       "(Intercept)  17516.7     6420.1   2.728  0.00642 ** \n",
       "Arith         1552.3      303.4   5.116 3.41e-07 ***\n",
       "Word          -132.3      265.0  -0.499  0.61754    \n",
       "Parag        -1155.1      618.3  -1.868  0.06189 .  \n",
       "Math           725.5      372.0   1.950  0.05127 .  \n",
       "AFQT           177.8      144.1   1.234  0.21734    \n",
       "---\n",
       "Signif. codes:  0 '***' 0.001 '**' 0.01 '*' 0.05 '.' 0.1 ' ' 1\n",
       "\n",
       "Residual standard error: 45500 on 2063 degrees of freedom\n",
       "Multiple R-squared:  0.1165,\tAdjusted R-squared:  0.1144 \n",
       "F-statistic:  54.4 on 5 and 2063 DF,  p-value: < 2.2e-16\n"
      ]
     },
     "metadata": {},
     "output_type": "display_data"
    },
    {
     "data": {
      "text/html": [
       "<table>\n",
       "<thead><tr><th scope=col>modeltype</th><th scope=col>rmse</th><th scope=col>rmse.rel</th></tr></thead>\n",
       "<tbody>\n",
       "\t<tr><td>pred.absmodel</td><td>37448.37     </td><td>3.183705     </td></tr>\n",
       "\t<tr><td>pred.logmodel</td><td>39234.90     </td><td>2.218663     </td></tr>\n",
       "</tbody>\n",
       "</table>\n"
      ],
      "text/latex": [
       "\\begin{tabular}{r|lll}\n",
       " modeltype & rmse & rmse.rel\\\\\n",
       "\\hline\n",
       "\t pred.absmodel & 37448.37      & 3.183705     \\\\\n",
       "\t pred.logmodel & 39234.90      & 2.218663     \\\\\n",
       "\\end{tabular}\n"
      ],
      "text/markdown": [
       "\n",
       "modeltype | rmse | rmse.rel | \n",
       "|---|---|\n",
       "| pred.absmodel | 37448.37      | 3.183705      | \n",
       "| pred.logmodel | 39234.90      | 2.218663      | \n",
       "\n",
       "\n"
      ],
      "text/plain": [
       "  modeltype     rmse     rmse.rel\n",
       "1 pred.absmodel 37448.37 3.183705\n",
       "2 pred.logmodel 39234.90 2.218663"
      ]
     },
     "metadata": {},
     "output_type": "display_data"
    }
   ],
   "source": [
    "# fmla.abs \n",
    "fmla.abs <- Income2005 ~ Arith + Word + Parag + Math + AFQT\n",
    "\n",
    "# model.abs is in the workspace\n",
    "model.abs <- lm(fmla.abs, data = incometrain)\n",
    "summary(model.abs)\n",
    "\n",
    "# Add predictions to the test set\n",
    "incometest <- incometest %>%\n",
    "  mutate(pred.absmodel = predict(model.abs, incometest),        # predictions from model.abs\n",
    "         pred.logmodel = exp(predict(model.log, incometest)))   # predictions from model.log\n",
    "\n",
    "# Gather the predictions and calculate residuals and relative error\n",
    "income_long <- incometest %>% \n",
    "  gather(key = modeltype, value = pred, pred.absmodel, pred.logmodel) %>%\n",
    "  mutate(residual = pred - Income2005,   # residuals\n",
    "         relerr   = residual / Income2005)   # relative error\n",
    "\n",
    "# Calculate RMSE and relative RMSE and compare\n",
    "income_long %>% \n",
    "  group_by(modeltype) %>%      # group by modeltype\n",
    "  summarize(rmse     = sqrt(mean(residual^2)),    # RMSE\n",
    "            rmse.rel = sqrt(mean(relerr^2)))    # Root mean squared relative error"
   ]
  },
  {
   "cell_type": "markdown",
   "metadata": {},
   "source": [
    "You've seen how modeling log(income) can reduce the relative error of the fit, at the cost of increased RMSE. Which tradeoff to make depends on the goals of your project. "
   ]
  },
  {
   "cell_type": "markdown",
   "metadata": {},
   "source": [
    "### Input transforms: the \"hockey stick\"\n",
    "\n",
    "In this exercise, we will build a model to predict price from a measure of the house's size (surface area). The data set houseprice has the columns:\n",
    "\n",
    "* price : house price in units of $1000\n",
    "* size: surface area\n",
    "\n",
    "A scatterplot of the data shows that the data is quite non-linear: a sort of \"hockey-stick\" where price is fairly flat for smaller houses, but rises steeply as the house gets larger. Quadratics and tritics are often good functional forms to express hockey-stick like relationships. Note that there may not be a \"physical\" reason that price is related to the square of the size; a quadratic is simply a closed form approximation of the observed relationship.\n",
    "\n",
    "You will fit a model to predict price as a function of the squared size, and look at its fit on the training data.\n",
    "\n",
    "Because `^` is also a symbol to express interactions, use the function `I()` to treat the expression `x^2` “as is”: that is, as the square of `x` rather than the interaction of `x` with itself.\n",
    "\n",
    "    exampleFormula = y ~ I(x^2)"
   ]
  },
  {
   "cell_type": "code",
   "execution_count": 61,
   "metadata": {},
   "outputs": [],
   "source": [
    "houseprice <- readRDS(\"houseprice.rds\")"
   ]
  },
  {
   "cell_type": "code",
   "execution_count": 62,
   "metadata": {},
   "outputs": [
    {
     "data": {
      "text/plain": [
       "      size           price      \n",
       " Min.   : 44.0   Min.   : 42.0  \n",
       " 1st Qu.: 73.5   1st Qu.:164.5  \n",
       " Median : 91.0   Median :203.5  \n",
       " Mean   : 94.3   Mean   :249.2  \n",
       " 3rd Qu.:118.5   3rd Qu.:287.8  \n",
       " Max.   :150.0   Max.   :573.0  "
      ]
     },
     "metadata": {},
     "output_type": "display_data"
    },
    {
     "data": {
      "text/plain": [
       "price ~ I(size^2)"
      ]
     },
     "metadata": {},
     "output_type": "display_data"
    },
    {
     "data": {},
     "metadata": {},
     "output_type": "display_data"
    },
    {
     "data": {
      "image/png": "[encoded data removed]",
      "text/plain": [
       "plot without title"
      ]
     },
     "metadata": {},
     "output_type": "display_data"
    }
   ],
   "source": [
    "# houseprice is in the workspace\n",
    "summary(houseprice)\n",
    "\n",
    "# Create the formula for price as a function of squared size\n",
    "(fmla_sqr <- price ~ I(size^2))\n",
    "\n",
    "# Fit a model of price as a function of squared size (use fmla_sqr)\n",
    "model_sqr <- lm(fmla_sqr, data = houseprice)\n",
    "\n",
    "# Fit a model of price as a linear function of size\n",
    "model_lin <- lm(price ~ size, data = houseprice)\n",
    "\n",
    "# Make predictions and compare\n",
    "houseprice %>% \n",
    "    mutate(pred_lin = predict(model_lin),       # predictions from linear model\n",
    "           pred_sqr = predict(model_sqr)) %>%   # predictions from quadratic model \n",
    "    gather(key = modeltype, value = pred, pred_lin, pred_sqr) %>% # gather the predictions\n",
    "    ggplot(aes(x = size)) + \n",
    "       geom_point(aes(y = price)) +                   # actual prices\n",
    "       geom_line(aes(y = pred, color = modeltype)) + # the predictions\n",
    "       scale_color_brewer(palette = \"Dark2\")"
   ]
  },
  {
   "cell_type": "markdown",
   "metadata": {},
   "source": [
    "### Input transforms: the \"hockey stick\" \n",
    "\n",
    "In the last exercise you saw that a quadratic model seems to fit the houseprice data better than a linear model. In this exercise you will confirm whether the quadratic model would perform better on out-of-sample data. Since this data set is small, you will use cross-validation. \n",
    "\n",
    "For comparison, the sample code will calculate cross-validation predictions from a linear model price ~ size."
   ]
  },
  {
   "cell_type": "code",
   "execution_count": 63,
   "metadata": {},
   "outputs": [
    {
     "data": {
      "text/plain": [
       "      size           price      \n",
       " Min.   : 44.0   Min.   : 42.0  \n",
       " 1st Qu.: 73.5   1st Qu.:164.5  \n",
       " Median : 91.0   Median :203.5  \n",
       " Mean   : 94.3   Mean   :249.2  \n",
       " 3rd Qu.:118.5   3rd Qu.:287.8  \n",
       " Max.   :150.0   Max.   :573.0  "
      ]
     },
     "metadata": {},
     "output_type": "display_data"
    },
    {
     "data": {
      "text/plain": [
       "price ~ I(size^2)"
      ]
     },
     "metadata": {},
     "output_type": "display_data"
    },
    {
     "data": {
      "text/html": [
       "<table>\n",
       "<thead><tr><th scope=col>modeltype</th><th scope=col>rmse</th></tr></thead>\n",
       "<tbody>\n",
       "\t<tr><td>pred_lin</td><td>74.29993</td></tr>\n",
       "\t<tr><td>pred_sqr</td><td>63.69409</td></tr>\n",
       "</tbody>\n",
       "</table>\n"
      ],
      "text/latex": [
       "\\begin{tabular}{r|ll}\n",
       " modeltype & rmse\\\\\n",
       "\\hline\n",
       "\t pred\\_lin & 74.29993  \\\\\n",
       "\t pred\\_sqr & 63.69409  \\\\\n",
       "\\end{tabular}\n"
      ],
      "text/markdown": [
       "\n",
       "modeltype | rmse | \n",
       "|---|---|\n",
       "| pred_lin | 74.29993 | \n",
       "| pred_sqr | 63.69409 | \n",
       "\n",
       "\n"
      ],
      "text/plain": [
       "  modeltype rmse    \n",
       "1 pred_lin  74.29993\n",
       "2 pred_sqr  63.69409"
      ]
     },
     "metadata": {},
     "output_type": "display_data"
    }
   ],
   "source": [
    "# houseprice is in the workspace\n",
    "summary(houseprice)\n",
    "\n",
    "# fmla_sqr is in the workspace\n",
    "fmla_sqr\n",
    "\n",
    "# Create a splitting plan for 3-fold cross validation\n",
    "set.seed(34245)  # set the seed for reproducibility\n",
    "splitPlan <- kWayCrossValidation(nrow(houseprice), 3, NULL, NULL)\n",
    "\n",
    "# Sample code: get cross-val predictions for price ~ size\n",
    "houseprice$pred_lin <- 0  # initialize the prediction vector\n",
    "for(i in 1:3) {\n",
    "  split <- splitPlan[[i]]\n",
    "  model_lin <- lm(price ~ size, data = houseprice[split$train,])\n",
    "  houseprice$pred_lin[split$app] <- predict(model_lin, newdata = houseprice[split$app,])\n",
    "}\n",
    "\n",
    "# Get cross-val predictions for price as a function of size^2 (use fmla_sqr)\n",
    "houseprice$pred_sqr <- 0 # initialize the prediction vector\n",
    "for(i in 1:3) {\n",
    "  split <- splitPlan[[i]]\n",
    "  model_sqr <- lm(fmla_sqr, data = houseprice[split$train, ])\n",
    "  houseprice$pred_sqr[split$app] <- predict(model_sqr, newdata = houseprice[split$app, ])\n",
    "}\n",
    "\n",
    "# Gather the predictions and calculate the residuals\n",
    "houseprice_long <- houseprice %>%\n",
    "  gather(key = modeltype, value = pred, pred_lin, pred_sqr) %>%\n",
    "  mutate(residuals = pred - price)\n",
    "\n",
    "# Compare the cross-validated RMSE for the two models\n",
    "houseprice_long %>% \n",
    "  group_by(modeltype) %>% # group by modeltype\n",
    "  summarize(rmse = sqrt(mean(residuals^2)))"
   ]
  },
  {
   "cell_type": "markdown",
   "metadata": {},
   "source": [
    "! You've confirmed that the quadratic input tranformation improved the model. In the next chapter you will see how transformations like this can sometimes be learned automatically. "
   ]
  },
  {
   "cell_type": "markdown",
   "metadata": {},
   "source": [
    "### Fit a model of sparrow survival probability\n",
    "\n",
    "In this exercise, you will estimate the probability that a sparrow survives a severe winter storm, based on physical characteristics of the sparrow.The outcome to be predicted is status (\"Survived\", \"Perished\"). The variables we will consider are:\n",
    "\n",
    "* total_length: length of the bird from tip of beak to tip of tail (mm)\n",
    "* weight: in grams\n",
    "* humerus : length of humerus (\"upper arm bone\" that connects the wing to the body) (inches)\n",
    "\n",
    "Remember that when using `glm()` to create a logistic regression model, you must explicitly specify that `family = binomial`:\n",
    "\n",
    "    glm(formula, data = data, family = binomial)\n",
    "\n",
    "You will call `summary()`, `broom::glance()` to see different functions for examining a logistic regression model. One of the diagnostics that you will look at is the analog to $R^2$, called pseudo-$R^2$.\n",
    "\n",
    "$$ pseudoR^2=1−\\frac{deviance}{null.deviance} $$\n",
    "\n",
    "You can think of deviance as analogous to variance: it is a measure of the variation in categorical data. The pseudo-$R^2$\n",
    "is analogous to $R^2$ for standard regression: $R^2$ is a measure of the \"variance explained\" of a regression model. The pseudo-$R^2$ is a measure of the \"deviance explained\"."
   ]
  },
  {
   "cell_type": "code",
   "execution_count": 65,
   "metadata": {},
   "outputs": [],
   "source": [
    "sparrow <- readRDS(\"sparrow.rds\")"
   ]
  },
  {
   "cell_type": "code",
   "execution_count": 66,
   "metadata": {},
   "outputs": [
    {
     "data": {
      "text/plain": [
       "      status       age             total_length      wingspan    \n",
       " Perished:36   Length:87          Min.   :153.0   Min.   :236.0  \n",
       " Survived:51   Class :character   1st Qu.:158.0   1st Qu.:245.0  \n",
       "               Mode  :character   Median :160.0   Median :247.0  \n",
       "                                  Mean   :160.4   Mean   :247.5  \n",
       "                                  3rd Qu.:162.5   3rd Qu.:251.0  \n",
       "                                  Max.   :167.0   Max.   :256.0  \n",
       "     weight       beak_head        humerus           femur       \n",
       " Min.   :23.2   Min.   :29.80   Min.   :0.6600   Min.   :0.6500  \n",
       " 1st Qu.:24.7   1st Qu.:31.40   1st Qu.:0.7250   1st Qu.:0.7000  \n",
       " Median :25.8   Median :31.70   Median :0.7400   Median :0.7100  \n",
       " Mean   :25.8   Mean   :31.64   Mean   :0.7353   Mean   :0.7134  \n",
       " 3rd Qu.:26.7   3rd Qu.:32.10   3rd Qu.:0.7500   3rd Qu.:0.7300  \n",
       " Max.   :31.0   Max.   :33.00   Max.   :0.7800   Max.   :0.7600  \n",
       "    legbone          skull           sternum      \n",
       " Min.   :1.010   Min.   :0.5600   Min.   :0.7700  \n",
       " 1st Qu.:1.110   1st Qu.:0.5900   1st Qu.:0.8300  \n",
       " Median :1.130   Median :0.6000   Median :0.8500  \n",
       " Mean   :1.131   Mean   :0.6032   Mean   :0.8511  \n",
       " 3rd Qu.:1.160   3rd Qu.:0.6100   3rd Qu.:0.8800  \n",
       " Max.   :1.230   Max.   :0.6400   Max.   :0.9300  "
      ]
     },
     "metadata": {},
     "output_type": "display_data"
    },
    {
     "data": {
      "text/plain": [
       "survived ~ total_length + weight + humerus"
      ]
     },
     "metadata": {},
     "output_type": "display_data"
    },
    {
     "data": {
      "text/plain": [
       "\n",
       "Call:\n",
       "glm(formula = fmla, family = binomial, data = sparrow)\n",
       "\n",
       "Deviance Residuals: \n",
       "    Min       1Q   Median       3Q      Max  \n",
       "-2.1117  -0.6026   0.2871   0.6577   1.7082  \n",
       "\n",
       "Coefficients:\n",
       "             Estimate Std. Error z value Pr(>|z|)    \n",
       "(Intercept)   46.8813    16.9631   2.764 0.005715 ** \n",
       "total_length  -0.5435     0.1409  -3.858 0.000115 ***\n",
       "weight        -0.5689     0.2771  -2.053 0.040060 *  \n",
       "humerus       75.4610    19.1586   3.939 8.19e-05 ***\n",
       "---\n",
       "Signif. codes:  0 '***' 0.001 '**' 0.01 '*' 0.05 '.' 0.1 ' ' 1\n",
       "\n",
       "(Dispersion parameter for binomial family taken to be 1)\n",
       "\n",
       "    Null deviance: 118.008  on 86  degrees of freedom\n",
       "Residual deviance:  75.094  on 83  degrees of freedom\n",
       "AIC: 83.094\n",
       "\n",
       "Number of Fisher Scoring iterations: 5\n"
      ]
     },
     "metadata": {},
     "output_type": "display_data"
    },
    {
     "data": {
      "text/html": [
       "<table>\n",
       "<thead><tr><th scope=col>null.deviance</th><th scope=col>df.null</th><th scope=col>logLik</th><th scope=col>AIC</th><th scope=col>BIC</th><th scope=col>deviance</th><th scope=col>df.residual</th></tr></thead>\n",
       "<tbody>\n",
       "\t<tr><td>118.0084 </td><td>86       </td><td>-37.54718</td><td>83.09436 </td><td>92.95799 </td><td>75.09436 </td><td>83       </td></tr>\n",
       "</tbody>\n",
       "</table>\n"
      ],
      "text/latex": [
       "\\begin{tabular}{r|lllllll}\n",
       " null.deviance & df.null & logLik & AIC & BIC & deviance & df.residual\\\\\n",
       "\\hline\n",
       "\t 118.0084  & 86        & -37.54718 & 83.09436  & 92.95799  & 75.09436  & 83       \\\\\n",
       "\\end{tabular}\n"
      ],
      "text/markdown": [
       "\n",
       "null.deviance | df.null | logLik | AIC | BIC | deviance | df.residual | \n",
       "|---|\n",
       "| 118.0084  | 86        | -37.54718 | 83.09436  | 92.95799  | 75.09436  | 83        | \n",
       "\n",
       "\n"
      ],
      "text/plain": [
       "  null.deviance df.null logLik    AIC      BIC      deviance df.residual\n",
       "1 118.0084      86      -37.54718 83.09436 92.95799 75.09436 83         "
      ]
     },
     "metadata": {},
     "output_type": "display_data"
    },
    {
     "data": {
      "text/html": [
       "0.363652611533294"
      ],
      "text/latex": [
       "0.363652611533294"
      ],
      "text/markdown": [
       "0.363652611533294"
      ],
      "text/plain": [
       "[1] 0.3636526"
      ]
     },
     "metadata": {},
     "output_type": "display_data"
    }
   ],
   "source": [
    "# sparrow is in the workspace\n",
    "summary(sparrow)\n",
    "\n",
    "# Create the survived column\n",
    "sparrow$survived <- sparrow$status == \"Survived\"\n",
    "\n",
    "# Create the formula\n",
    "(fmla <- survived ~ total_length + weight + humerus)\n",
    "\n",
    "# Fit the logistic regression model\n",
    "sparrow_model <- glm(fmla, data = sparrow, family = binomial)\n",
    "\n",
    "# Call summary\n",
    "summary(sparrow_model)\n",
    "\n",
    "# Call glance\n",
    "(perf <- glance(sparrow_model))\n",
    "\n",
    "# Calculate pseudo-R-squared\n",
    "(pseudoR2 <- 1- perf$deviance / perf$null.deviance)"
   ]
  },
  {
   "cell_type": "markdown",
   "metadata": {},
   "source": [
    "When looking at the pseudo-R2 of a logistic regression model, you should hope to see a value close to 1. "
   ]
  },
  {
   "cell_type": "markdown",
   "metadata": {},
   "source": [
    "### Predict sparrow survival\n",
    "\n",
    "In this exercise you will predict the probability of survival using the sparrow survival model from the previous exercise.\n",
    "\n",
    "Recall that when calling `predict()` to get the predicted probabilities from a `glm()` model, you must specify that you want the response:\n",
    "\n",
    "    predict(model, type = \"response\")\n",
    "\n",
    "Otherwise, `predict()` on a logistic regression model returns the predicted log-odds of the event, not the probability.\n",
    "\n",
    "You will also use the `GainCurvePlot()` function to plot the gain curve from the model predictions. If the model's gain curve is close to the ideal (\"wizard\") gain curve, then the model sorted the sparrows well: that is, the model predicted that sparrows that actually survived would have a higher probability of survival. The inputs to the `GainCurvePlot()` function are:\n",
    "\n",
    "* frame: data frame with prediction column and ground truth column\n",
    "* xvar: the name of the column of predictions (as a string)\n",
    "* truthVar: the name of the column with actual outcome (as a string)\n",
    "* title: a title for the plot (as a string)\n",
    "\n",
    "    GainCurvePlot(frame, xvar, truthVar, title)"
   ]
  },
  {
   "cell_type": "code",
   "execution_count": 67,
   "metadata": {},
   "outputs": [
    {
     "data": {},
     "metadata": {},
     "output_type": "display_data"
    },
    {
     "data": {
      "image/png": "[encoded data removed]",
      "text/plain": [
       "plot without title"
      ]
     },
     "metadata": {},
     "output_type": "display_data"
    }
   ],
   "source": [
    "# Make predictions\n",
    "sparrow$pred <- predict(sparrow_model, type = \"response\")\n",
    "\n",
    "# Look at gain curve\n",
    "GainCurvePlot(sparrow, \"pred\", \"survived\", \"sparrow survival model\")"
   ]
  },
  {
   "cell_type": "markdown",
   "metadata": {},
   "source": [
    "You see from the gain curve that the model follows the wizard curve for about the first 30% of the data, identifying about 45% of the surviving sparrows with only a few false positives. "
   ]
  },
  {
   "cell_type": "markdown",
   "metadata": {},
   "source": [
    "### Poisson or quasipoisson\n",
    "\n",
    "One of the assumptions of Poisson regression to predict counts is that the event you are counting is Poisson distributed: the average count per unit time is the same as the variance of the count. In practice, \"the same\" means that the mean and the variance should be of a similar order of magnitude.\n",
    "\n",
    "When the variance is much larger than the mean, the Poisson assumption doesn't apply, and one solution is to use quasipoisson regression, which does not assume that variance=mean.\n",
    "\n",
    "For each of the following situations, decide if poisson regression would be suitable, or if you should use quasipoisson regression.\n",
    "\n",
    "For which situations can you use poisson regression?\n",
    "\n",
    "1. Number of days students are absent: mean 5.9, variance 49\n",
    "2. Number of awards a student wins: mean 0.6, variance 1.1\n",
    "3. Number of hits per website page: mean 108.2, variance 108.5\n",
    "4. Number of bikes rented per day: mean 273, variance 45863.84\n",
    "\n",
    "\n",
    "2. an 3. -> When the mean and variance of event arrivals are reasonably close, poisson regression is suitable."
   ]
  },
  {
   "cell_type": "markdown",
   "metadata": {},
   "source": [
    "### Fit a model to predict bike rental counts\n",
    "\n",
    "In this exercise you will build a model to predict the number of bikes rented in an hour as a function of the weather, the type of day (holiday, working day, or weekend), and the time of day. You will train the model on data from the month of July.\n",
    "\n",
    "The data frame has the columns:\n",
    "\n",
    "* `cnt`: the number of bikes rented in that hour (the outcome)\n",
    "* `hr`: the hour of the day (0-23, as a factor)\n",
    "* `holiday`: TRUE/FALSE\n",
    "* `workingday`: TRUE if neither a holiday nor a weekend, else FALSE\n",
    "* `weathersit`: categorical, \"Clear to partly cloudy\"/\"Light Precipitation\"/\"Misty\"\n",
    "* `temp`: normalized temperature in Celsius\n",
    "* `atemp`: normalized \"feeling\" temperature in Celsius\n",
    "* `hum`: normalized humidity\n",
    "* `windspeed`: normalized windspeed\n",
    "* `instant`: the time index -- number of hours since beginning of data set (not a variable)\n",
    "* `mnth` and `yr`: month and year indices (not variables)\n",
    "\n",
    "Remember that you must specify `family = poisson` or `family = quasipoisson` when using `glm()` to fit a count model.\n",
    "\n",
    "Since there are a lot of input variables, for convenience we will specify the outcome and the inputs in variables, and use `paste()` to assemble a string representing the model formula."
   ]
  },
  {
   "cell_type": "code",
   "execution_count": 69,
   "metadata": {},
   "outputs": [],
   "source": [
    "load(\"Bikes.RData\") "
   ]
  },
  {
   "cell_type": "code",
   "execution_count": 73,
   "metadata": {},
   "outputs": [
    {
     "data": {
      "text/html": [
       "'cnt'"
      ],
      "text/latex": [
       "'cnt'"
      ],
      "text/markdown": [
       "'cnt'"
      ],
      "text/plain": [
       "[1] \"cnt\""
      ]
     },
     "metadata": {},
     "output_type": "display_data"
    },
    {
     "data": {
      "text/html": [
       "<ol class=list-inline>\n",
       "\t<li>'hr'</li>\n",
       "\t<li>'holiday'</li>\n",
       "\t<li>'workingday'</li>\n",
       "\t<li>'weathersit'</li>\n",
       "\t<li>'temp'</li>\n",
       "\t<li>'atemp'</li>\n",
       "\t<li>'hum'</li>\n",
       "\t<li>'windspeed'</li>\n",
       "</ol>\n"
      ],
      "text/latex": [
       "\\begin{enumerate*}\n",
       "\\item 'hr'\n",
       "\\item 'holiday'\n",
       "\\item 'workingday'\n",
       "\\item 'weathersit'\n",
       "\\item 'temp'\n",
       "\\item 'atemp'\n",
       "\\item 'hum'\n",
       "\\item 'windspeed'\n",
       "\\end{enumerate*}\n"
      ],
      "text/markdown": [
       "1. 'hr'\n",
       "2. 'holiday'\n",
       "3. 'workingday'\n",
       "4. 'weathersit'\n",
       "5. 'temp'\n",
       "6. 'atemp'\n",
       "7. 'hum'\n",
       "8. 'windspeed'\n",
       "\n",
       "\n"
      ],
      "text/plain": [
       "[1] \"hr\"         \"holiday\"    \"workingday\" \"weathersit\" \"temp\"      \n",
       "[6] \"atemp\"      \"hum\"        \"windspeed\" "
      ]
     },
     "metadata": {},
     "output_type": "display_data"
    }
   ],
   "source": [
    "outcome <- c(\"cnt\")\n",
    "vars <- c(\"hr\", \"holiday\", \"workingday\", \"weathersit\", \"temp\", \"atemp\", \"hum\", \"windspeed\")\n",
    "outcome\n",
    "vars\n",
    "#bikesJuly"
   ]
  },
  {
   "cell_type": "code",
   "execution_count": 95,
   "metadata": {},
   "outputs": [
    {
     "name": "stdout",
     "output_type": "stream",
     "text": [
      "'data.frame':\t744 obs. of  12 variables:\n",
      " $ hr        : Factor w/ 24 levels \"0\",\"1\",\"2\",\"3\",..: 1 2 3 4 5 6 7 8 9 10 ...\n",
      " $ holiday   : logi  FALSE FALSE FALSE FALSE FALSE FALSE ...\n",
      " $ workingday: logi  FALSE FALSE FALSE FALSE FALSE FALSE ...\n",
      " $ weathersit: chr  \"Clear to partly cloudy\" \"Clear to partly cloudy\" \"Clear to partly cloudy\" \"Clear to partly cloudy\" ...\n",
      " $ temp      : num  0.76 0.74 0.72 0.72 0.7 0.68 0.7 0.74 0.78 0.82 ...\n",
      " $ atemp     : num  0.727 0.697 0.697 0.712 0.667 ...\n",
      " $ hum       : num  0.66 0.7 0.74 0.84 0.79 0.79 0.79 0.7 0.62 0.56 ...\n",
      " $ windspeed : num  0 0.1343 0.0896 0.1343 0.194 ...\n",
      " $ cnt       : int  149 93 90 33 4 10 27 50 142 219 ...\n",
      " $ instant   : int  13004 13005 13006 13007 13008 13009 13010 13011 13012 13013 ...\n",
      " $ mnth      : int  7 7 7 7 7 7 7 7 7 7 ...\n",
      " $ yr        : int  1 1 1 1 1 1 1 1 1 1 ...\n"
     ]
    },
    {
     "data": {
      "text/html": [
       "'cnt ~ hr + holiday + workingday + weathersit + temp + atemp + hum + windspeed'"
      ],
      "text/latex": [
       "'cnt \\textasciitilde{} hr + holiday + workingday + weathersit + temp + atemp + hum + windspeed'"
      ],
      "text/markdown": [
       "'cnt ~ hr + holiday + workingday + weathersit + temp + atemp + hum + windspeed'"
      ],
      "text/plain": [
       "[1] \"cnt ~ hr + holiday + workingday + weathersit + temp + atemp + hum + windspeed\""
      ]
     },
     "metadata": {},
     "output_type": "display_data"
    },
    {
     "data": {
      "text/html": [
       "273.665322580645"
      ],
      "text/latex": [
       "273.665322580645"
      ],
      "text/markdown": [
       "273.665322580645"
      ],
      "text/plain": [
       "[1] 273.6653"
      ]
     },
     "metadata": {},
     "output_type": "display_data"
    },
    {
     "data": {
      "text/html": [
       "45863.843425737"
      ],
      "text/latex": [
       "45863.843425737"
      ],
      "text/markdown": [
       "45863.843425737"
      ],
      "text/plain": [
       "[1] 45863.84"
      ]
     },
     "metadata": {},
     "output_type": "display_data"
    },
    {
     "data": {
      "text/html": [
       "<table>\n",
       "<thead><tr><th scope=col>null.deviance</th><th scope=col>df.null</th><th scope=col>logLik</th><th scope=col>AIC</th><th scope=col>BIC</th><th scope=col>deviance</th><th scope=col>df.residual</th></tr></thead>\n",
       "<tbody>\n",
       "\t<tr><td>133364.9</td><td>743     </td><td>NA      </td><td>NA      </td><td>NA      </td><td>28774.9 </td><td>712     </td></tr>\n",
       "</tbody>\n",
       "</table>\n"
      ],
      "text/latex": [
       "\\begin{tabular}{r|lllllll}\n",
       " null.deviance & df.null & logLik & AIC & BIC & deviance & df.residual\\\\\n",
       "\\hline\n",
       "\t 133364.9 & 743      & NA       & NA       & NA       & 28774.9  & 712     \\\\\n",
       "\\end{tabular}\n"
      ],
      "text/markdown": [
       "\n",
       "null.deviance | df.null | logLik | AIC | BIC | deviance | df.residual | \n",
       "|---|\n",
       "| 133364.9 | 743      | NA       | NA       | NA       | 28774.9  | 712      | \n",
       "\n",
       "\n"
      ],
      "text/plain": [
       "  null.deviance df.null logLik AIC BIC deviance df.residual\n",
       "1 133364.9      743     NA     NA  NA  28774.9  712        "
      ]
     },
     "metadata": {},
     "output_type": "display_data"
    },
    {
     "data": {
      "text/html": [
       "0.784239253966954"
      ],
      "text/latex": [
       "0.784239253966954"
      ],
      "text/markdown": [
       "0.784239253966954"
      ],
      "text/plain": [
       "[1] 0.7842393"
      ]
     },
     "metadata": {},
     "output_type": "display_data"
    }
   ],
   "source": [
    "# bikesJuly is in the workspace\n",
    "str(bikesJuly)\n",
    "\n",
    "# Create the formula string for bikes rented as a function of the inputs\n",
    "(fmla <- paste(outcome, \"~\", paste(vars, collapse = \" + \")))\n",
    "\n",
    "# Calculate the mean and variance of the outcome\n",
    "(mean_bikes <- mean(bikesJuly$cnt))\n",
    "(var_bikes <- var(bikesJuly$cnt))\n",
    "\n",
    "# Fit the model\n",
    "bike_model <- glm(fmla, family = quasipoisson, data = bikesJuly)\n",
    "\n",
    "# Call glance\n",
    "(perf <- glance(bike_model))\n",
    "\n",
    "# Calculate pseudo-R-squared\n",
    "(pseudoR2 <- 1 - perf$deviance / perf$null.deviance)"
   ]
  },
  {
   "cell_type": "markdown",
   "metadata": {},
   "source": [
    "You've fit a (quasi)poisson model to predict counts! As with a logistic model, you hope for a pseudo-R2 near 1. "
   ]
  },
  {
   "cell_type": "markdown",
   "metadata": {},
   "source": [
    "### Predict bike rentals on new data\n",
    "\n",
    "In this exercise you will use the model you built in the previous exercise to make predictions for the month of August. The data set bikesAugust has the same columns as bikesJuly.\n",
    "\n",
    "Recall that you must specify `type = \"response\"` with `predict()` when predicting counts from a glm poisson or quasipoisson model."
   ]
  },
  {
   "cell_type": "code",
   "execution_count": 96,
   "metadata": {},
   "outputs": [
    {
     "name": "stdout",
     "output_type": "stream",
     "text": [
      "'data.frame':\t744 obs. of  13 variables:\n",
      " $ hr        : Factor w/ 24 levels \"0\",\"1\",\"2\",\"3\",..: 1 2 3 4 5 6 7 8 9 10 ...\n",
      " $ holiday   : logi  FALSE FALSE FALSE FALSE FALSE FALSE ...\n",
      " $ workingday: logi  TRUE TRUE TRUE TRUE TRUE TRUE ...\n",
      " $ weathersit: chr  \"Clear to partly cloudy\" \"Clear to partly cloudy\" \"Clear to partly cloudy\" \"Clear to partly cloudy\" ...\n",
      " $ temp      : num  0.68 0.66 0.64 0.64 0.64 0.64 0.64 0.64 0.66 0.68 ...\n",
      " $ atemp     : num  0.636 0.606 0.576 0.576 0.591 ...\n",
      " $ hum       : num  0.79 0.83 0.83 0.83 0.78 0.78 0.78 0.83 0.78 0.74 ...\n",
      " $ windspeed : num  0.1642 0.0896 0.1045 0.1045 0.1343 ...\n",
      " $ cnt       : int  47 33 13 7 4 49 185 487 681 350 ...\n",
      " $ instant   : int  13748 13749 13750 13751 13752 13753 13754 13755 13756 13757 ...\n",
      " $ mnth      : int  8 8 8 8 8 8 8 8 8 8 ...\n",
      " $ yr        : int  1 1 1 1 1 1 1 1 1 1 ...\n",
      " $ pred      : num  84.6 40 39.2 27.8 39.2 ...\n"
     ]
    },
    {
     "data": {
      "text/plain": [
       "\n",
       "Call:\n",
       "glm(formula = fmla, family = quasipoisson, data = bikesJuly)\n",
       "\n",
       "Deviance Residuals: \n",
       "     Min        1Q    Median        3Q       Max  \n",
       "-21.6117   -4.3121   -0.7223    3.5507   16.5079  \n",
       "\n",
       "Coefficients:\n",
       "                               Estimate Std. Error t value Pr(>|t|)    \n",
       "(Intercept)                    5.934986   0.439027  13.519  < 2e-16 ***\n",
       "hr1                           -0.580055   0.193354  -3.000 0.002794 ** \n",
       "hr2                           -0.892314   0.215452  -4.142 3.86e-05 ***\n",
       "hr3                           -1.662342   0.290658  -5.719 1.58e-08 ***\n",
       "hr4                           -2.350204   0.393560  -5.972 3.71e-09 ***\n",
       "hr5                           -1.084289   0.230130  -4.712 2.96e-06 ***\n",
       "hr6                            0.211945   0.156476   1.354 0.176012    \n",
       "hr7                            1.211135   0.132332   9.152  < 2e-16 ***\n",
       "hr8                            1.648361   0.127177  12.961  < 2e-16 ***\n",
       "hr9                            1.155669   0.133927   8.629  < 2e-16 ***\n",
       "hr10                           0.993913   0.137096   7.250 1.09e-12 ***\n",
       "hr11                           1.116547   0.136300   8.192 1.19e-15 ***\n",
       "hr12                           1.282685   0.134769   9.518  < 2e-16 ***\n",
       "hr13                           1.273010   0.135872   9.369  < 2e-16 ***\n",
       "hr14                           1.237721   0.136386   9.075  < 2e-16 ***\n",
       "hr15                           1.260647   0.136144   9.260  < 2e-16 ***\n",
       "hr16                           1.515893   0.132727  11.421  < 2e-16 ***\n",
       "hr17                           1.948404   0.128080  15.212  < 2e-16 ***\n",
       "hr18                           1.893915   0.127812  14.818  < 2e-16 ***\n",
       "hr19                           1.669277   0.128471  12.993  < 2e-16 ***\n",
       "hr20                           1.420732   0.131004  10.845  < 2e-16 ***\n",
       "hr21                           1.146763   0.134042   8.555  < 2e-16 ***\n",
       "hr22                           0.856182   0.138982   6.160 1.21e-09 ***\n",
       "hr23                           0.479197   0.148051   3.237 0.001265 ** \n",
       "holidayTRUE                    0.201598   0.079039   2.551 0.010961 *  \n",
       "workingdayTRUE                 0.116798   0.033510   3.485 0.000521 ***\n",
       "weathersitLight Precipitation -0.214801   0.072699  -2.955 0.003233 ** \n",
       "weathersitMisty               -0.010757   0.038600  -0.279 0.780572    \n",
       "temp                          -3.246001   1.148270  -2.827 0.004833 ** \n",
       "atemp                          2.042314   0.953772   2.141 0.032589 *  \n",
       "hum                           -0.748557   0.236015  -3.172 0.001581 ** \n",
       "windspeed                      0.003277   0.148814   0.022 0.982439    \n",
       "---\n",
       "Signif. codes:  0 '***' 0.001 '**' 0.01 '*' 0.05 '.' 0.1 ' ' 1\n",
       "\n",
       "(Dispersion parameter for quasipoisson family taken to be 38.98949)\n",
       "\n",
       "    Null deviance: 133365  on 743  degrees of freedom\n",
       "Residual deviance:  28775  on 712  degrees of freedom\n",
       "AIC: NA\n",
       "\n",
       "Number of Fisher Scoring iterations: 5\n"
      ]
     },
     "metadata": {},
     "output_type": "display_data"
    },
    {
     "data": {
      "text/html": [
       "<table>\n",
       "<thead><tr><th scope=col>rmse</th></tr></thead>\n",
       "<tbody>\n",
       "\t<tr><td>112.5815</td></tr>\n",
       "</tbody>\n",
       "</table>\n"
      ],
      "text/latex": [
       "\\begin{tabular}{r|l}\n",
       " rmse\\\\\n",
       "\\hline\n",
       "\t 112.5815\\\\\n",
       "\\end{tabular}\n"
      ],
      "text/markdown": [
       "\n",
       "rmse | \n",
       "|---|\n",
       "| 112.5815 | \n",
       "\n",
       "\n"
      ],
      "text/plain": [
       "  rmse    \n",
       "1 112.5815"
      ]
     },
     "metadata": {},
     "output_type": "display_data"
    },
    {
     "data": {},
     "metadata": {},
     "output_type": "display_data"
    },
    {
     "data": {
      "image/png": "[encoded data removed]",
      "text/plain": [
       "plot without title"
      ]
     },
     "metadata": {},
     "output_type": "display_data"
    }
   ],
   "source": [
    "# bikesAugust is in the workspace\n",
    "str(bikesAugust)\n",
    "\n",
    "# bike_model is in the workspace\n",
    "summary(bike_model)\n",
    "\n",
    "# Make predictions on August data\n",
    "bikesAugust$pred  <- predict(bike_model, type = \"response\", newdata = bikesAugust)\n",
    "\n",
    "# Calculate the RMSE\n",
    "bikesAugust %>% \n",
    "  mutate(residual = pred - cnt) %>%\n",
    "  summarize(rmse  = sqrt(mean(residual^2)))\n",
    "\n",
    "# Plot predictions vs cnt (pred on x-axis)\n",
    "ggplot(bikesAugust, aes(x = pred, y = cnt)) +\n",
    "  geom_point() + \n",
    "  geom_abline(color = \"darkblue\")"
   ]
  },
  {
   "cell_type": "markdown",
   "metadata": {},
   "source": [
    "(Quasi)poisson models predict non-negative rates, making them useful for count or frequency data. "
   ]
  },
  {
   "cell_type": "markdown",
   "metadata": {},
   "source": [
    "### Visualize the Bike Rental Predictions\n",
    "\n",
    "In the previous exercise, you visualized the bike model's predictions using the standard \"outcome vs. prediction\" scatter plot. Since the bike rental data is time series data, you might be interested in how the model performs as a function of time. In this exercise, you will compare the predictions and actual rentals on an hourly basis, for the first 14 days of August.\n",
    "\n",
    "To create the plot you will use the function `tidyr::gather()` to consolidate the predicted and actual values from bikesAugust in a single `column. gather()` takes as arguments:\n",
    "\n",
    "* The \"wide\" data frame to be gathered (implicit in a pipe)\n",
    "* The name of the key column to be created - contains the names of the gathered columns.\n",
    "* The name of the value column to be created - contains the values of the gathered columns.\n",
    "* The names of the columns to be gathered into a single column.\n",
    "\n",
    "You'll use the gathered data frame to compare the actual and predicted rental counts as a function of time. The time index, instant counts the number of observations since the beginning of data collection. The sample code converts the instants to daily units, starting from 0."
   ]
  },
  {
   "cell_type": "code",
   "execution_count": 97,
   "metadata": {},
   "outputs": [
    {
     "data": {},
     "metadata": {},
     "output_type": "display_data"
    },
    {
     "data": {
      "image/png": "[encoded data removed]",
      "text/plain": [
       "plot without title"
      ]
     },
     "metadata": {},
     "output_type": "display_data"
    }
   ],
   "source": [
    "# Plot predictions and cnt by date/time\n",
    "quasipoisson_plot <-bikesAugust %>% \n",
    "  # set start to 0, convert unit to days\n",
    "  mutate(instant = (instant - min(instant))/24) %>%  \n",
    "  # gather cnt and pred into a value column\n",
    "  gather(key = valuetype, value = value, cnt, pred) %>%\n",
    "  filter(instant < 14) %>% # restric to first 14 days\n",
    "  # plot value by instant\n",
    "  ggplot(aes(x = instant, y = value, color = valuetype, linetype = valuetype)) + \n",
    "  geom_point() + \n",
    "  geom_line() + \n",
    "  scale_x_continuous(\"Day\", breaks = 0:14, labels = 0:14) + \n",
    "  scale_color_brewer(palette = \"Dark2\") + \n",
    "  ggtitle(\"Predicted August bike rentals, Quasipoisson model\")\n",
    "\n",
    "quasipoisson_plot"
   ]
  },
  {
   "cell_type": "markdown",
   "metadata": {},
   "source": [
    "This model mostly identifies the slow and busy hours of the day, although it often underestimates peak demand. "
   ]
  },
  {
   "cell_type": "markdown",
   "metadata": {},
   "source": [
    "### Writing formulas for GAM models\n",
    "\n",
    "When using `gam()` to model outcome as an additive function of the inputs, you can use the `s()` function inside formulas to designate that you want use a spline to model the non-linear relationship of a continuous variable to the outcome.\n",
    "\n",
    "Suppose that you want to predict how much weight (Wtloss) a dieter will lose over a 2-year diet plan as a function of:\n",
    "\n",
    "* Diet type (categorical)\n",
    "* Sex (categorical)\n",
    "* Age at beginning of diet (continuous)\n",
    "* BMI (body mass index) at beginning of diet (continuous)\n",
    "\n",
    "You do not want to assume that any of the relationships are linear.\n",
    "\n",
    "Which is the most appropriate formula?\n",
    "* Wtloss ~ Diet + Sex + s(Age) + s(BMI)\n",
    "\n",
    "\n",
    "Suppose that in the diet problem from the previous exercise, you now also want to take into account\n",
    "\n",
    "* the dieter's resting metabolic rate (BMR -- continuous) and\n",
    "* the dieter's average number hours of aerobic exercise per day (E -- continuous) at the beginning of the study.\n",
    "\n",
    "You have reason to believe that the relationship between BMR and weight loss is linear (and you want to model it that way), but not necessarily the relationship between aerobic exercise and weight loss.\n",
    "\n",
    "Which is the most appropriate formula?\n",
    "* Wtloss ~ Diet + Sex + s(Age) + s(BMI) + BMR + s(E)"
   ]
  },
  {
   "cell_type": "markdown",
   "metadata": {},
   "source": [
    "### Model soybean growth with GAM\n",
    "\n",
    "In this exercise you will model the average leaf weight on a soybean plant as a function of time (after planting). As you will see, the soybean plant doesn't grow at a steady rate, but rather has a \"growth spurt\" that eventually tapers off. Hence, leaf weight is not well described by a linear model.\n",
    "\n",
    "Recall that you can designate which variable you want to model non-linearly in a formula with the `s()` function:\n",
    "\n",
    "    y ~ s(x)\n",
    "\n",
    "Also remember that `gam()` from the package mgcv has the calling interface\n",
    "\n",
    "    gam(formula, family, data)\n",
    "\n",
    "For standard regression, use `family = gaussian` (the default).\n",
    "\n",
    "The soybean training data, soybean_train is loaded into your workspace. It has two columns: the outcome weight and the variable Time. For comparison, the linear model model.lin, which was fit using the formula weight ~ Time has already been loaded into the workspace as well."
   ]
  },
  {
   "cell_type": "code",
   "execution_count": 98,
   "metadata": {},
   "outputs": [],
   "source": [
    "load(\"Soybean.RData\")"
   ]
  },
  {
   "cell_type": "code",
   "execution_count": 99,
   "metadata": {},
   "outputs": [],
   "source": [
    "library(mgcv)"
   ]
  },
  {
   "cell_type": "code",
   "execution_count": 100,
   "metadata": {},
   "outputs": [
    {
     "data": {
      "text/plain": [
       "      Plot     Variety   Year          Time           weight       \n",
       " 1988F6 : 10   F:161   1988:124   Min.   :14.00   Min.   : 0.0290  \n",
       " 1988F7 :  9   P:169   1989:102   1st Qu.:27.00   1st Qu.: 0.6663  \n",
       " 1988P1 :  9           1990:104   Median :42.00   Median : 3.5233  \n",
       " 1988P8 :  9                      Mean   :43.56   Mean   : 6.1645  \n",
       " 1988P2 :  9                      3rd Qu.:56.00   3rd Qu.:10.3808  \n",
       " 1988F3 :  8                      Max.   :84.00   Max.   :27.3700  \n",
       " (Other):276                                                       "
      ]
     },
     "metadata": {},
     "output_type": "display_data"
    },
    {
     "data": {},
     "metadata": {},
     "output_type": "display_data"
    },
    {
     "data": {
      "image/png": "[encoded data removed]",
      "text/plain": [
       "plot without title"
      ]
     },
     "metadata": {},
     "output_type": "display_data"
    }
   ],
   "source": [
    "# soybean_train is in the workspace\n",
    "summary(soybean_train)\n",
    "\n",
    "# Plot weight vs Time (Time on x axis)\n",
    "ggplot(soybean_train, aes(x = Time, y = weight)) + \n",
    "  geom_point()"
   ]
  },
  {
   "cell_type": "code",
   "execution_count": 101,
   "metadata": {},
   "outputs": [
    {
     "data": {
      "text/plain": [
       "weight ~ Time"
      ]
     },
     "metadata": {},
     "output_type": "display_data"
    },
    {
     "data": {
      "text/plain": [
       "weight ~ s(Time)"
      ]
     },
     "metadata": {},
     "output_type": "display_data"
    },
    {
     "data": {
      "text/plain": [
       "\n",
       "Call:\n",
       "lm(formula = fmla.lin, data = soybean_train)\n",
       "\n",
       "Residuals:\n",
       "    Min      1Q  Median      3Q     Max \n",
       "-9.3933 -1.7100 -0.3909  1.9056 11.4381 \n",
       "\n",
       "Coefficients:\n",
       "             Estimate Std. Error t value Pr(>|t|)    \n",
       "(Intercept) -6.559283   0.358527  -18.30   <2e-16 ***\n",
       "Time         0.292094   0.007444   39.24   <2e-16 ***\n",
       "---\n",
       "Signif. codes:  0 '***' 0.001 '**' 0.01 '*' 0.05 '.' 0.1 ' ' 1\n",
       "\n",
       "Residual standard error: 2.778 on 328 degrees of freedom\n",
       "Multiple R-squared:  0.8244,\tAdjusted R-squared:  0.8238 \n",
       "F-statistic:  1540 on 1 and 328 DF,  p-value: < 2.2e-16\n"
      ]
     },
     "metadata": {},
     "output_type": "display_data"
    },
    {
     "data": {
      "text/plain": [
       "\n",
       "Family: gaussian \n",
       "Link function: identity \n",
       "\n",
       "Formula:\n",
       "weight ~ s(Time)\n",
       "\n",
       "Parametric coefficients:\n",
       "            Estimate Std. Error t value Pr(>|t|)    \n",
       "(Intercept)   6.1645     0.1143   53.93   <2e-16 ***\n",
       "---\n",
       "Signif. codes:  0 '***' 0.001 '**' 0.01 '*' 0.05 '.' 0.1 ' ' 1\n",
       "\n",
       "Approximate significance of smooth terms:\n",
       "          edf Ref.df     F p-value    \n",
       "s(Time) 8.495   8.93 338.2  <2e-16 ***\n",
       "---\n",
       "Signif. codes:  0 '***' 0.001 '**' 0.01 '*' 0.05 '.' 0.1 ' ' 1\n",
       "\n",
       "R-sq.(adj) =  0.902   Deviance explained = 90.4%\n",
       "GCV = 4.4395  Scale est. = 4.3117    n = 330"
      ]
     },
     "metadata": {},
     "output_type": "display_data"
    },
    {
     "data": {
      "image/png": "[encoded data removed]",
      "text/plain": [
       "plot without title"
      ]
     },
     "metadata": {},
     "output_type": "display_data"
    }
   ],
   "source": [
    "# Create the formula for fmla.lin\n",
    "(fmla.lin <- weight ~ Time)\n",
    "\n",
    "# Fit a linear model\n",
    "model.lin <- lm(fmla.lin, data = soybean_train)\n",
    "\n",
    "# Create the formula \n",
    "(fmla.gam <- weight ~ s(Time))\n",
    "\n",
    "# Fit the GAM Model\n",
    "model.gam <- gam(fmla.gam, data = soybean_train)\n",
    "\n",
    "# Call summary() on model.lin and look for R-squared\n",
    "summary(model.lin)\n",
    "\n",
    "# Call summary() on model.gam and look for R-squared\n",
    "summary(model.gam)\n",
    "\n",
    "# Call plot() on model.gam\n",
    "plot(model.gam)"
   ]
  },
  {
   "cell_type": "markdown",
   "metadata": {},
   "source": [
    "For this data, the GAM appears to fit the data better than a linear model, as measured by the R-squared. \n",
    "### Predict with the soybean model on test data"
   ]
  },
  {
   "cell_type": "code",
   "execution_count": 102,
   "metadata": {},
   "outputs": [
    {
     "data": {
      "text/plain": [
       "      Plot    Variety   Year         Time           weight       \n",
       " 1988F8 : 4   F:43    1988:32   Min.   :14.00   Min.   : 0.0380  \n",
       " 1988P7 : 4   P:39    1989:26   1st Qu.:23.00   1st Qu.: 0.4248  \n",
       " 1989F8 : 4           1990:24   Median :41.00   Median : 3.0025  \n",
       " 1990F8 : 4                     Mean   :44.09   Mean   : 7.1576  \n",
       " 1988F4 : 3                     3rd Qu.:69.00   3rd Qu.:15.0113  \n",
       " 1988F2 : 3                     Max.   :84.00   Max.   :30.2717  \n",
       " (Other):60                                                      "
      ]
     },
     "metadata": {},
     "output_type": "display_data"
    },
    {
     "data": {
      "text/html": [
       "<table>\n",
       "<thead><tr><th scope=col>modeltype</th><th scope=col>rmse</th></tr></thead>\n",
       "<tbody>\n",
       "\t<tr><td>pred.gam</td><td>2.286451</td></tr>\n",
       "\t<tr><td>pred.lin</td><td>3.190995</td></tr>\n",
       "</tbody>\n",
       "</table>\n"
      ],
      "text/latex": [
       "\\begin{tabular}{r|ll}\n",
       " modeltype & rmse\\\\\n",
       "\\hline\n",
       "\t pred.gam & 2.286451\\\\\n",
       "\t pred.lin & 3.190995\\\\\n",
       "\\end{tabular}\n"
      ],
      "text/markdown": [
       "\n",
       "modeltype | rmse | \n",
       "|---|---|\n",
       "| pred.gam | 2.286451 | \n",
       "| pred.lin | 3.190995 | \n",
       "\n",
       "\n"
      ],
      "text/plain": [
       "  modeltype rmse    \n",
       "1 pred.gam  2.286451\n",
       "2 pred.lin  3.190995"
      ]
     },
     "metadata": {},
     "output_type": "display_data"
    },
    {
     "data": {},
     "metadata": {},
     "output_type": "display_data"
    },
    {
     "data": {
      "image/png": "[encoded data removed]",
      "text/plain": [
       "plot without title"
      ]
     },
     "metadata": {},
     "output_type": "display_data"
    }
   ],
   "source": [
    "# soybean_test is in the workspace\n",
    "summary(soybean_test)\n",
    "\n",
    "# Get predictions from linear model\n",
    "soybean_test$pred.lin <- predict(model.lin, newdata = soybean_test)\n",
    "\n",
    "# Get predictions from gam model\n",
    "soybean_test$pred.gam <- as.numeric(predict(model.gam, newdata = soybean_test))\n",
    "\n",
    "# Gather the predictions into a \"long\" dataset\n",
    "soybean_long <- soybean_test %>%\n",
    "  gather(key = modeltype, value = pred, pred.lin, pred.gam)\n",
    "\n",
    "# Calculate the rmse\n",
    "soybean_long %>%\n",
    "  mutate(residual = weight - pred) %>%     # residuals\n",
    "  group_by(modeltype) %>%                  # group by modeltype\n",
    "  summarize(rmse = sqrt(mean(residual^2))) # calculate the RMSE\n",
    "\n",
    "# Compare the predictions against actual weights on the test data\n",
    "soybean_long %>%\n",
    "  ggplot(aes(x = Time)) +                          # the column for the x axis\n",
    "  geom_point(aes(y = weight)) +                    # the y-column for the scatterplot\n",
    "  geom_point(aes(y = pred, color = modeltype)) +   # the y-column for the point-and-line plot\n",
    "  geom_line(aes(y = pred, color = modeltype, linetype = modeltype)) + # the y-column for the point-and-line plot\n",
    "  scale_color_brewer(palette = \"Dark2\")\n",
    "  "
   ]
  },
  {
   "cell_type": "markdown",
   "metadata": {},
   "source": [
    "The GAM learns the non-linear growth function of the soybean plants, including the fact that weight is never negative. "
   ]
  },
  {
   "cell_type": "markdown",
   "metadata": {},
   "source": [
    "### Build a random forest model for bike rentals\n",
    "\n",
    "In this exercise you will again build a model to predict the number of bikes rented in an hour as a function of the weather, the type of day (holiday, working day, or weekend), and the time of day. You will train the model on data from the month of July.\n",
    "\n",
    "You will use the ranger package to fit the random forest model. For this exercise, the key arguments to the `ranger()` call are:\n",
    "\n",
    "* `formula`\n",
    "* `data`\n",
    "* `num.trees`: the number of trees in the forest.\n",
    "* `respect.unordered.factors` : Specifies how to treat unordered factor variables. We recommend setting this to \"order\" for regression.\n",
    "* `seed`: because this is a random algorithm, you will set the seed to get reproducible results\n",
    "\n",
    "Since there are a lot of input variables, for convenience we will specify the outcome and the inputs in the variables outcome and vars, and use `paste()` to assemble a string representing the model formula."
   ]
  },
  {
   "cell_type": "code",
   "execution_count": 103,
   "metadata": {},
   "outputs": [
    {
     "name": "stdout",
     "output_type": "stream",
     "text": [
      "'data.frame':\t744 obs. of  12 variables:\n",
      " $ hr        : Factor w/ 24 levels \"0\",\"1\",\"2\",\"3\",..: 1 2 3 4 5 6 7 8 9 10 ...\n",
      " $ holiday   : logi  FALSE FALSE FALSE FALSE FALSE FALSE ...\n",
      " $ workingday: logi  FALSE FALSE FALSE FALSE FALSE FALSE ...\n",
      " $ weathersit: chr  \"Clear to partly cloudy\" \"Clear to partly cloudy\" \"Clear to partly cloudy\" \"Clear to partly cloudy\" ...\n",
      " $ temp      : num  0.76 0.74 0.72 0.72 0.7 0.68 0.7 0.74 0.78 0.82 ...\n",
      " $ atemp     : num  0.727 0.697 0.697 0.712 0.667 ...\n",
      " $ hum       : num  0.66 0.7 0.74 0.84 0.79 0.79 0.79 0.7 0.62 0.56 ...\n",
      " $ windspeed : num  0 0.1343 0.0896 0.1343 0.194 ...\n",
      " $ cnt       : int  149 93 90 33 4 10 27 50 142 219 ...\n",
      " $ instant   : int  13004 13005 13006 13007 13008 13009 13010 13011 13012 13013 ...\n",
      " $ mnth      : int  7 7 7 7 7 7 7 7 7 7 ...\n",
      " $ yr        : int  1 1 1 1 1 1 1 1 1 1 ...\n"
     ]
    },
    {
     "data": {
      "text/html": [
       "'cnt'"
      ],
      "text/latex": [
       "'cnt'"
      ],
      "text/markdown": [
       "'cnt'"
      ],
      "text/plain": [
       "[1] \"cnt\""
      ]
     },
     "metadata": {},
     "output_type": "display_data"
    },
    {
     "data": {
      "text/html": [
       "<ol class=list-inline>\n",
       "\t<li>'hr'</li>\n",
       "\t<li>'holiday'</li>\n",
       "\t<li>'workingday'</li>\n",
       "\t<li>'weathersit'</li>\n",
       "\t<li>'temp'</li>\n",
       "\t<li>'atemp'</li>\n",
       "\t<li>'hum'</li>\n",
       "\t<li>'windspeed'</li>\n",
       "</ol>\n"
      ],
      "text/latex": [
       "\\begin{enumerate*}\n",
       "\\item 'hr'\n",
       "\\item 'holiday'\n",
       "\\item 'workingday'\n",
       "\\item 'weathersit'\n",
       "\\item 'temp'\n",
       "\\item 'atemp'\n",
       "\\item 'hum'\n",
       "\\item 'windspeed'\n",
       "\\end{enumerate*}\n"
      ],
      "text/markdown": [
       "1. 'hr'\n",
       "2. 'holiday'\n",
       "3. 'workingday'\n",
       "4. 'weathersit'\n",
       "5. 'temp'\n",
       "6. 'atemp'\n",
       "7. 'hum'\n",
       "8. 'windspeed'\n",
       "\n",
       "\n"
      ],
      "text/plain": [
       "[1] \"hr\"         \"holiday\"    \"workingday\" \"weathersit\" \"temp\"      \n",
       "[6] \"atemp\"      \"hum\"        \"windspeed\" "
      ]
     },
     "metadata": {},
     "output_type": "display_data"
    },
    {
     "data": {
      "text/html": [
       "'cnt ~ hr + holiday + workingday + weathersit + temp + atemp + hum + windspeed'"
      ],
      "text/latex": [
       "'cnt \\textasciitilde{} hr + holiday + workingday + weathersit + temp + atemp + hum + windspeed'"
      ],
      "text/markdown": [
       "'cnt ~ hr + holiday + workingday + weathersit + temp + atemp + hum + windspeed'"
      ],
      "text/plain": [
       "[1] \"cnt ~ hr + holiday + workingday + weathersit + temp + atemp + hum + windspeed\""
      ]
     },
     "metadata": {},
     "output_type": "display_data"
    },
    {
     "data": {
      "text/plain": [
       "Ranger result\n",
       "\n",
       "Call:\n",
       " ranger(fmla, bikesJuly, num.trees = 500, respect.unordered.factors = \"order\",      seed = seed) \n",
       "\n",
       "Type:                             Regression \n",
       "Number of trees:                  500 \n",
       "Sample size:                      744 \n",
       "Number of independent variables:  8 \n",
       "Mtry:                             2 \n",
       "Target node size:                 5 \n",
       "Variable importance mode:         none \n",
       "Splitrule:                        variance \n",
       "OOB prediction error (MSE):       8573.135 \n",
       "R squared (OOB):                  0.8130742 "
      ]
     },
     "metadata": {},
     "output_type": "display_data"
    }
   ],
   "source": [
    "# bikesJuly is in the workspace\n",
    "str(bikesJuly)\n",
    "\n",
    "# Random seed to reproduce results\n",
    "seed <- set.seed(423563)\n",
    "\n",
    "# The outcome column\n",
    "(outcome <- \"cnt\")\n",
    "\n",
    "# The input variables\n",
    "(vars <- c(\"hr\", \"holiday\", \"workingday\", \"weathersit\", \"temp\", \"atemp\", \"hum\", \"windspeed\"))\n",
    "\n",
    "# Create the formula string for bikes rented as a function of the inputs\n",
    "(fmla <- paste(outcome, \"~\", paste(vars, collapse = \" + \")))\n",
    "\n",
    "# Load the package ranger\n",
    "library(ranger)\n",
    "\n",
    "# Fit and print the random forest model\n",
    "(bike_model_rf <- ranger(fmla, # formula \n",
    "                         bikesJuly, # data\n",
    "                         num.trees = 500, \n",
    "                         respect.unordered.factors = \"order\", \n",
    "                         seed = seed))"
   ]
  },
  {
   "cell_type": "markdown",
   "metadata": {},
   "source": [
    "You have fit a model to the data with a respectable R-squared. In the next exercise you will see how well it does on holdout data. "
   ]
  },
  {
   "cell_type": "markdown",
   "metadata": {},
   "source": [
    "### Predict bike rentals with the random forest model\n",
    "\n",
    "In this exercise you will use the model that you fit in the previous exercise to predict bike rentals for the month of August.\n",
    "\n",
    "The `predict()` function for a ranger model produces a list. One of the elements of this list is predictions, a vector of predicted values. You can access predictions with the `$` notation for accessing named elements of a list:\n",
    "\n",
    "       predict(model, data)$predictions"
   ]
  },
  {
   "cell_type": "code",
   "execution_count": 137,
   "metadata": {},
   "outputs": [
    {
     "name": "stdout",
     "output_type": "stream",
     "text": [
      "'data.frame':\t744 obs. of  13 variables:\n",
      " $ hr        : Factor w/ 24 levels \"0\",\"1\",\"2\",\"3\",..: 1 2 3 4 5 6 7 8 9 10 ...\n",
      " $ holiday   : logi  FALSE FALSE FALSE FALSE FALSE FALSE ...\n",
      " $ workingday: logi  TRUE TRUE TRUE TRUE TRUE TRUE ...\n",
      " $ weathersit: chr  \"Clear to partly cloudy\" \"Clear to partly cloudy\" \"Clear to partly cloudy\" \"Clear to partly cloudy\" ...\n",
      " $ temp      : num  0.68 0.66 0.64 0.64 0.64 0.64 0.64 0.64 0.66 0.68 ...\n",
      " $ atemp     : num  0.636 0.606 0.576 0.576 0.591 ...\n",
      " $ hum       : num  0.79 0.83 0.83 0.83 0.78 0.78 0.78 0.83 0.78 0.74 ...\n",
      " $ windspeed : num  0.1642 0.0896 0.1045 0.1045 0.1343 ...\n",
      " $ cnt       : int  47 33 13 7 4 49 185 487 681 350 ...\n",
      " $ instant   : int  13748 13749 13750 13751 13752 13753 13754 13755 13756 13757 ...\n",
      " $ mnth      : int  8 8 8 8 8 8 8 8 8 8 ...\n",
      " $ yr        : int  1 1 1 1 1 1 1 1 1 1 ...\n",
      " $ pred      : num  47.595 35.276 0.552 -6.725 3.847 ...\n"
     ]
    },
    {
     "data": {
      "text/plain": [
       "Ranger result\n",
       "\n",
       "Call:\n",
       " ranger(fmla, bikesJuly, num.trees = 500, respect.unordered.factors = \"order\",      seed = seed) \n",
       "\n",
       "Type:                             Regression \n",
       "Number of trees:                  500 \n",
       "Sample size:                      744 \n",
       "Number of independent variables:  8 \n",
       "Mtry:                             2 \n",
       "Target node size:                 5 \n",
       "Variable importance mode:         none \n",
       "Splitrule:                        variance \n",
       "OOB prediction error (MSE):       8573.135 \n",
       "R squared (OOB):                  0.8130742 "
      ]
     },
     "metadata": {},
     "output_type": "display_data"
    },
    {
     "data": {
      "text/html": [
       "<table>\n",
       "<thead><tr><th scope=col>rmse</th></tr></thead>\n",
       "<tbody>\n",
       "\t<tr><td>97.34674</td></tr>\n",
       "</tbody>\n",
       "</table>\n"
      ],
      "text/latex": [
       "\\begin{tabular}{r|l}\n",
       " rmse\\\\\n",
       "\\hline\n",
       "\t 97.34674\\\\\n",
       "\\end{tabular}\n"
      ],
      "text/markdown": [
       "\n",
       "rmse | \n",
       "|---|\n",
       "| 97.34674 | \n",
       "\n",
       "\n"
      ],
      "text/plain": [
       "  rmse    \n",
       "1 97.34674"
      ]
     },
     "metadata": {},
     "output_type": "display_data"
    },
    {
     "data": {},
     "metadata": {},
     "output_type": "display_data"
    },
    {
     "data": {
      "image/png": "[encoded data removed]",
      "text/plain": [
       "plot without title"
      ]
     },
     "metadata": {},
     "output_type": "display_data"
    }
   ],
   "source": [
    "# bikesAugust is in the workspace\n",
    "str(bikesAugust)\n",
    "\n",
    "# bike_model_rf is in the workspace\n",
    "bike_model_rf\n",
    "\n",
    "# Make predictions on the August data\n",
    "bikesAugust$pred <- predict(bike_model_rf, bikesAugust)$predictions\n",
    "\n",
    "# Calculate the RMSE of the predictions\n",
    "bikesAugust %>% \n",
    "  mutate(residual = cnt - pred)  %>% # calculate the residual\n",
    "  summarize(rmse  = sqrt(mean(residual^2)))      # calculate rmse\n",
    "\n",
    "# Plot actual outcome vs predictions (predictions on x-axis)\n",
    "ggplot(bikesAugust, aes(x = pred, y = cnt)) + \n",
    "  geom_point() + \n",
    "  geom_abline()"
   ]
  },
  {
   "cell_type": "markdown",
   "metadata": {},
   "source": [
    " This random forest model outperforms the poisson count model on the same data; it is discovering more complex non-linear or non-additive relationships in the data. "
   ]
  },
  {
   "cell_type": "markdown",
   "metadata": {},
   "source": [
    "### Visualize random forest bike model predictions\n",
    "\n",
    "In the previous exercise, you saw that the random forest bike model did better on the August data than the quasiposson model, in terms of RMSE.\n",
    "\n",
    "In this exercise you will visualize the random forest model's August predictions as a function of time. The corresponding plot from the quasipoisson model that you built in a previous exercise is in the workspace for you to compare.\n",
    "\n",
    "Recall that the quasipoisson model mostly identified the pattern of slow and busy hours in the day, but it somewhat underestimated peak demands. You would like to see how the random forest model compares."
   ]
  },
  {
   "cell_type": "code",
   "execution_count": 138,
   "metadata": {},
   "outputs": [
    {
     "data": {},
     "metadata": {},
     "output_type": "display_data"
    },
    {
     "data": {},
     "metadata": {},
     "output_type": "display_data"
    },
    {
     "data": {
      "image/png": "[encoded data removed]",
      "text/plain": [
       "plot without title"
      ]
     },
     "metadata": {},
     "output_type": "display_data"
    },
    {
     "data": {
      "image/png": "[encoded data removed]",
      "text/plain": [
       "plot without title"
      ]
     },
     "metadata": {},
     "output_type": "display_data"
    }
   ],
   "source": [
    "# Print quasipoisson_plot\n",
    "quasipoisson_plot\n",
    "\n",
    "# Plot predictions and cnt by date/time\n",
    "randomforest_plot <- bikesAugust %>% \n",
    "  mutate(instant = (instant - min(instant))/24) %>%  # set start to 0, convert unit to days\n",
    "  gather(key = valuetype, value = value, cnt, pred) %>%\n",
    "  filter(instant < 14) %>% # first two weeks\n",
    "  ggplot(aes(x = instant, y = value, color = valuetype, linetype = valuetype)) + \n",
    "  geom_point() + \n",
    "  geom_line() + \n",
    "  scale_x_continuous(\"Day\", breaks = 0:14, labels = 0:14) + \n",
    "  scale_color_brewer(palette = \"Dark2\") + \n",
    "  ggtitle(\"Predicted August bike rentals, Random Forest plot\")\n",
    "randomforest_plot"
   ]
  },
  {
   "cell_type": "markdown",
   "metadata": {},
   "source": [
    "The random forest model captured the day-to-day variations in peak demand better than the quasipoisson model, but it still underestmates peak demand, and also overestimates minimum demand. So there is still room for improvement. "
   ]
  },
  {
   "cell_type": "markdown",
   "metadata": {},
   "source": [
    "### vtreat on a small example\n",
    "\n",
    "In this exercise you will use `vtreat` to one-hot-encode a categorical variable on a small example. `vtreat` creates a treatment plan to transform categorical variables into indicator variables (coded `\"lev\"`), and to clean bad values out of numerical variables (coded `\"clean\"`).\n",
    "\n",
    "To design a treatment plan use the function `designTreatmentsZ()`\n",
    "\n",
    "    treatplan <- designTreatmentsZ(data, varlist)\n",
    "\n",
    "* `data`: the original training data frame\n",
    "* `varlist`: a vector of input variables to be treated (as strings).\n",
    "\n",
    "`designTreatmentsZ()` returns a list with an element `scoreFrame`: a data frame that includes the names and types of the new variables:\n",
    "\n",
    "    scoreFrame <- treatplan %>% \n",
    "            magrittr::use_series(scoreFrame) %>% \n",
    "            select(varName, origName, code)\n",
    "\n",
    "* `varName`: the name of the new treated variable\n",
    "* `origName`: the name of the original variable that the treated variable     comes from\n",
    "* `code`: the type of the new variable.\n",
    "    * `\"clean\"`: a numerical variable with no NAs or NaNs\n",
    "    * `\"lev\"`: an indicator variable for a specific level of the original categorical variable.\n",
    "\n",
    "(`magrittr::use_series()` is an alias for `$` that you can use in pipes.)\n",
    "\n",
    "For these exercises, we want `varName` where `code` is either `\"clean\"` or `\"lev\"`:\n",
    "\n",
    "    newvarlist <- scoreFrame %>% \n",
    "             filter(code %in% c(\"clean\", \"lev\") %>%\n",
    "             magrittr::use_series(varName)\n",
    "\n",
    "To transform the data set into all numerical and one-hot-encoded variables, use `prepare()`:\n",
    "\n",
    "    data.treat <- prepare(treatplan, data, varRestrictions = newvarlist)\n",
    "\n",
    "* `treatplan`: the treatment plan\n",
    "* `data`: the data frame to be treated\n",
    "* `varRestrictions`: the variables desired in the treated data\n"
   ]
  },
  {
   "cell_type": "code",
   "execution_count": 109,
   "metadata": {},
   "outputs": [
    {
     "name": "stdout",
     "output_type": "stream",
     "text": [
      "'data.frame':\t10 obs. of  3 variables:\n",
      " $ color     : Factor w/ 3 levels \"b\",\"g\",\"r\": 1 3 3 3 3 1 3 2 1 1\n",
      " $ size      : num  13 11 15 14 13 11 9 12 7 12\n",
      " $ popularity: num  1.079 1.396 0.922 1.203 1.084 ...\n"
     ]
    }
   ],
   "source": [
    "# dframe \n",
    "color <- factor(c(\"b\", \"r\", \"r\", \"r\", \"r\", \"b\", \"r\", \"g\", \"b\", \"b\"), \n",
    "                levels= c(\"b\", \"g\", \"r\"))\n",
    "size <- c(13, 11, 15, 14, 13, 11, 9, 12, 7, 12)\n",
    "popularity <- c(1.0785088, 1.3956245, 0.9217988, 1.2025453, 1.0838662,\n",
    "                0.8043527, 1.1035440, 0.8746332, 0.6947058, 0.8832502)\n",
    "dframe <- data.frame(color, size, popularity)\n",
    "str(dframe)"
   ]
  },
  {
   "cell_type": "code",
   "execution_count": 114,
   "metadata": {},
   "outputs": [
    {
     "data": {
      "text/html": [
       "<ol class=list-inline>\n",
       "\t<li>'color'</li>\n",
       "\t<li>'size'</li>\n",
       "</ol>\n"
      ],
      "text/latex": [
       "\\begin{enumerate*}\n",
       "\\item 'color'\n",
       "\\item 'size'\n",
       "\\end{enumerate*}\n"
      ],
      "text/markdown": [
       "1. 'color'\n",
       "2. 'size'\n",
       "\n",
       "\n"
      ],
      "text/plain": [
       "[1] \"color\" \"size\" "
      ]
     },
     "metadata": {},
     "output_type": "display_data"
    },
    {
     "name": "stdout",
     "output_type": "stream",
     "text": [
      "[1] \"vtreat 1.3.2 inspecting inputs Wed Dec 05 22:40:55 2018\"\n",
      "[1] \"designing treatments Wed Dec 05 22:40:55 2018\"\n",
      "[1] \" have initial level statistics Wed Dec 05 22:40:55 2018\"\n",
      "[1] \" scoring treatments Wed Dec 05 22:40:55 2018\"\n",
      "[1] \"have treatment plan Wed Dec 05 22:40:55 2018\"\n"
     ]
    },
    {
     "data": {
      "text/html": [
       "<table>\n",
       "<thead><tr><th scope=col>varName</th><th scope=col>origName</th><th scope=col>code</th></tr></thead>\n",
       "<tbody>\n",
       "\t<tr><td>color_catP   </td><td>color        </td><td>catP         </td></tr>\n",
       "\t<tr><td>size_clean   </td><td>size         </td><td>clean        </td></tr>\n",
       "\t<tr><td>color_lev_x_b</td><td>color        </td><td>lev          </td></tr>\n",
       "\t<tr><td>color_lev_x_g</td><td>color        </td><td>lev          </td></tr>\n",
       "\t<tr><td>color_lev_x_r</td><td>color        </td><td>lev          </td></tr>\n",
       "</tbody>\n",
       "</table>\n"
      ],
      "text/latex": [
       "\\begin{tabular}{r|lll}\n",
       " varName & origName & code\\\\\n",
       "\\hline\n",
       "\t color\\_catP    & color           & catP           \\\\\n",
       "\t size\\_clean    & size            & clean          \\\\\n",
       "\t color\\_lev\\_x\\_b & color               & lev                \\\\\n",
       "\t color\\_lev\\_x\\_g & color               & lev                \\\\\n",
       "\t color\\_lev\\_x\\_r & color               & lev                \\\\\n",
       "\\end{tabular}\n"
      ],
      "text/markdown": [
       "\n",
       "varName | origName | code | \n",
       "|---|---|---|---|---|\n",
       "| color_catP    | color         | catP          | \n",
       "| size_clean    | size          | clean         | \n",
       "| color_lev_x_b | color         | lev           | \n",
       "| color_lev_x_g | color         | lev           | \n",
       "| color_lev_x_r | color         | lev           | \n",
       "\n",
       "\n"
      ],
      "text/plain": [
       "  varName       origName code \n",
       "1 color_catP    color    catP \n",
       "2 size_clean    size     clean\n",
       "3 color_lev_x_b color    lev  \n",
       "4 color_lev_x_g color    lev  \n",
       "5 color_lev_x_r color    lev  "
      ]
     },
     "metadata": {},
     "output_type": "display_data"
    },
    {
     "data": {
      "text/html": [
       "<ol class=list-inline>\n",
       "\t<li>'size_clean'</li>\n",
       "\t<li>'color_lev_x_b'</li>\n",
       "\t<li>'color_lev_x_g'</li>\n",
       "\t<li>'color_lev_x_r'</li>\n",
       "</ol>\n"
      ],
      "text/latex": [
       "\\begin{enumerate*}\n",
       "\\item 'size\\_clean'\n",
       "\\item 'color\\_lev\\_x\\_b'\n",
       "\\item 'color\\_lev\\_x\\_g'\n",
       "\\item 'color\\_lev\\_x\\_r'\n",
       "\\end{enumerate*}\n"
      ],
      "text/markdown": [
       "1. 'size_clean'\n",
       "2. 'color_lev_x_b'\n",
       "3. 'color_lev_x_g'\n",
       "4. 'color_lev_x_r'\n",
       "\n",
       "\n"
      ],
      "text/plain": [
       "[1] \"size_clean\"    \"color_lev_x_b\" \"color_lev_x_g\" \"color_lev_x_r\""
      ]
     },
     "metadata": {},
     "output_type": "display_data"
    },
    {
     "data": {
      "text/html": [
       "<table>\n",
       "<thead><tr><th scope=col>size_clean</th><th scope=col>color_lev_x_b</th><th scope=col>color_lev_x_g</th><th scope=col>color_lev_x_r</th></tr></thead>\n",
       "<tbody>\n",
       "\t<tr><td>13</td><td>1 </td><td>0 </td><td>0 </td></tr>\n",
       "\t<tr><td>11</td><td>0 </td><td>0 </td><td>1 </td></tr>\n",
       "\t<tr><td>15</td><td>0 </td><td>0 </td><td>1 </td></tr>\n",
       "\t<tr><td>14</td><td>0 </td><td>0 </td><td>1 </td></tr>\n",
       "\t<tr><td>13</td><td>0 </td><td>0 </td><td>1 </td></tr>\n",
       "\t<tr><td>11</td><td>1 </td><td>0 </td><td>0 </td></tr>\n",
       "\t<tr><td> 9</td><td>0 </td><td>0 </td><td>1 </td></tr>\n",
       "\t<tr><td>12</td><td>0 </td><td>1 </td><td>0 </td></tr>\n",
       "\t<tr><td> 7</td><td>1 </td><td>0 </td><td>0 </td></tr>\n",
       "\t<tr><td>12</td><td>1 </td><td>0 </td><td>0 </td></tr>\n",
       "</tbody>\n",
       "</table>\n"
      ],
      "text/latex": [
       "\\begin{tabular}{r|llll}\n",
       " size\\_clean & color\\_lev\\_x\\_b & color\\_lev\\_x\\_g & color\\_lev\\_x\\_r\\\\\n",
       "\\hline\n",
       "\t 13 & 1  & 0  & 0 \\\\\n",
       "\t 11 & 0  & 0  & 1 \\\\\n",
       "\t 15 & 0  & 0  & 1 \\\\\n",
       "\t 14 & 0  & 0  & 1 \\\\\n",
       "\t 13 & 0  & 0  & 1 \\\\\n",
       "\t 11 & 1  & 0  & 0 \\\\\n",
       "\t  9 & 0  & 0  & 1 \\\\\n",
       "\t 12 & 0  & 1  & 0 \\\\\n",
       "\t  7 & 1  & 0  & 0 \\\\\n",
       "\t 12 & 1  & 0  & 0 \\\\\n",
       "\\end{tabular}\n"
      ],
      "text/markdown": [
       "\n",
       "size_clean | color_lev_x_b | color_lev_x_g | color_lev_x_r | \n",
       "|---|---|---|---|---|---|---|---|---|---|\n",
       "| 13 | 1  | 0  | 0  | \n",
       "| 11 | 0  | 0  | 1  | \n",
       "| 15 | 0  | 0  | 1  | \n",
       "| 14 | 0  | 0  | 1  | \n",
       "| 13 | 0  | 0  | 1  | \n",
       "| 11 | 1  | 0  | 0  | \n",
       "|  9 | 0  | 0  | 1  | \n",
       "| 12 | 0  | 1  | 0  | \n",
       "|  7 | 1  | 0  | 0  | \n",
       "| 12 | 1  | 0  | 0  | \n",
       "\n",
       "\n"
      ],
      "text/plain": [
       "   size_clean color_lev_x_b color_lev_x_g color_lev_x_r\n",
       "1  13         1             0             0            \n",
       "2  11         0             0             1            \n",
       "3  15         0             0             1            \n",
       "4  14         0             0             1            \n",
       "5  13         0             0             1            \n",
       "6  11         1             0             0            \n",
       "7   9         0             0             1            \n",
       "8  12         0             1             0            \n",
       "9   7         1             0             0            \n",
       "10 12         1             0             0            "
      ]
     },
     "metadata": {},
     "output_type": "display_data"
    },
    {
     "data": {
      "text/html": [
       "<table>\n",
       "<thead><tr><th scope=col>color</th><th scope=col>size</th><th scope=col>popularity</th></tr></thead>\n",
       "<tbody>\n",
       "\t<tr><td>b        </td><td>13       </td><td>1.0785088</td></tr>\n",
       "\t<tr><td>r        </td><td>11       </td><td>1.3956245</td></tr>\n",
       "\t<tr><td>r        </td><td>15       </td><td>0.9217988</td></tr>\n",
       "\t<tr><td>r        </td><td>14       </td><td>1.2025453</td></tr>\n",
       "\t<tr><td>r        </td><td>13       </td><td>1.0838662</td></tr>\n",
       "\t<tr><td>b        </td><td>11       </td><td>0.8043527</td></tr>\n",
       "\t<tr><td>r        </td><td> 9       </td><td>1.1035440</td></tr>\n",
       "\t<tr><td>g        </td><td>12       </td><td>0.8746332</td></tr>\n",
       "\t<tr><td>b        </td><td> 7       </td><td>0.6947058</td></tr>\n",
       "\t<tr><td>b        </td><td>12       </td><td>0.8832502</td></tr>\n",
       "</tbody>\n",
       "</table>\n"
      ],
      "text/latex": [
       "\\begin{tabular}{r|lll}\n",
       " color & size & popularity\\\\\n",
       "\\hline\n",
       "\t b         & 13        & 1.0785088\\\\\n",
       "\t r         & 11        & 1.3956245\\\\\n",
       "\t r         & 15        & 0.9217988\\\\\n",
       "\t r         & 14        & 1.2025453\\\\\n",
       "\t r         & 13        & 1.0838662\\\\\n",
       "\t b         & 11        & 0.8043527\\\\\n",
       "\t r         &  9        & 1.1035440\\\\\n",
       "\t g         & 12        & 0.8746332\\\\\n",
       "\t b         &  7        & 0.6947058\\\\\n",
       "\t b         & 12        & 0.8832502\\\\\n",
       "\\end{tabular}\n"
      ],
      "text/markdown": [
       "\n",
       "color | size | popularity | \n",
       "|---|---|---|---|---|---|---|---|---|---|\n",
       "| b         | 13        | 1.0785088 | \n",
       "| r         | 11        | 1.3956245 | \n",
       "| r         | 15        | 0.9217988 | \n",
       "| r         | 14        | 1.2025453 | \n",
       "| r         | 13        | 1.0838662 | \n",
       "| b         | 11        | 0.8043527 | \n",
       "| r         |  9        | 1.1035440 | \n",
       "| g         | 12        | 0.8746332 | \n",
       "| b         |  7        | 0.6947058 | \n",
       "| b         | 12        | 0.8832502 | \n",
       "\n",
       "\n"
      ],
      "text/plain": [
       "   color size popularity\n",
       "1  b     13   1.0785088 \n",
       "2  r     11   1.3956245 \n",
       "3  r     15   0.9217988 \n",
       "4  r     14   1.2025453 \n",
       "5  r     13   1.0838662 \n",
       "6  b     11   0.8043527 \n",
       "7  r      9   1.1035440 \n",
       "8  g     12   0.8746332 \n",
       "9  b      7   0.6947058 \n",
       "10 b     12   0.8832502 "
      ]
     },
     "metadata": {},
     "output_type": "display_data"
    }
   ],
   "source": [
    "# Create and print a vector of variable names\n",
    "(vars <- c(\"color\", \"size\"))\n",
    "\n",
    "# Load the package vtreat\n",
    "library(vtreat)\n",
    "library(magrittr)\n",
    "\n",
    "# Create the treatment plan\n",
    "treatplan <- designTreatmentsZ(dframe, vars)\n",
    "\n",
    "# Examine the scoreFrame\n",
    "(scoreFrame <- treatplan %>%\n",
    "    use_series(scoreFrame) %>%\n",
    "    select(varName, origName, code))\n",
    "\n",
    "# We only want the rows with codes \"clean\" or \"lev\"\n",
    "(newvars <- scoreFrame %>%\n",
    "    filter(code %in% c(\"clean\", \"lev\")) %>%\n",
    "    use_series(varName))\n",
    "\n",
    "# Create the treated training data\n",
    "(dframe.treat <- prepare(treatplan, dframe, varRestriction = newvars))\n",
    "dframe"
   ]
  },
  {
   "cell_type": "markdown",
   "metadata": {},
   "source": [
    "You have successfully one-hot-encoded categorical data. The new indicator variables have '`_lev_`' in their names, and the new cleaned continuous variables have '`_clean`' in their names. The treated data is all numerical, with no missing values, and is suitable for use with xgboost and other R modeling functions. "
   ]
  },
  {
   "cell_type": "markdown",
   "metadata": {},
   "source": [
    "### Novel levels\n",
    "\n",
    "When a level of a categorical variable is rare, sometimes it will fail to show up in training data. If that rare level then appears in future data, downstream models may not know what to do with it. When such novel levels appear, using `model.matrix` or `caret::dummyVars` to one-hot-encode will not work correctly.\n",
    "\n",
    "`vtreat` is a \"safer\" alternative to `model.matrix` for one-hot-encoding, because it can manage novel levels safely. `vtreat` also manages missing values in the data (both categorical and continuous).\n",
    "\n",
    "In this exercise you will see how `vtreat` handles categorical values that did not appear in the training set."
   ]
  },
  {
   "cell_type": "code",
   "execution_count": 116,
   "metadata": {},
   "outputs": [
    {
     "data": {
      "text/plain": [
       "              Length Class           Mode     \n",
       "treatments    3      -none-          list     \n",
       "scoreFrame    8      data.frame      list     \n",
       "outcomename   1      -none-          character\n",
       "vtreatVersion 1      package_version list     \n",
       "outcomeType   1      -none-          character\n",
       "outcomeTarget 1      -none-          character\n",
       "meanY         1      -none-          logical  \n",
       "splitmethod   1      -none-          character"
      ]
     },
     "metadata": {},
     "output_type": "display_data"
    }
   ],
   "source": [
    "summary(treatplan)"
   ]
  },
  {
   "cell_type": "code",
   "execution_count": 119,
   "metadata": {},
   "outputs": [],
   "source": [
    "color <- factor(c(\"g\", \"g\", \"y\", \"g\", \"g\", \"y\", \"b\", \"g\", \"g\", \"r\"), \n",
    "                levels = c(\"b\", \"g\", \"r\", \"y\"))\n",
    "size <- c(7, 8, 10, 12, 6, 8, 12, 12, 12, 8)\n",
    "popularity <- c(0.9733920, 0.9122529, 1.4217153, 1.1905828, 0.9866464,\n",
    "                1.3697515, 1.0959387, 0.9161547, 1.0000460, 1.3137360)\n",
    "\n",
    "testframe <- data.frame(color, size, popularity)"
   ]
  },
  {
   "cell_type": "code",
   "execution_count": 120,
   "metadata": {},
   "outputs": [
    {
     "name": "stdout",
     "output_type": "stream",
     "text": [
      "'data.frame':\t10 obs. of  3 variables:\n",
      " $ color     : Factor w/ 4 levels \"b\",\"g\",\"r\",\"y\": 2 2 4 2 2 4 1 2 2 3\n",
      " $ size      : num  7 8 10 12 6 8 12 12 12 8\n",
      " $ popularity: num  0.973 0.912 1.422 1.191 0.987 ...\n"
     ]
    }
   ],
   "source": [
    "str(testframe)"
   ]
  },
  {
   "cell_type": "code",
   "execution_count": 121,
   "metadata": {},
   "outputs": [
    {
     "data": {
      "text/html": [
       "<table>\n",
       "<thead><tr><th scope=col>color</th><th scope=col>size</th><th scope=col>popularity</th></tr></thead>\n",
       "<tbody>\n",
       "\t<tr><td>b        </td><td>13       </td><td>1.0785088</td></tr>\n",
       "\t<tr><td>r        </td><td>11       </td><td>1.3956245</td></tr>\n",
       "\t<tr><td>r        </td><td>15       </td><td>0.9217988</td></tr>\n",
       "\t<tr><td>r        </td><td>14       </td><td>1.2025453</td></tr>\n",
       "\t<tr><td>r        </td><td>13       </td><td>1.0838662</td></tr>\n",
       "\t<tr><td>b        </td><td>11       </td><td>0.8043527</td></tr>\n",
       "\t<tr><td>r        </td><td> 9       </td><td>1.1035440</td></tr>\n",
       "\t<tr><td>g        </td><td>12       </td><td>0.8746332</td></tr>\n",
       "\t<tr><td>b        </td><td> 7       </td><td>0.6947058</td></tr>\n",
       "\t<tr><td>b        </td><td>12       </td><td>0.8832502</td></tr>\n",
       "</tbody>\n",
       "</table>\n"
      ],
      "text/latex": [
       "\\begin{tabular}{r|lll}\n",
       " color & size & popularity\\\\\n",
       "\\hline\n",
       "\t b         & 13        & 1.0785088\\\\\n",
       "\t r         & 11        & 1.3956245\\\\\n",
       "\t r         & 15        & 0.9217988\\\\\n",
       "\t r         & 14        & 1.2025453\\\\\n",
       "\t r         & 13        & 1.0838662\\\\\n",
       "\t b         & 11        & 0.8043527\\\\\n",
       "\t r         &  9        & 1.1035440\\\\\n",
       "\t g         & 12        & 0.8746332\\\\\n",
       "\t b         &  7        & 0.6947058\\\\\n",
       "\t b         & 12        & 0.8832502\\\\\n",
       "\\end{tabular}\n"
      ],
      "text/markdown": [
       "\n",
       "color | size | popularity | \n",
       "|---|---|---|---|---|---|---|---|---|---|\n",
       "| b         | 13        | 1.0785088 | \n",
       "| r         | 11        | 1.3956245 | \n",
       "| r         | 15        | 0.9217988 | \n",
       "| r         | 14        | 1.2025453 | \n",
       "| r         | 13        | 1.0838662 | \n",
       "| b         | 11        | 0.8043527 | \n",
       "| r         |  9        | 1.1035440 | \n",
       "| g         | 12        | 0.8746332 | \n",
       "| b         |  7        | 0.6947058 | \n",
       "| b         | 12        | 0.8832502 | \n",
       "\n",
       "\n"
      ],
      "text/plain": [
       "   color size popularity\n",
       "1  b     13   1.0785088 \n",
       "2  r     11   1.3956245 \n",
       "3  r     15   0.9217988 \n",
       "4  r     14   1.2025453 \n",
       "5  r     13   1.0838662 \n",
       "6  b     11   0.8043527 \n",
       "7  r      9   1.1035440 \n",
       "8  g     12   0.8746332 \n",
       "9  b      7   0.6947058 \n",
       "10 b     12   0.8832502 "
      ]
     },
     "metadata": {},
     "output_type": "display_data"
    },
    {
     "data": {
      "text/html": [
       "<table>\n",
       "<thead><tr><th scope=col>color</th><th scope=col>size</th><th scope=col>popularity</th></tr></thead>\n",
       "<tbody>\n",
       "\t<tr><td>g        </td><td> 7       </td><td>0.9733920</td></tr>\n",
       "\t<tr><td>g        </td><td> 8       </td><td>0.9122529</td></tr>\n",
       "\t<tr><td>y        </td><td>10       </td><td>1.4217153</td></tr>\n",
       "\t<tr><td>g        </td><td>12       </td><td>1.1905828</td></tr>\n",
       "\t<tr><td>g        </td><td> 6       </td><td>0.9866464</td></tr>\n",
       "\t<tr><td>y        </td><td> 8       </td><td>1.3697515</td></tr>\n",
       "\t<tr><td>b        </td><td>12       </td><td>1.0959387</td></tr>\n",
       "\t<tr><td>g        </td><td>12       </td><td>0.9161547</td></tr>\n",
       "\t<tr><td>g        </td><td>12       </td><td>1.0000460</td></tr>\n",
       "\t<tr><td>r        </td><td> 8       </td><td>1.3137360</td></tr>\n",
       "</tbody>\n",
       "</table>\n"
      ],
      "text/latex": [
       "\\begin{tabular}{r|lll}\n",
       " color & size & popularity\\\\\n",
       "\\hline\n",
       "\t g         &  7        & 0.9733920\\\\\n",
       "\t g         &  8        & 0.9122529\\\\\n",
       "\t y         & 10        & 1.4217153\\\\\n",
       "\t g         & 12        & 1.1905828\\\\\n",
       "\t g         &  6        & 0.9866464\\\\\n",
       "\t y         &  8        & 1.3697515\\\\\n",
       "\t b         & 12        & 1.0959387\\\\\n",
       "\t g         & 12        & 0.9161547\\\\\n",
       "\t g         & 12        & 1.0000460\\\\\n",
       "\t r         &  8        & 1.3137360\\\\\n",
       "\\end{tabular}\n"
      ],
      "text/markdown": [
       "\n",
       "color | size | popularity | \n",
       "|---|---|---|---|---|---|---|---|---|---|\n",
       "| g         |  7        | 0.9733920 | \n",
       "| g         |  8        | 0.9122529 | \n",
       "| y         | 10        | 1.4217153 | \n",
       "| g         | 12        | 1.1905828 | \n",
       "| g         |  6        | 0.9866464 | \n",
       "| y         |  8        | 1.3697515 | \n",
       "| b         | 12        | 1.0959387 | \n",
       "| g         | 12        | 0.9161547 | \n",
       "| g         | 12        | 1.0000460 | \n",
       "| r         |  8        | 1.3137360 | \n",
       "\n",
       "\n"
      ],
      "text/plain": [
       "   color size popularity\n",
       "1  g      7   0.9733920 \n",
       "2  g      8   0.9122529 \n",
       "3  y     10   1.4217153 \n",
       "4  g     12   1.1905828 \n",
       "5  g      6   0.9866464 \n",
       "6  y      8   1.3697515 \n",
       "7  b     12   1.0959387 \n",
       "8  g     12   0.9161547 \n",
       "9  g     12   1.0000460 \n",
       "10 r      8   1.3137360 "
      ]
     },
     "metadata": {},
     "output_type": "display_data"
    },
    {
     "data": {
      "text/html": [
       "<table>\n",
       "<thead><tr><th scope=col>size_clean</th><th scope=col>color_lev_x_b</th><th scope=col>color_lev_x_g</th><th scope=col>color_lev_x_r</th></tr></thead>\n",
       "<tbody>\n",
       "\t<tr><td> 7</td><td>0 </td><td>1 </td><td>0 </td></tr>\n",
       "\t<tr><td> 8</td><td>0 </td><td>1 </td><td>0 </td></tr>\n",
       "\t<tr><td>10</td><td>0 </td><td>0 </td><td>0 </td></tr>\n",
       "\t<tr><td>12</td><td>0 </td><td>1 </td><td>0 </td></tr>\n",
       "\t<tr><td> 6</td><td>0 </td><td>1 </td><td>0 </td></tr>\n",
       "\t<tr><td> 8</td><td>0 </td><td>0 </td><td>0 </td></tr>\n",
       "\t<tr><td>12</td><td>1 </td><td>0 </td><td>0 </td></tr>\n",
       "\t<tr><td>12</td><td>0 </td><td>1 </td><td>0 </td></tr>\n",
       "\t<tr><td>12</td><td>0 </td><td>1 </td><td>0 </td></tr>\n",
       "\t<tr><td> 8</td><td>0 </td><td>0 </td><td>1 </td></tr>\n",
       "</tbody>\n",
       "</table>\n"
      ],
      "text/latex": [
       "\\begin{tabular}{r|llll}\n",
       " size\\_clean & color\\_lev\\_x\\_b & color\\_lev\\_x\\_g & color\\_lev\\_x\\_r\\\\\n",
       "\\hline\n",
       "\t  7 & 0  & 1  & 0 \\\\\n",
       "\t  8 & 0  & 1  & 0 \\\\\n",
       "\t 10 & 0  & 0  & 0 \\\\\n",
       "\t 12 & 0  & 1  & 0 \\\\\n",
       "\t  6 & 0  & 1  & 0 \\\\\n",
       "\t  8 & 0  & 0  & 0 \\\\\n",
       "\t 12 & 1  & 0  & 0 \\\\\n",
       "\t 12 & 0  & 1  & 0 \\\\\n",
       "\t 12 & 0  & 1  & 0 \\\\\n",
       "\t  8 & 0  & 0  & 1 \\\\\n",
       "\\end{tabular}\n"
      ],
      "text/markdown": [
       "\n",
       "size_clean | color_lev_x_b | color_lev_x_g | color_lev_x_r | \n",
       "|---|---|---|---|---|---|---|---|---|---|\n",
       "|  7 | 0  | 1  | 0  | \n",
       "|  8 | 0  | 1  | 0  | \n",
       "| 10 | 0  | 0  | 0  | \n",
       "| 12 | 0  | 1  | 0  | \n",
       "|  6 | 0  | 1  | 0  | \n",
       "|  8 | 0  | 0  | 0  | \n",
       "| 12 | 1  | 0  | 0  | \n",
       "| 12 | 0  | 1  | 0  | \n",
       "| 12 | 0  | 1  | 0  | \n",
       "|  8 | 0  | 0  | 1  | \n",
       "\n",
       "\n"
      ],
      "text/plain": [
       "   size_clean color_lev_x_b color_lev_x_g color_lev_x_r\n",
       "1   7         0             1             0            \n",
       "2   8         0             1             0            \n",
       "3  10         0             0             0            \n",
       "4  12         0             1             0            \n",
       "5   6         0             1             0            \n",
       "6   8         0             0             0            \n",
       "7  12         1             0             0            \n",
       "8  12         0             1             0            \n",
       "9  12         0             1             0            \n",
       "10  8         0             0             1            "
      ]
     },
     "metadata": {},
     "output_type": "display_data"
    }
   ],
   "source": [
    "# Print dframe and testframe\n",
    "dframe\n",
    "testframe\n",
    "\n",
    "# Use prepare() to one-hot-encode testframe\n",
    "(testframe.treat <- prepare(treatplan, testframe, varRestriction = newvars))"
   ]
  },
  {
   "cell_type": "markdown",
   "metadata": {},
   "source": [
    "As you saw, vtreat encodes novel colors like yellow that were not present in the data as all zeros: 'none of the known colors'. This allows downstream models to accept these novel values without crashing. "
   ]
  },
  {
   "cell_type": "markdown",
   "metadata": {},
   "source": [
    "### vtreat the bike rental data\n",
    "\n",
    "In this exercise you will create one-hot-encoded data frames of the July/August bike data, for use with xgboost later on.\n",
    "\n",
    "The data frames bikesJuly and bikesAugust are in the workspace.\n",
    "\n",
    "For your convenience, we have defined the variable vars with the list of variable columns for the model."
   ]
  },
  {
   "cell_type": "code",
   "execution_count": 123,
   "metadata": {},
   "outputs": [
    {
     "data": {
      "text/html": [
       "'cnt'"
      ],
      "text/latex": [
       "'cnt'"
      ],
      "text/markdown": [
       "'cnt'"
      ],
      "text/plain": [
       "[1] \"cnt\""
      ]
     },
     "metadata": {},
     "output_type": "display_data"
    },
    {
     "data": {
      "text/html": [
       "<ol class=list-inline>\n",
       "\t<li>'hr'</li>\n",
       "\t<li>'holiday'</li>\n",
       "\t<li>'workingday'</li>\n",
       "\t<li>'weathersit'</li>\n",
       "\t<li>'temp'</li>\n",
       "\t<li>'atemp'</li>\n",
       "\t<li>'hum'</li>\n",
       "\t<li>'windspeed'</li>\n",
       "</ol>\n"
      ],
      "text/latex": [
       "\\begin{enumerate*}\n",
       "\\item 'hr'\n",
       "\\item 'holiday'\n",
       "\\item 'workingday'\n",
       "\\item 'weathersit'\n",
       "\\item 'temp'\n",
       "\\item 'atemp'\n",
       "\\item 'hum'\n",
       "\\item 'windspeed'\n",
       "\\end{enumerate*}\n"
      ],
      "text/markdown": [
       "1. 'hr'\n",
       "2. 'holiday'\n",
       "3. 'workingday'\n",
       "4. 'weathersit'\n",
       "5. 'temp'\n",
       "6. 'atemp'\n",
       "7. 'hum'\n",
       "8. 'windspeed'\n",
       "\n",
       "\n"
      ],
      "text/plain": [
       "[1] \"hr\"         \"holiday\"    \"workingday\" \"weathersit\" \"temp\"      \n",
       "[6] \"atemp\"      \"hum\"        \"windspeed\" "
      ]
     },
     "metadata": {},
     "output_type": "display_data"
    },
    {
     "data": {
      "text/html": [
       "<ol class=list-inline>\n",
       "\t<li>'holiday_clean'</li>\n",
       "\t<li>'workingday_clean'</li>\n",
       "\t<li>'temp_clean'</li>\n",
       "\t<li>'atemp_clean'</li>\n",
       "\t<li>'hum_clean'</li>\n",
       "\t<li>'windspeed_clean'</li>\n",
       "\t<li>'hr_lev_x_0'</li>\n",
       "\t<li>'hr_lev_x_1'</li>\n",
       "\t<li>'hr_lev_x_10'</li>\n",
       "\t<li>'hr_lev_x_11'</li>\n",
       "\t<li>'hr_lev_x_12'</li>\n",
       "\t<li>'hr_lev_x_13'</li>\n",
       "\t<li>'hr_lev_x_14'</li>\n",
       "\t<li>'hr_lev_x_15'</li>\n",
       "\t<li>'hr_lev_x_16'</li>\n",
       "\t<li>'hr_lev_x_17'</li>\n",
       "\t<li>'hr_lev_x_18'</li>\n",
       "\t<li>'hr_lev_x_19'</li>\n",
       "\t<li>'hr_lev_x_2'</li>\n",
       "\t<li>'hr_lev_x_20'</li>\n",
       "\t<li>'hr_lev_x_21'</li>\n",
       "\t<li>'hr_lev_x_22'</li>\n",
       "\t<li>'hr_lev_x_23'</li>\n",
       "\t<li>'hr_lev_x_3'</li>\n",
       "\t<li>'hr_lev_x_4'</li>\n",
       "\t<li>'hr_lev_x_5'</li>\n",
       "\t<li>'hr_lev_x_6'</li>\n",
       "\t<li>'hr_lev_x_7'</li>\n",
       "\t<li>'hr_lev_x_8'</li>\n",
       "\t<li>'hr_lev_x_9'</li>\n",
       "\t<li>'weathersit_lev_x_Clear_to_partly_cloudy'</li>\n",
       "\t<li>'weathersit_lev_x_Light_Precipitation'</li>\n",
       "\t<li>'weathersit_lev_x_Misty'</li>\n",
       "</ol>\n"
      ],
      "text/latex": [
       "\\begin{enumerate*}\n",
       "\\item 'holiday\\_clean'\n",
       "\\item 'workingday\\_clean'\n",
       "\\item 'temp\\_clean'\n",
       "\\item 'atemp\\_clean'\n",
       "\\item 'hum\\_clean'\n",
       "\\item 'windspeed\\_clean'\n",
       "\\item 'hr\\_lev\\_x\\_0'\n",
       "\\item 'hr\\_lev\\_x\\_1'\n",
       "\\item 'hr\\_lev\\_x\\_10'\n",
       "\\item 'hr\\_lev\\_x\\_11'\n",
       "\\item 'hr\\_lev\\_x\\_12'\n",
       "\\item 'hr\\_lev\\_x\\_13'\n",
       "\\item 'hr\\_lev\\_x\\_14'\n",
       "\\item 'hr\\_lev\\_x\\_15'\n",
       "\\item 'hr\\_lev\\_x\\_16'\n",
       "\\item 'hr\\_lev\\_x\\_17'\n",
       "\\item 'hr\\_lev\\_x\\_18'\n",
       "\\item 'hr\\_lev\\_x\\_19'\n",
       "\\item 'hr\\_lev\\_x\\_2'\n",
       "\\item 'hr\\_lev\\_x\\_20'\n",
       "\\item 'hr\\_lev\\_x\\_21'\n",
       "\\item 'hr\\_lev\\_x\\_22'\n",
       "\\item 'hr\\_lev\\_x\\_23'\n",
       "\\item 'hr\\_lev\\_x\\_3'\n",
       "\\item 'hr\\_lev\\_x\\_4'\n",
       "\\item 'hr\\_lev\\_x\\_5'\n",
       "\\item 'hr\\_lev\\_x\\_6'\n",
       "\\item 'hr\\_lev\\_x\\_7'\n",
       "\\item 'hr\\_lev\\_x\\_8'\n",
       "\\item 'hr\\_lev\\_x\\_9'\n",
       "\\item 'weathersit\\_lev\\_x\\_Clear\\_to\\_partly\\_cloudy'\n",
       "\\item 'weathersit\\_lev\\_x\\_Light\\_Precipitation'\n",
       "\\item 'weathersit\\_lev\\_x\\_Misty'\n",
       "\\end{enumerate*}\n"
      ],
      "text/markdown": [
       "1. 'holiday_clean'\n",
       "2. 'workingday_clean'\n",
       "3. 'temp_clean'\n",
       "4. 'atemp_clean'\n",
       "5. 'hum_clean'\n",
       "6. 'windspeed_clean'\n",
       "7. 'hr_lev_x_0'\n",
       "8. 'hr_lev_x_1'\n",
       "9. 'hr_lev_x_10'\n",
       "10. 'hr_lev_x_11'\n",
       "11. 'hr_lev_x_12'\n",
       "12. 'hr_lev_x_13'\n",
       "13. 'hr_lev_x_14'\n",
       "14. 'hr_lev_x_15'\n",
       "15. 'hr_lev_x_16'\n",
       "16. 'hr_lev_x_17'\n",
       "17. 'hr_lev_x_18'\n",
       "18. 'hr_lev_x_19'\n",
       "19. 'hr_lev_x_2'\n",
       "20. 'hr_lev_x_20'\n",
       "21. 'hr_lev_x_21'\n",
       "22. 'hr_lev_x_22'\n",
       "23. 'hr_lev_x_23'\n",
       "24. 'hr_lev_x_3'\n",
       "25. 'hr_lev_x_4'\n",
       "26. 'hr_lev_x_5'\n",
       "27. 'hr_lev_x_6'\n",
       "28. 'hr_lev_x_7'\n",
       "29. 'hr_lev_x_8'\n",
       "30. 'hr_lev_x_9'\n",
       "31. 'weathersit_lev_x_Clear_to_partly_cloudy'\n",
       "32. 'weathersit_lev_x_Light_Precipitation'\n",
       "33. 'weathersit_lev_x_Misty'\n",
       "\n",
       "\n"
      ],
      "text/plain": [
       " [1] \"holiday_clean\"                          \n",
       " [2] \"workingday_clean\"                       \n",
       " [3] \"temp_clean\"                             \n",
       " [4] \"atemp_clean\"                            \n",
       " [5] \"hum_clean\"                              \n",
       " [6] \"windspeed_clean\"                        \n",
       " [7] \"hr_lev_x_0\"                             \n",
       " [8] \"hr_lev_x_1\"                             \n",
       " [9] \"hr_lev_x_10\"                            \n",
       "[10] \"hr_lev_x_11\"                            \n",
       "[11] \"hr_lev_x_12\"                            \n",
       "[12] \"hr_lev_x_13\"                            \n",
       "[13] \"hr_lev_x_14\"                            \n",
       "[14] \"hr_lev_x_15\"                            \n",
       "[15] \"hr_lev_x_16\"                            \n",
       "[16] \"hr_lev_x_17\"                            \n",
       "[17] \"hr_lev_x_18\"                            \n",
       "[18] \"hr_lev_x_19\"                            \n",
       "[19] \"hr_lev_x_2\"                             \n",
       "[20] \"hr_lev_x_20\"                            \n",
       "[21] \"hr_lev_x_21\"                            \n",
       "[22] \"hr_lev_x_22\"                            \n",
       "[23] \"hr_lev_x_23\"                            \n",
       "[24] \"hr_lev_x_3\"                             \n",
       "[25] \"hr_lev_x_4\"                             \n",
       "[26] \"hr_lev_x_5\"                             \n",
       "[27] \"hr_lev_x_6\"                             \n",
       "[28] \"hr_lev_x_7\"                             \n",
       "[29] \"hr_lev_x_8\"                             \n",
       "[30] \"hr_lev_x_9\"                             \n",
       "[31] \"weathersit_lev_x_Clear_to_partly_cloudy\"\n",
       "[32] \"weathersit_lev_x_Light_Precipitation\"   \n",
       "[33] \"weathersit_lev_x_Misty\"                 "
      ]
     },
     "metadata": {},
     "output_type": "display_data"
    },
    {
     "name": "stdout",
     "output_type": "stream",
     "text": [
      "'data.frame':\t744 obs. of  33 variables:\n",
      " $ holiday_clean                          : num  0 0 0 0 0 0 0 0 0 0 ...\n",
      " $ workingday_clean                       : num  0 0 0 0 0 0 0 0 0 0 ...\n",
      " $ temp_clean                             : num  0.76 0.74 0.72 0.72 0.7 0.68 0.7 0.74 0.78 0.82 ...\n",
      " $ atemp_clean                            : num  0.727 0.697 0.697 0.712 0.667 ...\n",
      " $ hum_clean                              : num  0.66 0.7 0.74 0.84 0.79 0.79 0.79 0.7 0.62 0.56 ...\n",
      " $ windspeed_clean                        : num  0 0.1343 0.0896 0.1343 0.194 ...\n",
      " $ hr_lev_x_0                             : num  1 0 0 0 0 0 0 0 0 0 ...\n",
      " $ hr_lev_x_1                             : num  0 1 0 0 0 0 0 0 0 0 ...\n",
      " $ hr_lev_x_10                            : num  0 0 0 0 0 0 0 0 0 0 ...\n",
      " $ hr_lev_x_11                            : num  0 0 0 0 0 0 0 0 0 0 ...\n",
      " $ hr_lev_x_12                            : num  0 0 0 0 0 0 0 0 0 0 ...\n",
      " $ hr_lev_x_13                            : num  0 0 0 0 0 0 0 0 0 0 ...\n",
      " $ hr_lev_x_14                            : num  0 0 0 0 0 0 0 0 0 0 ...\n",
      " $ hr_lev_x_15                            : num  0 0 0 0 0 0 0 0 0 0 ...\n",
      " $ hr_lev_x_16                            : num  0 0 0 0 0 0 0 0 0 0 ...\n",
      " $ hr_lev_x_17                            : num  0 0 0 0 0 0 0 0 0 0 ...\n",
      " $ hr_lev_x_18                            : num  0 0 0 0 0 0 0 0 0 0 ...\n",
      " $ hr_lev_x_19                            : num  0 0 0 0 0 0 0 0 0 0 ...\n",
      " $ hr_lev_x_2                             : num  0 0 1 0 0 0 0 0 0 0 ...\n",
      " $ hr_lev_x_20                            : num  0 0 0 0 0 0 0 0 0 0 ...\n",
      " $ hr_lev_x_21                            : num  0 0 0 0 0 0 0 0 0 0 ...\n",
      " $ hr_lev_x_22                            : num  0 0 0 0 0 0 0 0 0 0 ...\n",
      " $ hr_lev_x_23                            : num  0 0 0 0 0 0 0 0 0 0 ...\n",
      " $ hr_lev_x_3                             : num  0 0 0 1 0 0 0 0 0 0 ...\n",
      " $ hr_lev_x_4                             : num  0 0 0 0 1 0 0 0 0 0 ...\n",
      " $ hr_lev_x_5                             : num  0 0 0 0 0 1 0 0 0 0 ...\n",
      " $ hr_lev_x_6                             : num  0 0 0 0 0 0 1 0 0 0 ...\n",
      " $ hr_lev_x_7                             : num  0 0 0 0 0 0 0 1 0 0 ...\n",
      " $ hr_lev_x_8                             : num  0 0 0 0 0 0 0 0 1 0 ...\n",
      " $ hr_lev_x_9                             : num  0 0 0 0 0 0 0 0 0 1 ...\n",
      " $ weathersit_lev_x_Clear_to_partly_cloudy: num  1 1 1 1 1 1 1 1 1 1 ...\n",
      " $ weathersit_lev_x_Light_Precipitation   : num  0 0 0 0 0 0 0 0 0 0 ...\n",
      " $ weathersit_lev_x_Misty                 : num  0 0 0 0 0 0 0 0 0 0 ...\n",
      "'data.frame':\t744 obs. of  33 variables:\n",
      " $ holiday_clean                          : num  0 0 0 0 0 0 0 0 0 0 ...\n",
      " $ workingday_clean                       : num  1 1 1 1 1 1 1 1 1 1 ...\n",
      " $ temp_clean                             : num  0.68 0.66 0.64 0.64 0.64 0.64 0.64 0.64 0.66 0.68 ...\n",
      " $ atemp_clean                            : num  0.636 0.606 0.576 0.576 0.591 ...\n",
      " $ hum_clean                              : num  0.79 0.83 0.83 0.83 0.78 0.78 0.78 0.83 0.78 0.74 ...\n",
      " $ windspeed_clean                        : num  0.1642 0.0896 0.1045 0.1045 0.1343 ...\n",
      " $ hr_lev_x_0                             : num  1 0 0 0 0 0 0 0 0 0 ...\n",
      " $ hr_lev_x_1                             : num  0 1 0 0 0 0 0 0 0 0 ...\n",
      " $ hr_lev_x_10                            : num  0 0 0 0 0 0 0 0 0 0 ...\n",
      " $ hr_lev_x_11                            : num  0 0 0 0 0 0 0 0 0 0 ...\n",
      " $ hr_lev_x_12                            : num  0 0 0 0 0 0 0 0 0 0 ...\n",
      " $ hr_lev_x_13                            : num  0 0 0 0 0 0 0 0 0 0 ...\n",
      " $ hr_lev_x_14                            : num  0 0 0 0 0 0 0 0 0 0 ...\n",
      " $ hr_lev_x_15                            : num  0 0 0 0 0 0 0 0 0 0 ...\n",
      " $ hr_lev_x_16                            : num  0 0 0 0 0 0 0 0 0 0 ...\n",
      " $ hr_lev_x_17                            : num  0 0 0 0 0 0 0 0 0 0 ...\n",
      " $ hr_lev_x_18                            : num  0 0 0 0 0 0 0 0 0 0 ...\n",
      " $ hr_lev_x_19                            : num  0 0 0 0 0 0 0 0 0 0 ...\n",
      " $ hr_lev_x_2                             : num  0 0 1 0 0 0 0 0 0 0 ...\n",
      " $ hr_lev_x_20                            : num  0 0 0 0 0 0 0 0 0 0 ...\n",
      " $ hr_lev_x_21                            : num  0 0 0 0 0 0 0 0 0 0 ...\n",
      " $ hr_lev_x_22                            : num  0 0 0 0 0 0 0 0 0 0 ...\n",
      " $ hr_lev_x_23                            : num  0 0 0 0 0 0 0 0 0 0 ...\n",
      " $ hr_lev_x_3                             : num  0 0 0 1 0 0 0 0 0 0 ...\n",
      " $ hr_lev_x_4                             : num  0 0 0 0 1 0 0 0 0 0 ...\n",
      " $ hr_lev_x_5                             : num  0 0 0 0 0 1 0 0 0 0 ...\n",
      " $ hr_lev_x_6                             : num  0 0 0 0 0 0 1 0 0 0 ...\n",
      " $ hr_lev_x_7                             : num  0 0 0 0 0 0 0 1 0 0 ...\n",
      " $ hr_lev_x_8                             : num  0 0 0 0 0 0 0 0 1 0 ...\n",
      " $ hr_lev_x_9                             : num  0 0 0 0 0 0 0 0 0 1 ...\n",
      " $ weathersit_lev_x_Clear_to_partly_cloudy: num  1 1 1 1 0 0 1 0 0 0 ...\n",
      " $ weathersit_lev_x_Light_Precipitation   : num  0 0 0 0 0 0 0 0 0 0 ...\n",
      " $ weathersit_lev_x_Misty                 : num  0 0 0 0 1 1 0 1 1 1 ...\n"
     ]
    }
   ],
   "source": [
    "# The outcome column\n",
    "(outcome <- \"cnt\")\n",
    "\n",
    "# The input columns\n",
    "(vars <- c(\"hr\", \"holiday\", \"workingday\", \"weathersit\", \"temp\", \"atemp\", \"hum\", \"windspeed\"))\n",
    "\n",
    "# Create the treatment plan from bikesJuly (the training data)\n",
    "# Set the flag verbose=FALSE to prevent the function from printing too many messages.\n",
    "treatplan <- designTreatmentsZ(bikesJuly, vars, verbose = FALSE)\n",
    "\n",
    "# Get the \"clean\" and \"lev\" variables from the scoreFrame\n",
    "(newvars <- treatplan %>%\n",
    "  use_series(scoreFrame) %>%        \n",
    "  filter(code %in% c(\"clean\", \"lev\")) %>%  # get the rows you care about\n",
    "  use_series(varName))           # get the varName column\n",
    "\n",
    "# Prepare the training data\n",
    "bikesJuly.treat <- prepare(treatplan, bikesJuly,  varRestriction = newvars)\n",
    "\n",
    "# Prepare the test data\n",
    "bikesAugust.treat <- prepare(treatplan, bikesAugust,  varRestriction = newvars)\n",
    "\n",
    "# Call str() on the treated data\n",
    "str(bikesJuly.treat)\n",
    "str(bikesAugust.treat)"
   ]
  },
  {
   "cell_type": "markdown",
   "metadata": {},
   "source": [
    "The bike data is now in completely numeric form, ready to use with xgboost. Note that the treated data does not include the outcome column. "
   ]
  },
  {
   "cell_type": "markdown",
   "metadata": {},
   "source": [
    "### Find the right number of trees for a gradient boosting machine\n",
    "\n",
    "In this exercise you will get ready to build a gradient boosting model to predict the number of bikes rented in an hour as a function of the weather and the type and time of day. You will train the model on data from the month of July.\n",
    "\n",
    "Remember that bikesJuly.treat no longer has the outcome column, so you must get it from the untreated data: bikesJuly$cnt.\n",
    "\n",
    "You will use the xgboost package to fit the random forest model. The function `xgb.cv()` uses cross-validation to estimate the out-of-sample learning error as each new tree is added to the model. The appropriate number of trees to use in the final model is the number that minimizes the holdout RMSE.\n",
    "\n",
    "For this exercise, the key arguments to the `xgb.cv()` call are:\n",
    "\n",
    "* `data`: a numeric matrix.\n",
    "* `label`: vector of outcomes (also numeric).\n",
    "* `nrounds`: the maximum number of rounds (trees to build).\n",
    "* `nfold`: the number of folds for the cross-validation. 5 is a good number.\n",
    "* `objective`: \"reg:linear\" for continuous outcomes.\n",
    "* `eta`: the learning rate.\n",
    "* `max_depth`: depth of trees.\n",
    "* `early_stopping_rounds`: after this many rounds without improvement, stop.\n",
    "* `verbose`: 0 to stay silent.\n"
   ]
  },
  {
   "cell_type": "code",
   "execution_count": 131,
   "metadata": {},
   "outputs": [
    {
     "data": {
      "text/html": [
       "<ol class=list-inline>\n",
       "\t<li>'alcohol'</li>\n",
       "\t<li>'bike_model'</li>\n",
       "\t<li>'bike_model_rf'</li>\n",
       "\t<li>'bikesAugust'</li>\n",
       "\t<li>'bikesAugust.treat'</li>\n",
       "\t<li>'bikesJuly'</li>\n",
       "\t<li>'bikesJuly.treat'</li>\n",
       "\t<li>'bloodpressure'</li>\n",
       "\t<li>'bloodpressure_model'</li>\n",
       "\t<li>'case0901'</li>\n",
       "\t<li>'color'</li>\n",
       "\t<li>'cv'</li>\n",
       "\t<li>'dframe'</li>\n",
       "\t<li>'dframe.treat'</li>\n",
       "\t<li>'elog'</li>\n",
       "\t<li>'fe_mean'</li>\n",
       "\t<li>'flower_model'</li>\n",
       "\t<li>'flowers'</li>\n",
       "\t<li>'fmla'</li>\n",
       "\t<li>'fmla.abs'</li>\n",
       "\t<li>'fmla.gam'</li>\n",
       "\t<li>'fmla.lin'</li>\n",
       "\t<li>'fmla.log'</li>\n",
       "\t<li>'fmla_add'</li>\n",
       "\t<li>'fmla_interaction'</li>\n",
       "\t<li>'fmla_sqr'</li>\n",
       "\t<li>'gp'</li>\n",
       "\t<li>'houseprice'</li>\n",
       "\t<li>'houseprice_long'</li>\n",
       "\t<li>'i'</li>\n",
       "\t<li>'income_long'</li>\n",
       "\t<li>'incometest'</li>\n",
       "\t<li>'incometrain'</li>\n",
       "\t<li>'k'</li>\n",
       "\t<li>'mean_bikes'</li>\n",
       "\t<li>'mmat'</li>\n",
       "\t<li>'model'</li>\n",
       "\t<li>'model.abs'</li>\n",
       "\t<li>'model.gam'</li>\n",
       "\t<li>'model.lin'</li>\n",
       "\t<li>'model.log'</li>\n",
       "\t<li>'model_add'</li>\n",
       "\t<li>'model_interaction'</li>\n",
       "\t<li>'model_lin'</li>\n",
       "\t<li>'model_sqr'</li>\n",
       "\t<li>'mpg'</li>\n",
       "\t<li>'mpg_model'</li>\n",
       "\t<li>'mpg_test'</li>\n",
       "\t<li>'mpg_train'</li>\n",
       "\t<li>'N'</li>\n",
       "\t<li>'newrates'</li>\n",
       "\t<li>'newvars'</li>\n",
       "\t<li>'nRows'</li>\n",
       "\t<li>'ntrees'</li>\n",
       "\t<li>'outcome'</li>\n",
       "\t<li>'perf'</li>\n",
       "\t<li>'popularity'</li>\n",
       "\t<li>'pred'</li>\n",
       "\t<li>'pseudoR2'</li>\n",
       "\t<li>'quasipoisson_plot'</li>\n",
       "\t<li>'r_squared'</li>\n",
       "\t<li>'res'</li>\n",
       "\t<li>'rho'</li>\n",
       "\t<li>'rho2'</li>\n",
       "\t<li>'rmse'</li>\n",
       "\t<li>'rmse_test'</li>\n",
       "\t<li>'rmse_train'</li>\n",
       "\t<li>'rsq'</li>\n",
       "\t<li>'rsq_glance'</li>\n",
       "\t<li>'rsq_test'</li>\n",
       "\t<li>'rsq_train'</li>\n",
       "\t<li>'rss'</li>\n",
       "\t<li>'scoreFrame'</li>\n",
       "\t<li>'sd_unemployment'</li>\n",
       "\t<li>'seed'</li>\n",
       "\t<li>'size'</li>\n",
       "\t<li>'soybean_long'</li>\n",
       "\t<li>'soybean_test'</li>\n",
       "\t<li>'soybean_train'</li>\n",
       "\t<li>'sparrow'</li>\n",
       "\t<li>'sparrow_model'</li>\n",
       "\t<li>'split'</li>\n",
       "\t<li>'splitPlan'</li>\n",
       "\t<li>'target'</li>\n",
       "\t<li>'testframe'</li>\n",
       "\t<li>'testframe.treat'</li>\n",
       "\t<li>'treatplan'</li>\n",
       "\t<li>'tss'</li>\n",
       "\t<li>'unemployment'</li>\n",
       "\t<li>'unemployment_model'</li>\n",
       "\t<li>'var_bikes'</li>\n",
       "\t<li>'vars'</li>\n",
       "</ol>\n"
      ],
      "text/latex": [
       "\\begin{enumerate*}\n",
       "\\item 'alcohol'\n",
       "\\item 'bike\\_model'\n",
       "\\item 'bike\\_model\\_rf'\n",
       "\\item 'bikesAugust'\n",
       "\\item 'bikesAugust.treat'\n",
       "\\item 'bikesJuly'\n",
       "\\item 'bikesJuly.treat'\n",
       "\\item 'bloodpressure'\n",
       "\\item 'bloodpressure\\_model'\n",
       "\\item 'case0901'\n",
       "\\item 'color'\n",
       "\\item 'cv'\n",
       "\\item 'dframe'\n",
       "\\item 'dframe.treat'\n",
       "\\item 'elog'\n",
       "\\item 'fe\\_mean'\n",
       "\\item 'flower\\_model'\n",
       "\\item 'flowers'\n",
       "\\item 'fmla'\n",
       "\\item 'fmla.abs'\n",
       "\\item 'fmla.gam'\n",
       "\\item 'fmla.lin'\n",
       "\\item 'fmla.log'\n",
       "\\item 'fmla\\_add'\n",
       "\\item 'fmla\\_interaction'\n",
       "\\item 'fmla\\_sqr'\n",
       "\\item 'gp'\n",
       "\\item 'houseprice'\n",
       "\\item 'houseprice\\_long'\n",
       "\\item 'i'\n",
       "\\item 'income\\_long'\n",
       "\\item 'incometest'\n",
       "\\item 'incometrain'\n",
       "\\item 'k'\n",
       "\\item 'mean\\_bikes'\n",
       "\\item 'mmat'\n",
       "\\item 'model'\n",
       "\\item 'model.abs'\n",
       "\\item 'model.gam'\n",
       "\\item 'model.lin'\n",
       "\\item 'model.log'\n",
       "\\item 'model\\_add'\n",
       "\\item 'model\\_interaction'\n",
       "\\item 'model\\_lin'\n",
       "\\item 'model\\_sqr'\n",
       "\\item 'mpg'\n",
       "\\item 'mpg\\_model'\n",
       "\\item 'mpg\\_test'\n",
       "\\item 'mpg\\_train'\n",
       "\\item 'N'\n",
       "\\item 'newrates'\n",
       "\\item 'newvars'\n",
       "\\item 'nRows'\n",
       "\\item 'ntrees'\n",
       "\\item 'outcome'\n",
       "\\item 'perf'\n",
       "\\item 'popularity'\n",
       "\\item 'pred'\n",
       "\\item 'pseudoR2'\n",
       "\\item 'quasipoisson\\_plot'\n",
       "\\item 'r\\_squared'\n",
       "\\item 'res'\n",
       "\\item 'rho'\n",
       "\\item 'rho2'\n",
       "\\item 'rmse'\n",
       "\\item 'rmse\\_test'\n",
       "\\item 'rmse\\_train'\n",
       "\\item 'rsq'\n",
       "\\item 'rsq\\_glance'\n",
       "\\item 'rsq\\_test'\n",
       "\\item 'rsq\\_train'\n",
       "\\item 'rss'\n",
       "\\item 'scoreFrame'\n",
       "\\item 'sd\\_unemployment'\n",
       "\\item 'seed'\n",
       "\\item 'size'\n",
       "\\item 'soybean\\_long'\n",
       "\\item 'soybean\\_test'\n",
       "\\item 'soybean\\_train'\n",
       "\\item 'sparrow'\n",
       "\\item 'sparrow\\_model'\n",
       "\\item 'split'\n",
       "\\item 'splitPlan'\n",
       "\\item 'target'\n",
       "\\item 'testframe'\n",
       "\\item 'testframe.treat'\n",
       "\\item 'treatplan'\n",
       "\\item 'tss'\n",
       "\\item 'unemployment'\n",
       "\\item 'unemployment\\_model'\n",
       "\\item 'var\\_bikes'\n",
       "\\item 'vars'\n",
       "\\end{enumerate*}\n"
      ],
      "text/markdown": [
       "1. 'alcohol'\n",
       "2. 'bike_model'\n",
       "3. 'bike_model_rf'\n",
       "4. 'bikesAugust'\n",
       "5. 'bikesAugust.treat'\n",
       "6. 'bikesJuly'\n",
       "7. 'bikesJuly.treat'\n",
       "8. 'bloodpressure'\n",
       "9. 'bloodpressure_model'\n",
       "10. 'case0901'\n",
       "11. 'color'\n",
       "12. 'cv'\n",
       "13. 'dframe'\n",
       "14. 'dframe.treat'\n",
       "15. 'elog'\n",
       "16. 'fe_mean'\n",
       "17. 'flower_model'\n",
       "18. 'flowers'\n",
       "19. 'fmla'\n",
       "20. 'fmla.abs'\n",
       "21. 'fmla.gam'\n",
       "22. 'fmla.lin'\n",
       "23. 'fmla.log'\n",
       "24. 'fmla_add'\n",
       "25. 'fmla_interaction'\n",
       "26. 'fmla_sqr'\n",
       "27. 'gp'\n",
       "28. 'houseprice'\n",
       "29. 'houseprice_long'\n",
       "30. 'i'\n",
       "31. 'income_long'\n",
       "32. 'incometest'\n",
       "33. 'incometrain'\n",
       "34. 'k'\n",
       "35. 'mean_bikes'\n",
       "36. 'mmat'\n",
       "37. 'model'\n",
       "38. 'model.abs'\n",
       "39. 'model.gam'\n",
       "40. 'model.lin'\n",
       "41. 'model.log'\n",
       "42. 'model_add'\n",
       "43. 'model_interaction'\n",
       "44. 'model_lin'\n",
       "45. 'model_sqr'\n",
       "46. 'mpg'\n",
       "47. 'mpg_model'\n",
       "48. 'mpg_test'\n",
       "49. 'mpg_train'\n",
       "50. 'N'\n",
       "51. 'newrates'\n",
       "52. 'newvars'\n",
       "53. 'nRows'\n",
       "54. 'ntrees'\n",
       "55. 'outcome'\n",
       "56. 'perf'\n",
       "57. 'popularity'\n",
       "58. 'pred'\n",
       "59. 'pseudoR2'\n",
       "60. 'quasipoisson_plot'\n",
       "61. 'r_squared'\n",
       "62. 'res'\n",
       "63. 'rho'\n",
       "64. 'rho2'\n",
       "65. 'rmse'\n",
       "66. 'rmse_test'\n",
       "67. 'rmse_train'\n",
       "68. 'rsq'\n",
       "69. 'rsq_glance'\n",
       "70. 'rsq_test'\n",
       "71. 'rsq_train'\n",
       "72. 'rss'\n",
       "73. 'scoreFrame'\n",
       "74. 'sd_unemployment'\n",
       "75. 'seed'\n",
       "76. 'size'\n",
       "77. 'soybean_long'\n",
       "78. 'soybean_test'\n",
       "79. 'soybean_train'\n",
       "80. 'sparrow'\n",
       "81. 'sparrow_model'\n",
       "82. 'split'\n",
       "83. 'splitPlan'\n",
       "84. 'target'\n",
       "85. 'testframe'\n",
       "86. 'testframe.treat'\n",
       "87. 'treatplan'\n",
       "88. 'tss'\n",
       "89. 'unemployment'\n",
       "90. 'unemployment_model'\n",
       "91. 'var_bikes'\n",
       "92. 'vars'\n",
       "\n",
       "\n"
      ],
      "text/plain": [
       " [1] \"alcohol\"             \"bike_model\"          \"bike_model_rf\"      \n",
       " [4] \"bikesAugust\"         \"bikesAugust.treat\"   \"bikesJuly\"          \n",
       " [7] \"bikesJuly.treat\"     \"bloodpressure\"       \"bloodpressure_model\"\n",
       "[10] \"case0901\"            \"color\"               \"cv\"                 \n",
       "[13] \"dframe\"              \"dframe.treat\"        \"elog\"               \n",
       "[16] \"fe_mean\"             \"flower_model\"        \"flowers\"            \n",
       "[19] \"fmla\"                \"fmla.abs\"            \"fmla.gam\"           \n",
       "[22] \"fmla.lin\"            \"fmla.log\"            \"fmla_add\"           \n",
       "[25] \"fmla_interaction\"    \"fmla_sqr\"            \"gp\"                 \n",
       "[28] \"houseprice\"          \"houseprice_long\"     \"i\"                  \n",
       "[31] \"income_long\"         \"incometest\"          \"incometrain\"        \n",
       "[34] \"k\"                   \"mean_bikes\"          \"mmat\"               \n",
       "[37] \"model\"               \"model.abs\"           \"model.gam\"          \n",
       "[40] \"model.lin\"           \"model.log\"           \"model_add\"          \n",
       "[43] \"model_interaction\"   \"model_lin\"           \"model_sqr\"          \n",
       "[46] \"mpg\"                 \"mpg_model\"           \"mpg_test\"           \n",
       "[49] \"mpg_train\"           \"N\"                   \"newrates\"           \n",
       "[52] \"newvars\"             \"nRows\"               \"ntrees\"             \n",
       "[55] \"outcome\"             \"perf\"                \"popularity\"         \n",
       "[58] \"pred\"                \"pseudoR2\"            \"quasipoisson_plot\"  \n",
       "[61] \"r_squared\"           \"res\"                 \"rho\"                \n",
       "[64] \"rho2\"                \"rmse\"                \"rmse_test\"          \n",
       "[67] \"rmse_train\"          \"rsq\"                 \"rsq_glance\"         \n",
       "[70] \"rsq_test\"            \"rsq_train\"           \"rss\"                \n",
       "[73] \"scoreFrame\"          \"sd_unemployment\"     \"seed\"               \n",
       "[76] \"size\"                \"soybean_long\"        \"soybean_test\"       \n",
       "[79] \"soybean_train\"       \"sparrow\"             \"sparrow_model\"      \n",
       "[82] \"split\"               \"splitPlan\"           \"target\"             \n",
       "[85] \"testframe\"           \"testframe.treat\"     \"treatplan\"          \n",
       "[88] \"tss\"                 \"unemployment\"        \"unemployment_model\" \n",
       "[91] \"var_bikes\"           \"vars\"               "
      ]
     },
     "metadata": {},
     "output_type": "display_data"
    },
    {
     "data": {
      "text/html": [
       "<table>\n",
       "<thead><tr><th scope=col>ntrees.train</th><th scope=col>ntrees.test</th></tr></thead>\n",
       "<tbody>\n",
       "\t<tr><td>90</td><td>80</td></tr>\n",
       "</tbody>\n",
       "</table>\n"
      ],
      "text/latex": [
       "\\begin{tabular}{r|ll}\n",
       " ntrees.train & ntrees.test\\\\\n",
       "\\hline\n",
       "\t 90 & 80\\\\\n",
       "\\end{tabular}\n"
      ],
      "text/markdown": [
       "\n",
       "ntrees.train | ntrees.test | \n",
       "|---|\n",
       "| 90 | 80 | \n",
       "\n",
       "\n"
      ],
      "text/plain": [
       "  ntrees.train ntrees.test\n",
       "1 90           80         "
      ]
     },
     "metadata": {},
     "output_type": "display_data"
    },
    {
     "data": {
      "text/html": [
       "80"
      ],
      "text/latex": [
       "80"
      ],
      "text/markdown": [
       "80"
      ],
      "text/plain": [
       "[1] 80"
      ]
     },
     "metadata": {},
     "output_type": "display_data"
    }
   ],
   "source": [
    "# The July data is in the workspace\n",
    "ls()\n",
    "\n",
    "# Load the package xgboost\n",
    "library(xgboost)\n",
    "\n",
    "# Run xgb.cv\n",
    "cv <- xgb.cv(data = as.matrix(bikesJuly.treat), \n",
    "            label = bikesJuly$cnt,\n",
    "            nrounds = 100,\n",
    "            nfold = 5,\n",
    "            objective = \"reg:linear\",\n",
    "            eta = 0.3,\n",
    "            max_depth = 6,\n",
    "            early_stopping_rounds = 10,\n",
    "            verbose = 0    # silent\n",
    ")\n",
    "\n",
    "# Get the evaluation log \n",
    "elog <- cv$evaluation_log\n",
    "\n",
    "# Determine and print how many trees minimize training and test error\n",
    "ntrees <- elog %>% \n",
    "   summarize(ntrees.train = which.min(train_rmse_mean),   # find the index of min(train_rmse_mean)\n",
    "             ntrees.test  = which.min(test_rmse_mean)) # find the index of min(test_rmse_mean)\n",
    "ntrees\n",
    "ntree <- ntrees %>% select(ntrees.test) %>% pull()\n",
    "ntree"
   ]
  },
  {
   "cell_type": "markdown",
   "metadata": {},
   "source": [
    " In most cases, ntrees.test is less than ntrees.train. The training error keeps decreasing even after the test error starts to increase. It's important to use cross-validation to find the right number of trees (as determined by ntrees.test) and avoid an overfit model. "
   ]
  },
  {
   "cell_type": "markdown",
   "metadata": {},
   "source": [
    "### Fit an xgboost bike rental model and predict\n",
    "\n",
    "In this exercise you will fit a gradient boosting model using `xgboost()` to predict the number of bikes rented in an hour as a function of the weather and the type and time of day. You will train the model on data from the month of July and predict on data for the month of August.\n",
    "\n",
    "The datasets for July and August are loaded into your workspace. Remember the vtreat-ed data no longer has the outcome column, so you must get it from the original data (the `cnt` column).\n",
    "\n",
    "For convenience, the number of trees to use, ntrees from the previous exercise.\n",
    "\n",
    "The arguments to `xgboost()` are similar to those of `xgb.cv()`."
   ]
  },
  {
   "cell_type": "code",
   "execution_count": 139,
   "metadata": {},
   "outputs": [
    {
     "data": {
      "text/html": [
       "80"
      ],
      "text/latex": [
       "80"
      ],
      "text/markdown": [
       "80"
      ],
      "text/plain": [
       "[1] 80"
      ]
     },
     "metadata": {},
     "output_type": "display_data"
    },
    {
     "data": {},
     "metadata": {},
     "output_type": "display_data"
    },
    {
     "data": {
      "image/png": "[encoded data removed]",
      "text/plain": [
       "plot without title"
      ]
     },
     "metadata": {},
     "output_type": "display_data"
    }
   ],
   "source": [
    "# The number of trees to use, as determined by xgb.cv\n",
    "ntree\n",
    "\n",
    "# Run xgboost\n",
    "bike_model_xgb <- xgboost(data = as.matrix(bikesJuly.treat), # training data as matrix\n",
    "                   label = bikesJuly$cnt,  # column of outcomes\n",
    "                   nrounds = ntree,       # number of trees to build\n",
    "                   objective = \"reg:linear\", # objective\n",
    "                   eta = 0.3,\n",
    "                   depth = 6,\n",
    "                   verbose = 0  # silent\n",
    ")\n",
    "\n",
    "# Make predictions\n",
    "bikesAugust$pred <- predict(bike_model_xgb, as.matrix(bikesAugust.treat))\n",
    "\n",
    "# Plot predictions (on x axis) vs actual bike rental count\n",
    "ggplot(bikesAugust, aes(x = pred, y = cnt)) + \n",
    "  geom_point() + \n",
    "  geom_abline()"
   ]
  },
  {
   "cell_type": "markdown",
   "metadata": {},
   "source": [
    "Overall, the scatterplot looked pretty good, but did you notice that the model made some negative predictions? In the next exercise, you'll compare this model's RMSE to the previous bike models that you've built. "
   ]
  },
  {
   "cell_type": "markdown",
   "metadata": {},
   "source": [
    "### Evaluate the xgboost bike rental model\n",
    "\n",
    "In this exercise you will evaluate the gradient boosting model bike_model_xgb that you fit in the last exercise, using data from the month of August. You'll compare this model's RMSE for August to the RMSE of previous models that you've built.\n",
    "\n",
    " You have already made predictions using the xgboost model; they are in the column pred."
   ]
  },
  {
   "cell_type": "code",
   "execution_count": 140,
   "metadata": {},
   "outputs": [
    {
     "name": "stdout",
     "output_type": "stream",
     "text": [
      "'data.frame':\t744 obs. of  13 variables:\n",
      " $ hr        : Factor w/ 24 levels \"0\",\"1\",\"2\",\"3\",..: 1 2 3 4 5 6 7 8 9 10 ...\n",
      " $ holiday   : logi  FALSE FALSE FALSE FALSE FALSE FALSE ...\n",
      " $ workingday: logi  TRUE TRUE TRUE TRUE TRUE TRUE ...\n",
      " $ weathersit: chr  \"Clear to partly cloudy\" \"Clear to partly cloudy\" \"Clear to partly cloudy\" \"Clear to partly cloudy\" ...\n",
      " $ temp      : num  0.68 0.66 0.64 0.64 0.64 0.64 0.64 0.64 0.66 0.68 ...\n",
      " $ atemp     : num  0.636 0.606 0.576 0.576 0.591 ...\n",
      " $ hum       : num  0.79 0.83 0.83 0.83 0.78 0.78 0.78 0.83 0.78 0.74 ...\n",
      " $ windspeed : num  0.1642 0.0896 0.1045 0.1045 0.1343 ...\n",
      " $ cnt       : int  47 33 13 7 4 49 185 487 681 350 ...\n",
      " $ instant   : int  13748 13749 13750 13751 13752 13753 13754 13755 13756 13757 ...\n",
      " $ mnth      : int  8 8 8 8 8 8 8 8 8 8 ...\n",
      " $ yr        : int  1 1 1 1 1 1 1 1 1 1 ...\n",
      " $ pred      : num  47.595 35.276 0.552 -6.725 3.847 ...\n"
     ]
    },
    {
     "data": {
      "text/html": [
       "<table>\n",
       "<thead><tr><th scope=col>rmse</th></tr></thead>\n",
       "<tbody>\n",
       "\t<tr><td>76.61101</td></tr>\n",
       "</tbody>\n",
       "</table>\n"
      ],
      "text/latex": [
       "\\begin{tabular}{r|l}\n",
       " rmse\\\\\n",
       "\\hline\n",
       "\t 76.61101\\\\\n",
       "\\end{tabular}\n"
      ],
      "text/markdown": [
       "\n",
       "rmse | \n",
       "|---|\n",
       "| 76.61101 | \n",
       "\n",
       "\n"
      ],
      "text/plain": [
       "  rmse    \n",
       "1 76.61101"
      ]
     },
     "metadata": {},
     "output_type": "display_data"
    }
   ],
   "source": [
    "# bikesAugust is in the workspace\n",
    "str(bikesAugust)\n",
    "\n",
    "# Calculate RMSE\n",
    "bikesAugust %>%\n",
    "  mutate(residuals = cnt - pred) %>%\n",
    "  summarize(rmse = sqrt(mean(residuals^2)))"
   ]
  },
  {
   "cell_type": "markdown",
   "metadata": {},
   "source": [
    "Even though this gradient boosting made some negative predictions, overall it makes smaller errors than the previous two models. Perhaps rounding negative predictions up to zero is a reasonable tradeoff. "
   ]
  },
  {
   "cell_type": "markdown",
   "metadata": {},
   "source": [
    "### Visualize the xgboost bike rental model\n",
    "\n",
    "You've now seen three different ways to model the bike rental data. For this example, you've seen that the gradient boosting model had the smallest RMSE. To finish up the course, let's compare the gradient boosting model's predictions to the other two models as a function of time.\n",
    "\n",
    "On completing this exercise, you will have completed the course. Congratulations! Now you have the tools to apply a variety of approaches to your regression tasks."
   ]
  },
  {
   "cell_type": "code",
   "execution_count": 141,
   "metadata": {},
   "outputs": [
    {
     "data": {},
     "metadata": {},
     "output_type": "display_data"
    },
    {
     "data": {},
     "metadata": {},
     "output_type": "display_data"
    },
    {
     "data": {
      "image/png": "[encoded data removed]",
      "text/plain": [
       "plot without title"
      ]
     },
     "metadata": {},
     "output_type": "display_data"
    },
    {
     "data": {},
     "metadata": {},
     "output_type": "display_data"
    },
    {
     "data": {
      "image/png": "[encoded data removed]",
      "text/plain": [
       "plot without title"
      ]
     },
     "metadata": {},
     "output_type": "display_data"
    },
    {
     "data": {
      "image/png": "[encoded data removed]",
      "text/plain": [
       "plot without title"
      ]
     },
     "metadata": {},
     "output_type": "display_data"
    }
   ],
   "source": [
    "# Print quasipoisson_plot\n",
    "quasipoisson_plot\n",
    "\n",
    "# Print randomforest_plot\n",
    "randomforest_plot\n",
    "\n",
    "# Plot predictions and actual bike rentals as a function of time (days)\n",
    "bikesAugust %>% \n",
    "  mutate(instant = (instant - min(instant))/24) %>%  # set start to 0, convert unit to days\n",
    "  gather(key = valuetype, value = value, cnt, pred) %>%\n",
    "  filter(instant < 14) %>% # first two weeks\n",
    "  ggplot(aes(x = instant, y = value, color = valuetype, linetype = valuetype)) + \n",
    "  geom_point() + \n",
    "  geom_line() + \n",
    "  scale_x_continuous(\"Day\", breaks = 0:14, labels = 0:14) + \n",
    "  scale_color_brewer(palette = \"Dark2\") + \n",
    "  ggtitle(\"Predicted August bike rentals, Gradient Boosting model\")"
   ]
  },
  {
   "cell_type": "markdown",
   "metadata": {},
   "source": [
    "The gradient boosting pattern captures rental variations due to time of day and other factors better than the previous models. Congratulations on completing the course! "
   ]
  }
 ],
 "metadata": {
  "kernelspec": {
   "display_name": "R",
   "language": "R",
   "name": "ir"
  },
  "language_info": {
   "codemirror_mode": "r",
   "file_extension": ".r",
   "mimetype": "text/x-r-source",
   "name": "R",
   "pygments_lexer": "r",
   "version": "3.5.1"
  }
 },
 "nbformat": 4,
 "nbformat_minor": 2
}
