{
 "cells": [
  {
   "cell_type": "code",
   "execution_count": 1,
   "metadata": {},
   "outputs": [
    {
     "name": "stderr",
     "output_type": "stream",
     "text": [
      "-- Attaching packages --------------------------------------- tidyverse 1.2.1 --\n",
      "v ggplot2 3.0.0     v purrr   0.2.5\n",
      "v tibble  1.4.2     v dplyr   0.7.6\n",
      "v tidyr   0.8.1     v stringr 1.3.1\n",
      "v readr   1.1.1     v forcats 0.3.0\n",
      "-- Conflicts ------------------------------------------ tidyverse_conflicts() --\n",
      "x dplyr::filter() masks stats::filter()\n",
      "x dplyr::lag()    masks stats::lag()\n"
     ]
    }
   ],
   "source": [
    "library(NHANES)\n",
    "library(tidyverse)\n",
    "library(infer)\n",
    "library(repr)\n",
    "#graphics size for this document\n",
    "options(repr.plot.width=6, repr.plot.height=4)"
   ]
  },
  {
   "cell_type": "markdown",
   "metadata": {},
   "source": [
    "We use the [NHANES](https://www.rdocumentation.org/packages/NHANES/versions/2.1.0/topics/NHANES) dataset from the NHANES R package. The data are collected by the Center for Disease Control (CDC, the national public health institute in the United States) and can be thought of as a random sample of US residents.\n",
    "\n",
    "### Explore the dataset"
   ]
  },
  {
   "cell_type": "code",
   "execution_count": 2,
   "metadata": {},
   "outputs": [
    {
     "data": {
      "text/html": [
       "<ol class=list-inline>\n",
       "\t<li>'ID'</li>\n",
       "\t<li>'SurveyYr'</li>\n",
       "\t<li>'Gender'</li>\n",
       "\t<li>'Age'</li>\n",
       "\t<li>'AgeDecade'</li>\n",
       "\t<li>'AgeMonths'</li>\n",
       "\t<li>'Race1'</li>\n",
       "\t<li>'Race3'</li>\n",
       "\t<li>'Education'</li>\n",
       "\t<li>'MaritalStatus'</li>\n",
       "\t<li>'HHIncome'</li>\n",
       "\t<li>'HHIncomeMid'</li>\n",
       "\t<li>'Poverty'</li>\n",
       "\t<li>'HomeRooms'</li>\n",
       "\t<li>'HomeOwn'</li>\n",
       "\t<li>'Work'</li>\n",
       "\t<li>'Weight'</li>\n",
       "\t<li>'Length'</li>\n",
       "\t<li>'HeadCirc'</li>\n",
       "\t<li>'Height'</li>\n",
       "\t<li>'BMI'</li>\n",
       "\t<li>'BMICatUnder20yrs'</li>\n",
       "\t<li>'BMI_WHO'</li>\n",
       "\t<li>'Pulse'</li>\n",
       "\t<li>'BPSysAve'</li>\n",
       "\t<li>'BPDiaAve'</li>\n",
       "\t<li>'BPSys1'</li>\n",
       "\t<li>'BPDia1'</li>\n",
       "\t<li>'BPSys2'</li>\n",
       "\t<li>'BPDia2'</li>\n",
       "\t<li>'BPSys3'</li>\n",
       "\t<li>'BPDia3'</li>\n",
       "\t<li>'Testosterone'</li>\n",
       "\t<li>'DirectChol'</li>\n",
       "\t<li>'TotChol'</li>\n",
       "\t<li>'UrineVol1'</li>\n",
       "\t<li>'UrineFlow1'</li>\n",
       "\t<li>'UrineVol2'</li>\n",
       "\t<li>'UrineFlow2'</li>\n",
       "\t<li>'Diabetes'</li>\n",
       "\t<li>'DiabetesAge'</li>\n",
       "\t<li>'HealthGen'</li>\n",
       "\t<li>'DaysPhysHlthBad'</li>\n",
       "\t<li>'DaysMentHlthBad'</li>\n",
       "\t<li>'LittleInterest'</li>\n",
       "\t<li>'Depressed'</li>\n",
       "\t<li>'nPregnancies'</li>\n",
       "\t<li>'nBabies'</li>\n",
       "\t<li>'Age1stBaby'</li>\n",
       "\t<li>'SleepHrsNight'</li>\n",
       "\t<li>'SleepTrouble'</li>\n",
       "\t<li>'PhysActive'</li>\n",
       "\t<li>'PhysActiveDays'</li>\n",
       "\t<li>'TVHrsDay'</li>\n",
       "\t<li>'CompHrsDay'</li>\n",
       "\t<li>'TVHrsDayChild'</li>\n",
       "\t<li>'CompHrsDayChild'</li>\n",
       "\t<li>'Alcohol12PlusYr'</li>\n",
       "\t<li>'AlcoholDay'</li>\n",
       "\t<li>'AlcoholYear'</li>\n",
       "\t<li>'SmokeNow'</li>\n",
       "\t<li>'Smoke100'</li>\n",
       "\t<li>'Smoke100n'</li>\n",
       "\t<li>'SmokeAge'</li>\n",
       "\t<li>'Marijuana'</li>\n",
       "\t<li>'AgeFirstMarij'</li>\n",
       "\t<li>'RegularMarij'</li>\n",
       "\t<li>'AgeRegMarij'</li>\n",
       "\t<li>'HardDrugs'</li>\n",
       "\t<li>'SexEver'</li>\n",
       "\t<li>'SexAge'</li>\n",
       "\t<li>'SexNumPartnLife'</li>\n",
       "\t<li>'SexNumPartYear'</li>\n",
       "\t<li>'SameSex'</li>\n",
       "\t<li>'SexOrientation'</li>\n",
       "\t<li>'PregnantNow'</li>\n",
       "</ol>\n"
      ],
      "text/latex": [
       "\\begin{enumerate*}\n",
       "\\item 'ID'\n",
       "\\item 'SurveyYr'\n",
       "\\item 'Gender'\n",
       "\\item 'Age'\n",
       "\\item 'AgeDecade'\n",
       "\\item 'AgeMonths'\n",
       "\\item 'Race1'\n",
       "\\item 'Race3'\n",
       "\\item 'Education'\n",
       "\\item 'MaritalStatus'\n",
       "\\item 'HHIncome'\n",
       "\\item 'HHIncomeMid'\n",
       "\\item 'Poverty'\n",
       "\\item 'HomeRooms'\n",
       "\\item 'HomeOwn'\n",
       "\\item 'Work'\n",
       "\\item 'Weight'\n",
       "\\item 'Length'\n",
       "\\item 'HeadCirc'\n",
       "\\item 'Height'\n",
       "\\item 'BMI'\n",
       "\\item 'BMICatUnder20yrs'\n",
       "\\item 'BMI\\_WHO'\n",
       "\\item 'Pulse'\n",
       "\\item 'BPSysAve'\n",
       "\\item 'BPDiaAve'\n",
       "\\item 'BPSys1'\n",
       "\\item 'BPDia1'\n",
       "\\item 'BPSys2'\n",
       "\\item 'BPDia2'\n",
       "\\item 'BPSys3'\n",
       "\\item 'BPDia3'\n",
       "\\item 'Testosterone'\n",
       "\\item 'DirectChol'\n",
       "\\item 'TotChol'\n",
       "\\item 'UrineVol1'\n",
       "\\item 'UrineFlow1'\n",
       "\\item 'UrineVol2'\n",
       "\\item 'UrineFlow2'\n",
       "\\item 'Diabetes'\n",
       "\\item 'DiabetesAge'\n",
       "\\item 'HealthGen'\n",
       "\\item 'DaysPhysHlthBad'\n",
       "\\item 'DaysMentHlthBad'\n",
       "\\item 'LittleInterest'\n",
       "\\item 'Depressed'\n",
       "\\item 'nPregnancies'\n",
       "\\item 'nBabies'\n",
       "\\item 'Age1stBaby'\n",
       "\\item 'SleepHrsNight'\n",
       "\\item 'SleepTrouble'\n",
       "\\item 'PhysActive'\n",
       "\\item 'PhysActiveDays'\n",
       "\\item 'TVHrsDay'\n",
       "\\item 'CompHrsDay'\n",
       "\\item 'TVHrsDayChild'\n",
       "\\item 'CompHrsDayChild'\n",
       "\\item 'Alcohol12PlusYr'\n",
       "\\item 'AlcoholDay'\n",
       "\\item 'AlcoholYear'\n",
       "\\item 'SmokeNow'\n",
       "\\item 'Smoke100'\n",
       "\\item 'Smoke100n'\n",
       "\\item 'SmokeAge'\n",
       "\\item 'Marijuana'\n",
       "\\item 'AgeFirstMarij'\n",
       "\\item 'RegularMarij'\n",
       "\\item 'AgeRegMarij'\n",
       "\\item 'HardDrugs'\n",
       "\\item 'SexEver'\n",
       "\\item 'SexAge'\n",
       "\\item 'SexNumPartnLife'\n",
       "\\item 'SexNumPartYear'\n",
       "\\item 'SameSex'\n",
       "\\item 'SexOrientation'\n",
       "\\item 'PregnantNow'\n",
       "\\end{enumerate*}\n"
      ],
      "text/markdown": [
       "1. 'ID'\n",
       "2. 'SurveyYr'\n",
       "3. 'Gender'\n",
       "4. 'Age'\n",
       "5. 'AgeDecade'\n",
       "6. 'AgeMonths'\n",
       "7. 'Race1'\n",
       "8. 'Race3'\n",
       "9. 'Education'\n",
       "10. 'MaritalStatus'\n",
       "11. 'HHIncome'\n",
       "12. 'HHIncomeMid'\n",
       "13. 'Poverty'\n",
       "14. 'HomeRooms'\n",
       "15. 'HomeOwn'\n",
       "16. 'Work'\n",
       "17. 'Weight'\n",
       "18. 'Length'\n",
       "19. 'HeadCirc'\n",
       "20. 'Height'\n",
       "21. 'BMI'\n",
       "22. 'BMICatUnder20yrs'\n",
       "23. 'BMI_WHO'\n",
       "24. 'Pulse'\n",
       "25. 'BPSysAve'\n",
       "26. 'BPDiaAve'\n",
       "27. 'BPSys1'\n",
       "28. 'BPDia1'\n",
       "29. 'BPSys2'\n",
       "30. 'BPDia2'\n",
       "31. 'BPSys3'\n",
       "32. 'BPDia3'\n",
       "33. 'Testosterone'\n",
       "34. 'DirectChol'\n",
       "35. 'TotChol'\n",
       "36. 'UrineVol1'\n",
       "37. 'UrineFlow1'\n",
       "38. 'UrineVol2'\n",
       "39. 'UrineFlow2'\n",
       "40. 'Diabetes'\n",
       "41. 'DiabetesAge'\n",
       "42. 'HealthGen'\n",
       "43. 'DaysPhysHlthBad'\n",
       "44. 'DaysMentHlthBad'\n",
       "45. 'LittleInterest'\n",
       "46. 'Depressed'\n",
       "47. 'nPregnancies'\n",
       "48. 'nBabies'\n",
       "49. 'Age1stBaby'\n",
       "50. 'SleepHrsNight'\n",
       "51. 'SleepTrouble'\n",
       "52. 'PhysActive'\n",
       "53. 'PhysActiveDays'\n",
       "54. 'TVHrsDay'\n",
       "55. 'CompHrsDay'\n",
       "56. 'TVHrsDayChild'\n",
       "57. 'CompHrsDayChild'\n",
       "58. 'Alcohol12PlusYr'\n",
       "59. 'AlcoholDay'\n",
       "60. 'AlcoholYear'\n",
       "61. 'SmokeNow'\n",
       "62. 'Smoke100'\n",
       "63. 'Smoke100n'\n",
       "64. 'SmokeAge'\n",
       "65. 'Marijuana'\n",
       "66. 'AgeFirstMarij'\n",
       "67. 'RegularMarij'\n",
       "68. 'AgeRegMarij'\n",
       "69. 'HardDrugs'\n",
       "70. 'SexEver'\n",
       "71. 'SexAge'\n",
       "72. 'SexNumPartnLife'\n",
       "73. 'SexNumPartYear'\n",
       "74. 'SameSex'\n",
       "75. 'SexOrientation'\n",
       "76. 'PregnantNow'\n",
       "\n",
       "\n"
      ],
      "text/plain": [
       " [1] \"ID\"               \"SurveyYr\"         \"Gender\"           \"Age\"             \n",
       " [5] \"AgeDecade\"        \"AgeMonths\"        \"Race1\"            \"Race3\"           \n",
       " [9] \"Education\"        \"MaritalStatus\"    \"HHIncome\"         \"HHIncomeMid\"     \n",
       "[13] \"Poverty\"          \"HomeRooms\"        \"HomeOwn\"          \"Work\"            \n",
       "[17] \"Weight\"           \"Length\"           \"HeadCirc\"         \"Height\"          \n",
       "[21] \"BMI\"              \"BMICatUnder20yrs\" \"BMI_WHO\"          \"Pulse\"           \n",
       "[25] \"BPSysAve\"         \"BPDiaAve\"         \"BPSys1\"           \"BPDia1\"          \n",
       "[29] \"BPSys2\"           \"BPDia2\"           \"BPSys3\"           \"BPDia3\"          \n",
       "[33] \"Testosterone\"     \"DirectChol\"       \"TotChol\"          \"UrineVol1\"       \n",
       "[37] \"UrineFlow1\"       \"UrineVol2\"        \"UrineFlow2\"       \"Diabetes\"        \n",
       "[41] \"DiabetesAge\"      \"HealthGen\"        \"DaysPhysHlthBad\"  \"DaysMentHlthBad\" \n",
       "[45] \"LittleInterest\"   \"Depressed\"        \"nPregnancies\"     \"nBabies\"         \n",
       "[49] \"Age1stBaby\"       \"SleepHrsNight\"    \"SleepTrouble\"     \"PhysActive\"      \n",
       "[53] \"PhysActiveDays\"   \"TVHrsDay\"         \"CompHrsDay\"       \"TVHrsDayChild\"   \n",
       "[57] \"CompHrsDayChild\"  \"Alcohol12PlusYr\"  \"AlcoholDay\"       \"AlcoholYear\"     \n",
       "[61] \"SmokeNow\"         \"Smoke100\"         \"Smoke100n\"        \"SmokeAge\"        \n",
       "[65] \"Marijuana\"        \"AgeFirstMarij\"    \"RegularMarij\"     \"AgeRegMarij\"     \n",
       "[69] \"HardDrugs\"        \"SexEver\"          \"SexAge\"           \"SexNumPartnLife\" \n",
       "[73] \"SexNumPartYear\"   \"SameSex\"          \"SexOrientation\"   \"PregnantNow\"     "
      ]
     },
     "metadata": {},
     "output_type": "display_data"
    }
   ],
   "source": [
    "colnames(NHANES)"
   ]
  },
  {
   "cell_type": "code",
   "execution_count": 3,
   "metadata": {},
   "outputs": [
    {
     "data": {},
     "metadata": {},
     "output_type": "display_data"
    },
    {
     "data": {
      "image/png": "[encoded data removed]",
      "text/plain": [
       "plot without title"
      ]
     },
     "metadata": {},
     "output_type": "display_data"
    }
   ],
   "source": [
    "# Create bar plot for Home Ownership by Gender\n",
    "ggplot(NHANES, aes(x = Gender, fill = HomeOwn)) + \n",
    "  # Set the position to fill\n",
    "  geom_bar(position = \"fill\") +\n",
    "  ylab(\"Relative frequencies\")"
   ]
  },
  {
   "cell_type": "code",
   "execution_count": 4,
   "metadata": {},
   "outputs": [
    {
     "name": "stderr",
     "output_type": "stream",
     "text": [
      "Warning message:\n",
      "\"Removed 2245 rows containing non-finite values (stat_density).\""
     ]
    },
    {
     "data": {},
     "metadata": {},
     "output_type": "display_data"
    },
    {
     "data": {
      "image/png": "[encoded data removed]",
      "text/plain": [
       "plot without title"
      ]
     },
     "metadata": {},
     "output_type": "display_data"
    }
   ],
   "source": [
    "# Density plot of SleepHrsNight colored by SleepTrouble\n",
    "ggplot(NHANES, aes(x = SleepHrsNight, color = SleepTrouble)) + \n",
    "  # Since SleepHrsNight contains discrete values, the density should be smoothed a bit using adjust = 2\n",
    "  geom_density(adjust = 2) + \n",
    "  # Facet by HealthGen\n",
    "  facet_wrap(~ HealthGen)"
   ]
  },
  {
   "cell_type": "markdown",
   "metadata": {},
   "source": [
    "### Calculating statistic of interest\n",
    "As seen in the video, natural variability can be modeled from shuffling observations around to remove any relationships that might exist in the population. However, before you permute the data, you need to calculate the original observed statistic. In this exercise, you will calculate the difference in proportion of home owners who are men versus women."
   ]
  },
  {
   "cell_type": "code",
   "execution_count": 5,
   "metadata": {},
   "outputs": [],
   "source": [
    "homes <- NHANES %>%\n",
    "  # Select Gender and HomeOwn\n",
    "  select(Gender, HomeOwn) %>%\n",
    "  # Filter for HomeOwn equal to \"Own\" or \"Rent\"\n",
    "  filter(HomeOwn %in% c(\"Own\", \"Rent\"))"
   ]
  },
  {
   "cell_type": "code",
   "execution_count": 6,
   "metadata": {},
   "outputs": [],
   "source": [
    "diff_orig <- homes %>%   \n",
    "  # Group by gender\n",
    "  group_by(Gender) %>%\n",
    "  # Summarize proportion of homeowners\n",
    "  summarize(prop_own = mean(HomeOwn == \"Own\")) %>%\n",
    "  # Summarize difference in proportion of homeowners\n",
    "  summarize(obs_diff_prop = diff(prop_own)) # male - female"
   ]
  },
  {
   "cell_type": "code",
   "execution_count": 7,
   "metadata": {},
   "outputs": [
    {
     "data": {
      "text/html": [
       "<table>\n",
       "<thead><tr><th scope=col>obs_diff_prop</th></tr></thead>\n",
       "<tbody>\n",
       "\t<tr><td>-0.007828723</td></tr>\n",
       "</tbody>\n",
       "</table>\n"
      ],
      "text/latex": [
       "\\begin{tabular}{r|l}\n",
       " obs\\_diff\\_prop\\\\\n",
       "\\hline\n",
       "\t -0.007828723\\\\\n",
       "\\end{tabular}\n"
      ],
      "text/markdown": [
       "\n",
       "obs_diff_prop | \n",
       "|---|\n",
       "| -0.007828723 | \n",
       "\n",
       "\n"
      ],
      "text/plain": [
       "  obs_diff_prop\n",
       "1 -0.007828723 "
      ]
     },
     "metadata": {},
     "output_type": "display_data"
    }
   ],
   "source": [
    "diff_orig"
   ]
  },
  {
   "cell_type": "markdown",
   "metadata": {},
   "source": [
    "### Randomized data under null model of independence\n",
    "\n",
    "The infer package will allow you to model a particular null hypothesis and then randomize the data to calculate permuted statistics. In this exercise, after specifying your null hypothesis you will permute the home ownership variable 10 times. By doing so, you will ensure that there is no relationship between home ownership and gender, so any difference in home ownership proportion for female versus male will be due only to natural variability.\n",
    "\n",
    "This exercise will demonstrate the first three steps from the `infer` package: + `specify` will specify the response and explanatory variables. + `hypothesize` will declare the null hypothesis. + `generate` will generate resamples, permutations, or simulations.\n",
    "\n",
    "The `dplyr`, `ggplot2`, `NHANES`, and `infer` packages have been loaded for you and the homes dataset you created in the last exercise is available in your workspace."
   ]
  },
  {
   "cell_type": "code",
   "execution_count": 8,
   "metadata": {},
   "outputs": [
    {
     "data": {
      "text/html": [
       "<table>\n",
       "<thead><tr><th scope=col>HomeOwn</th><th scope=col>Gender</th><th scope=col>replicate</th></tr></thead>\n",
       "<tbody>\n",
       "\t<tr><td>Rent  </td><td>male  </td><td>1     </td></tr>\n",
       "\t<tr><td>Own   </td><td>male  </td><td>1     </td></tr>\n",
       "\t<tr><td>Rent  </td><td>male  </td><td>1     </td></tr>\n",
       "\t<tr><td>Own   </td><td>male  </td><td>1     </td></tr>\n",
       "\t<tr><td>Own   </td><td>female</td><td>1     </td></tr>\n",
       "\t<tr><td>Own   </td><td>male  </td><td>1     </td></tr>\n",
       "\t<tr><td>Rent  </td><td>male  </td><td>1     </td></tr>\n",
       "\t<tr><td>Own   </td><td>female</td><td>1     </td></tr>\n",
       "\t<tr><td>Own   </td><td>female</td><td>1     </td></tr>\n",
       "\t<tr><td>Own   </td><td>female</td><td>1     </td></tr>\n",
       "\t<tr><td>Rent  </td><td>male  </td><td>1     </td></tr>\n",
       "\t<tr><td>Rent  </td><td>male  </td><td>1     </td></tr>\n",
       "\t<tr><td>Own   </td><td>male  </td><td>1     </td></tr>\n",
       "\t<tr><td>Rent  </td><td>female</td><td>1     </td></tr>\n",
       "\t<tr><td>Rent  </td><td>female</td><td>1     </td></tr>\n",
       "\t<tr><td>Rent  </td><td>male  </td><td>1     </td></tr>\n",
       "\t<tr><td>Own   </td><td>female</td><td>1     </td></tr>\n",
       "\t<tr><td>Rent  </td><td>male  </td><td>1     </td></tr>\n",
       "\t<tr><td>Rent  </td><td>male  </td><td>1     </td></tr>\n",
       "\t<tr><td>Rent  </td><td>male  </td><td>1     </td></tr>\n",
       "\t<tr><td>Own   </td><td>female</td><td>1     </td></tr>\n",
       "\t<tr><td>Own   </td><td>female</td><td>1     </td></tr>\n",
       "\t<tr><td>Rent  </td><td>female</td><td>1     </td></tr>\n",
       "\t<tr><td>Own   </td><td>male  </td><td>1     </td></tr>\n",
       "\t<tr><td>Rent  </td><td>male  </td><td>1     </td></tr>\n",
       "\t<tr><td>Own   </td><td>male  </td><td>1     </td></tr>\n",
       "\t<tr><td>Own   </td><td>male  </td><td>1     </td></tr>\n",
       "\t<tr><td>Own   </td><td>male  </td><td>1     </td></tr>\n",
       "\t<tr><td>Own   </td><td>male  </td><td>1     </td></tr>\n",
       "\t<tr><td>Own   </td><td>male  </td><td>1     </td></tr>\n",
       "\t<tr><td>...</td><td>...</td><td>...</td></tr>\n",
       "\t<tr><td>Own   </td><td>female</td><td>10    </td></tr>\n",
       "\t<tr><td>Own   </td><td>female</td><td>10    </td></tr>\n",
       "\t<tr><td>Own   </td><td>male  </td><td>10    </td></tr>\n",
       "\t<tr><td>Own   </td><td>male  </td><td>10    </td></tr>\n",
       "\t<tr><td>Own   </td><td>male  </td><td>10    </td></tr>\n",
       "\t<tr><td>Own   </td><td>male  </td><td>10    </td></tr>\n",
       "\t<tr><td>Own   </td><td>male  </td><td>10    </td></tr>\n",
       "\t<tr><td>Own   </td><td>male  </td><td>10    </td></tr>\n",
       "\t<tr><td>Own   </td><td>male  </td><td>10    </td></tr>\n",
       "\t<tr><td>Own   </td><td>male  </td><td>10    </td></tr>\n",
       "\t<tr><td>Own   </td><td>male  </td><td>10    </td></tr>\n",
       "\t<tr><td>Own   </td><td>male  </td><td>10    </td></tr>\n",
       "\t<tr><td>Rent  </td><td>female</td><td>10    </td></tr>\n",
       "\t<tr><td>Own   </td><td>male  </td><td>10    </td></tr>\n",
       "\t<tr><td>Rent  </td><td>male  </td><td>10    </td></tr>\n",
       "\t<tr><td>Own   </td><td>male  </td><td>10    </td></tr>\n",
       "\t<tr><td>Own   </td><td>female</td><td>10    </td></tr>\n",
       "\t<tr><td>Own   </td><td>female</td><td>10    </td></tr>\n",
       "\t<tr><td>Own   </td><td>male  </td><td>10    </td></tr>\n",
       "\t<tr><td>Rent  </td><td>male  </td><td>10    </td></tr>\n",
       "\t<tr><td>Own   </td><td>male  </td><td>10    </td></tr>\n",
       "\t<tr><td>Own   </td><td>female</td><td>10    </td></tr>\n",
       "\t<tr><td>Own   </td><td>female</td><td>10    </td></tr>\n",
       "\t<tr><td>Rent  </td><td>male  </td><td>10    </td></tr>\n",
       "\t<tr><td>Own   </td><td>male  </td><td>10    </td></tr>\n",
       "\t<tr><td>Rent  </td><td>male  </td><td>10    </td></tr>\n",
       "\t<tr><td>Rent  </td><td>female</td><td>10    </td></tr>\n",
       "\t<tr><td>Own   </td><td>male  </td><td>10    </td></tr>\n",
       "\t<tr><td>Rent  </td><td>male  </td><td>10    </td></tr>\n",
       "\t<tr><td>Rent  </td><td>male  </td><td>10    </td></tr>\n",
       "</tbody>\n",
       "</table>\n"
      ],
      "text/latex": [
       "\\begin{tabular}{r|lll}\n",
       " HomeOwn & Gender & replicate\\\\\n",
       "\\hline\n",
       "\t Rent   & male   & 1     \\\\\n",
       "\t Own    & male   & 1     \\\\\n",
       "\t Rent   & male   & 1     \\\\\n",
       "\t Own    & male   & 1     \\\\\n",
       "\t Own    & female & 1     \\\\\n",
       "\t Own    & male   & 1     \\\\\n",
       "\t Rent   & male   & 1     \\\\\n",
       "\t Own    & female & 1     \\\\\n",
       "\t Own    & female & 1     \\\\\n",
       "\t Own    & female & 1     \\\\\n",
       "\t Rent   & male   & 1     \\\\\n",
       "\t Rent   & male   & 1     \\\\\n",
       "\t Own    & male   & 1     \\\\\n",
       "\t Rent   & female & 1     \\\\\n",
       "\t Rent   & female & 1     \\\\\n",
       "\t Rent   & male   & 1     \\\\\n",
       "\t Own    & female & 1     \\\\\n",
       "\t Rent   & male   & 1     \\\\\n",
       "\t Rent   & male   & 1     \\\\\n",
       "\t Rent   & male   & 1     \\\\\n",
       "\t Own    & female & 1     \\\\\n",
       "\t Own    & female & 1     \\\\\n",
       "\t Rent   & female & 1     \\\\\n",
       "\t Own    & male   & 1     \\\\\n",
       "\t Rent   & male   & 1     \\\\\n",
       "\t Own    & male   & 1     \\\\\n",
       "\t Own    & male   & 1     \\\\\n",
       "\t Own    & male   & 1     \\\\\n",
       "\t Own    & male   & 1     \\\\\n",
       "\t Own    & male   & 1     \\\\\n",
       "\t ... & ... & ...\\\\\n",
       "\t Own    & female & 10    \\\\\n",
       "\t Own    & female & 10    \\\\\n",
       "\t Own    & male   & 10    \\\\\n",
       "\t Own    & male   & 10    \\\\\n",
       "\t Own    & male   & 10    \\\\\n",
       "\t Own    & male   & 10    \\\\\n",
       "\t Own    & male   & 10    \\\\\n",
       "\t Own    & male   & 10    \\\\\n",
       "\t Own    & male   & 10    \\\\\n",
       "\t Own    & male   & 10    \\\\\n",
       "\t Own    & male   & 10    \\\\\n",
       "\t Own    & male   & 10    \\\\\n",
       "\t Rent   & female & 10    \\\\\n",
       "\t Own    & male   & 10    \\\\\n",
       "\t Rent   & male   & 10    \\\\\n",
       "\t Own    & male   & 10    \\\\\n",
       "\t Own    & female & 10    \\\\\n",
       "\t Own    & female & 10    \\\\\n",
       "\t Own    & male   & 10    \\\\\n",
       "\t Rent   & male   & 10    \\\\\n",
       "\t Own    & male   & 10    \\\\\n",
       "\t Own    & female & 10    \\\\\n",
       "\t Own    & female & 10    \\\\\n",
       "\t Rent   & male   & 10    \\\\\n",
       "\t Own    & male   & 10    \\\\\n",
       "\t Rent   & male   & 10    \\\\\n",
       "\t Rent   & female & 10    \\\\\n",
       "\t Own    & male   & 10    \\\\\n",
       "\t Rent   & male   & 10    \\\\\n",
       "\t Rent   & male   & 10    \\\\\n",
       "\\end{tabular}\n"
      ],
      "text/markdown": [
       "\n",
       "HomeOwn | Gender | replicate | \n",
       "|---|---|---|---|---|---|---|---|---|---|---|---|---|---|---|---|---|---|---|---|---|---|---|---|---|---|---|---|---|---|---|---|---|---|---|---|---|---|---|---|---|---|---|---|---|---|---|---|---|---|---|---|---|---|---|---|---|---|---|---|---|\n",
       "| Rent   | male   | 1      | \n",
       "| Own    | male   | 1      | \n",
       "| Rent   | male   | 1      | \n",
       "| Own    | male   | 1      | \n",
       "| Own    | female | 1      | \n",
       "| Own    | male   | 1      | \n",
       "| Rent   | male   | 1      | \n",
       "| Own    | female | 1      | \n",
       "| Own    | female | 1      | \n",
       "| Own    | female | 1      | \n",
       "| Rent   | male   | 1      | \n",
       "| Rent   | male   | 1      | \n",
       "| Own    | male   | 1      | \n",
       "| Rent   | female | 1      | \n",
       "| Rent   | female | 1      | \n",
       "| Rent   | male   | 1      | \n",
       "| Own    | female | 1      | \n",
       "| Rent   | male   | 1      | \n",
       "| Rent   | male   | 1      | \n",
       "| Rent   | male   | 1      | \n",
       "| Own    | female | 1      | \n",
       "| Own    | female | 1      | \n",
       "| Rent   | female | 1      | \n",
       "| Own    | male   | 1      | \n",
       "| Rent   | male   | 1      | \n",
       "| Own    | male   | 1      | \n",
       "| Own    | male   | 1      | \n",
       "| Own    | male   | 1      | \n",
       "| Own    | male   | 1      | \n",
       "| Own    | male   | 1      | \n",
       "| ... | ... | ... | \n",
       "| Own    | female | 10     | \n",
       "| Own    | female | 10     | \n",
       "| Own    | male   | 10     | \n",
       "| Own    | male   | 10     | \n",
       "| Own    | male   | 10     | \n",
       "| Own    | male   | 10     | \n",
       "| Own    | male   | 10     | \n",
       "| Own    | male   | 10     | \n",
       "| Own    | male   | 10     | \n",
       "| Own    | male   | 10     | \n",
       "| Own    | male   | 10     | \n",
       "| Own    | male   | 10     | \n",
       "| Rent   | female | 10     | \n",
       "| Own    | male   | 10     | \n",
       "| Rent   | male   | 10     | \n",
       "| Own    | male   | 10     | \n",
       "| Own    | female | 10     | \n",
       "| Own    | female | 10     | \n",
       "| Own    | male   | 10     | \n",
       "| Rent   | male   | 10     | \n",
       "| Own    | male   | 10     | \n",
       "| Own    | female | 10     | \n",
       "| Own    | female | 10     | \n",
       "| Rent   | male   | 10     | \n",
       "| Own    | male   | 10     | \n",
       "| Rent   | male   | 10     | \n",
       "| Rent   | female | 10     | \n",
       "| Own    | male   | 10     | \n",
       "| Rent   | male   | 10     | \n",
       "| Rent   | male   | 10     | \n",
       "\n",
       "\n"
      ],
      "text/plain": [
       "      HomeOwn Gender replicate\n",
       "1     Rent    male   1        \n",
       "2     Own     male   1        \n",
       "3     Rent    male   1        \n",
       "4     Own     male   1        \n",
       "5     Own     female 1        \n",
       "6     Own     male   1        \n",
       "7     Rent    male   1        \n",
       "8     Own     female 1        \n",
       "9     Own     female 1        \n",
       "10    Own     female 1        \n",
       "11    Rent    male   1        \n",
       "12    Rent    male   1        \n",
       "13    Own     male   1        \n",
       "14    Rent    female 1        \n",
       "15    Rent    female 1        \n",
       "16    Rent    male   1        \n",
       "17    Own     female 1        \n",
       "18    Rent    male   1        \n",
       "19    Rent    male   1        \n",
       "20    Rent    male   1        \n",
       "21    Own     female 1        \n",
       "22    Own     female 1        \n",
       "23    Rent    female 1        \n",
       "24    Own     male   1        \n",
       "25    Rent    male   1        \n",
       "26    Own     male   1        \n",
       "27    Own     male   1        \n",
       "28    Own     male   1        \n",
       "29    Own     male   1        \n",
       "30    Own     male   1        \n",
       "...   ...     ...    ...      \n",
       "97091 Own     female 10       \n",
       "97092 Own     female 10       \n",
       "97093 Own     male   10       \n",
       "97094 Own     male   10       \n",
       "97095 Own     male   10       \n",
       "97096 Own     male   10       \n",
       "97097 Own     male   10       \n",
       "97098 Own     male   10       \n",
       "97099 Own     male   10       \n",
       "97100 Own     male   10       \n",
       "97101 Own     male   10       \n",
       "97102 Own     male   10       \n",
       "97103 Rent    female 10       \n",
       "97104 Own     male   10       \n",
       "97105 Rent    male   10       \n",
       "97106 Own     male   10       \n",
       "97107 Own     female 10       \n",
       "97108 Own     female 10       \n",
       "97109 Own     male   10       \n",
       "97110 Rent    male   10       \n",
       "97111 Own     male   10       \n",
       "97112 Own     female 10       \n",
       "97113 Own     female 10       \n",
       "97114 Rent    male   10       \n",
       "97115 Own     male   10       \n",
       "97116 Rent    male   10       \n",
       "97117 Rent    female 10       \n",
       "97118 Own     male   10       \n",
       "97119 Rent    male   10       \n",
       "97120 Rent    male   10       "
      ]
     },
     "metadata": {},
     "output_type": "display_data"
    }
   ],
   "source": [
    "# Perform 10 permutations\n",
    "homeown_perm <- homes %>%\n",
    "  specify(HomeOwn ~ Gender, success = \"Own\") %>%\n",
    "  hypothesize(null = \"independence\") %>% \n",
    "  generate(reps = 10, type = \"permute\") \n",
    "\n",
    "# Notice that you went through three sequential steps: (1) the response and explanatory variables were defined by the specify command,\n",
    "# (2) the independence null hypothesis was set, and\n",
    "# (3) you successfully shuffled the response variable, HomeOwn, ten times. \n",
    "# Print results to console\n",
    "homeown_perm"
   ]
  },
  {
   "cell_type": "markdown",
   "metadata": {},
   "source": [
    "### Randomized statistics and dotplot\n",
    "\n",
    "By permuting the home ownership variable multiple times, you generate differences in proportions that are consistent with the assumption that the variables are unrelated. The statistic of interest is the difference in proportions given by stat = \"diff in props\". After calculating the randomized statistics, you will plot them in a dotplot.\n",
    "\n",
    "This exercise shows all four steps from the infer package:\n",
    "\n",
    "* `specify` will specify the response and explanatory variables.\n",
    "* `hypothesize` will declare the null hypothesis.\n",
    "* `generate` will generate resamples, permutations, or simulations.\n",
    "* `calculate` will calculate summary statistics.\n",
    "\n",
    "Each step will be covered throughout the course; in this exercise you'll write code for `calculate()`."
   ]
  },
  {
   "cell_type": "code",
   "execution_count": 9,
   "metadata": {},
   "outputs": [
    {
     "data": {
      "text/html": [
       "<table>\n",
       "<thead><tr><th scope=col>replicate</th><th scope=col>stat</th></tr></thead>\n",
       "<tbody>\n",
       "\t<tr><td>1            </td><td> 0.0004089131</td></tr>\n",
       "\t<tr><td>2            </td><td>-0.0053574322</td></tr>\n",
       "\t<tr><td>3            </td><td> 0.0078227856</td></tr>\n",
       "\t<tr><td>4            </td><td>-0.0123594229</td></tr>\n",
       "\t<tr><td>5            </td><td>-0.0119475411</td></tr>\n",
       "\t<tr><td>6            </td><td> 0.0140010127</td></tr>\n",
       "</tbody>\n",
       "</table>\n"
      ],
      "text/latex": [
       "\\begin{tabular}{r|ll}\n",
       " replicate & stat\\\\\n",
       "\\hline\n",
       "\t 1             &  0.0004089131\\\\\n",
       "\t 2             & -0.0053574322\\\\\n",
       "\t 3             &  0.0078227856\\\\\n",
       "\t 4             & -0.0123594229\\\\\n",
       "\t 5             & -0.0119475411\\\\\n",
       "\t 6             &  0.0140010127\\\\\n",
       "\\end{tabular}\n"
      ],
      "text/markdown": [
       "\n",
       "replicate | stat | \n",
       "|---|---|---|---|---|---|\n",
       "| 1             |  0.0004089131 | \n",
       "| 2             | -0.0053574322 | \n",
       "| 3             |  0.0078227856 | \n",
       "| 4             | -0.0123594229 | \n",
       "| 5             | -0.0119475411 | \n",
       "| 6             |  0.0140010127 | \n",
       "\n",
       "\n"
      ],
      "text/plain": [
       "  replicate stat         \n",
       "1 1          0.0004089131\n",
       "2 2         -0.0053574322\n",
       "3 3          0.0078227856\n",
       "4 4         -0.0123594229\n",
       "5 5         -0.0119475411\n",
       "6 6          0.0140010127"
      ]
     },
     "metadata": {},
     "output_type": "display_data"
    }
   ],
   "source": [
    "# Perform 100 permutations\n",
    "homeown_perm <- homes %>%\n",
    "  specify(HomeOwn ~ Gender, success = \"Own\") %>%\n",
    "  hypothesize(null = \"independence\") %>% \n",
    "  generate(reps = 100, type = \"permute\") %>% \n",
    "  calculate(stat = \"diff in props\", order = c(\"male\", \"female\"))\n",
    "  \n",
    "# Print results to console\n",
    "head(homeown_perm)"
   ]
  },
  {
   "cell_type": "code",
   "execution_count": 24,
   "metadata": {},
   "outputs": [
    {
     "data": {},
     "metadata": {},
     "output_type": "display_data"
    },
    {
     "data": {
      "image/png": "[encoded data removed]",
      "text/plain": [
       "plot without title"
      ]
     },
     "metadata": {},
     "output_type": "display_data"
    }
   ],
   "source": [
    "# Perform 100 permutations\n",
    "homeown_perm <- homes %>%\n",
    "  specify(HomeOwn ~ Gender, success = \"Own\") %>%\n",
    "  hypothesize(null = \"independence\") %>% \n",
    "  generate(reps = 1000, type = \"permute\") %>% \n",
    "  calculate(stat = \"diff in props\", order = c(\"male\", \"female\"))\n",
    "  \n",
    "# Dotplot of 100 permuted differences in proportions\n",
    "ggplot(homeown_perm, aes(x = stat)) + \n",
    "  geom_density()"
   ]
  },
  {
   "cell_type": "markdown",
   "metadata": {},
   "source": [
    "### Do the data come from the population?\n",
    "\n",
    "Recall that the observed difference (i.e. the difference in proportions in the homes dataset, shown as the red vertical line) was around -0.0078, which seems to fall below the bulk of the density of shuffled differences. It is important to know, however, whether any of the randomly permuted differences were as extreme as the observed difference."
   ]
  },
  {
   "cell_type": "code",
   "execution_count": 25,
   "metadata": {},
   "outputs": [
    {
     "data": {
      "text/html": [
       "<table>\n",
       "<thead><tr><th scope=col>replicate</th><th scope=col>stat</th><th scope=col>diff_orig</th></tr></thead>\n",
       "<tbody>\n",
       "\t<tr><td>1           </td><td> 0.005351495</td><td>-0.00783    </td></tr>\n",
       "\t<tr><td>2           </td><td> 0.001644559</td><td>-0.00783    </td></tr>\n",
       "\t<tr><td>3           </td><td>-0.005769314</td><td>-0.00783    </td></tr>\n",
       "\t<tr><td>4           </td><td> 0.005351495</td><td>-0.00783    </td></tr>\n",
       "\t<tr><td>5           </td><td>-0.007004959</td><td>-0.00783    </td></tr>\n",
       "\t<tr><td>6           </td><td> 0.015648540</td><td>-0.00783    </td></tr>\n",
       "</tbody>\n",
       "</table>\n"
      ],
      "text/latex": [
       "\\begin{tabular}{r|lll}\n",
       " replicate & stat & diff\\_orig\\\\\n",
       "\\hline\n",
       "\t 1            &  0.005351495 & -0.00783    \\\\\n",
       "\t 2            &  0.001644559 & -0.00783    \\\\\n",
       "\t 3            & -0.005769314 & -0.00783    \\\\\n",
       "\t 4            &  0.005351495 & -0.00783    \\\\\n",
       "\t 5            & -0.007004959 & -0.00783    \\\\\n",
       "\t 6            &  0.015648540 & -0.00783    \\\\\n",
       "\\end{tabular}\n"
      ],
      "text/markdown": [
       "\n",
       "replicate | stat | diff_orig | \n",
       "|---|---|---|---|---|---|\n",
       "| 1            |  0.005351495 | -0.00783     | \n",
       "| 2            |  0.001644559 | -0.00783     | \n",
       "| 3            | -0.005769314 | -0.00783     | \n",
       "| 4            |  0.005351495 | -0.00783     | \n",
       "| 5            | -0.007004959 | -0.00783     | \n",
       "| 6            |  0.015648540 | -0.00783     | \n",
       "\n",
       "\n"
      ],
      "text/plain": [
       "  replicate stat         diff_orig\n",
       "1 1          0.005351495 -0.00783 \n",
       "2 2          0.001644559 -0.00783 \n",
       "3 3         -0.005769314 -0.00783 \n",
       "4 4          0.005351495 -0.00783 \n",
       "5 5         -0.007004959 -0.00783 \n",
       "6 6          0.015648540 -0.00783 "
      ]
     },
     "metadata": {},
     "output_type": "display_data"
    },
    {
     "data": {
      "text/html": [
       "<ol class=list-inline>\n",
       "\t<li>1000</li>\n",
       "\t<li>3</li>\n",
       "</ol>\n"
      ],
      "text/latex": [
       "\\begin{enumerate*}\n",
       "\\item 1000\n",
       "\\item 3\n",
       "\\end{enumerate*}\n"
      ],
      "text/markdown": [
       "1. 1000\n",
       "2. 3\n",
       "\n",
       "\n"
      ],
      "text/plain": [
       "[1] 1000    3"
      ]
     },
     "metadata": {},
     "output_type": "display_data"
    }
   ],
   "source": [
    "homeown_perm2 <- homeown_perm %>% mutate(diff_orig = rep(-0.00783, nrow(homeown_perm)))\n",
    "head(homeown_perm2)\n",
    "dim(homeown_perm2)"
   ]
  },
  {
   "cell_type": "code",
   "execution_count": 26,
   "metadata": {},
   "outputs": [
    {
     "name": "stdout",
     "output_type": "stream",
     "text": [
      "Classes 'tbl_df', 'tbl' and 'data.frame':\t1000 obs. of  3 variables:\n",
      " $ replicate: int  1 2 3 4 5 6 7 8 9 10 ...\n",
      " $ stat     : num  0.00535 0.00164 -0.00577 0.00535 -0.007 ...\n",
      " $ diff_orig: num  -0.00783 -0.00783 -0.00783 -0.00783 -0.00783 -0.00783 -0.00783 -0.00783 -0.00783 -0.00783 ...\n"
     ]
    }
   ],
   "source": [
    "str(homeown_perm2)"
   ]
  },
  {
   "cell_type": "code",
   "execution_count": 27,
   "metadata": {},
   "outputs": [
    {
     "data": {},
     "metadata": {},
     "output_type": "display_data"
    },
    {
     "data": {
      "text/html": [
       "<table>\n",
       "<thead><tr><th scope=col>sum(stat &lt;= -0.00783)</th></tr></thead>\n",
       "<tbody>\n",
       "\t<tr><td>196</td></tr>\n",
       "</tbody>\n",
       "</table>\n"
      ],
      "text/latex": [
       "\\begin{tabular}{r|l}\n",
       " sum(stat <= -0.00783)\\\\\n",
       "\\hline\n",
       "\t 196\\\\\n",
       "\\end{tabular}\n"
      ],
      "text/markdown": [
       "\n",
       "sum(stat <= -0.00783) | \n",
       "|---|\n",
       "| 196 | \n",
       "\n",
       "\n"
      ],
      "text/plain": [
       "  sum(stat <= -0.00783)\n",
       "1 196                  "
      ]
     },
     "metadata": {},
     "output_type": "display_data"
    },
    {
     "data": {
      "image/png": "[encoded data removed]",
      "text/plain": [
       "plot without title"
      ]
     },
     "metadata": {},
     "output_type": "display_data"
    }
   ],
   "source": [
    "# Plot permuted differences, diff_perm\n",
    "ggplot(homeown_perm2, aes(x = stat)) + \n",
    "  # Add a density layer\n",
    "  geom_density() +\n",
    "  # Add a vline layer with intercept diff_orig\n",
    "  geom_vline(aes(xintercept = diff_orig), color = \"red\")\n",
    "\n",
    "# Compare permuted differences to observed difference\n",
    "homeown_perm %>%\n",
    "  summarize(sum(stat <= -0.00783))"
   ]
  },
  {
   "cell_type": "markdown",
   "metadata": {},
   "source": [
    "196 permuted differences are more extreme than the observed difference. This only represents 19.6% of the null statistics, so you can conclude that the observed difference is consistent with the permuted distribution. "
   ]
  },
  {
   "cell_type": "markdown",
   "metadata": {},
   "source": [
    "<b>We have learned that our data is consistent with the hypothesis of no difference in home ownership across gender.</b>"
   ]
  },
  {
   "cell_type": "markdown",
   "metadata": {},
   "source": [
    "### Summarizing gender discrimination\n",
    "\n",
    "As the first step of any analysis, you should look at and summarize the data. Categorical variables are often summarized using proportions, and it is always important to understand the denominator of the proportion.\n",
    "\n",
    "Do you want the proportion of women who were promoted or the proportion of promoted individuals who were women? Here, you want the first of these, so in your R code it's necessary to `group_by()` the `sex` variable.\n",
    "\n",
    "The discrimination study data are available in your workspace as `disc`."
   ]
  },
  {
   "cell_type": "code",
   "execution_count": 81,
   "metadata": {},
   "outputs": [],
   "source": [
    "sex <- factor(rep(c(\"male\", \"female\"), c(3, 10)), level = c(\"female\", \"male\"))\n",
    "promote <- factor(rep(c(\"not_promoted\"), 13), level = c(\"not_promoted\", \"promoted\"))\n",
    "x <- data.frame(sex, promote)\n",
    "sex <- factor(rep(c(\"male\", \"female\"), c(21, 14)), level = c(\"female\", \"male\"))\n",
    "promote <- factor(rep(c(\"promoted\"), 35), level = c(\"not_promoted\", \"promoted\"))\n",
    "y <- data.frame(sex, promote)\n",
    "disc <- bind_rows(x,y)"
   ]
  },
  {
   "cell_type": "code",
   "execution_count": 82,
   "metadata": {},
   "outputs": [
    {
     "data": {
      "text/html": [
       "<table>\n",
       "<thead><tr><th scope=col>promote</th><th scope=col>sex</th><th scope=col>n</th></tr></thead>\n",
       "<tbody>\n",
       "\t<tr><td>not_promoted</td><td>female      </td><td>10          </td></tr>\n",
       "\t<tr><td>not_promoted</td><td>male        </td><td> 3          </td></tr>\n",
       "\t<tr><td>promoted    </td><td>female      </td><td>14          </td></tr>\n",
       "\t<tr><td>promoted    </td><td>male        </td><td>21          </td></tr>\n",
       "</tbody>\n",
       "</table>\n"
      ],
      "text/latex": [
       "\\begin{tabular}{r|lll}\n",
       " promote & sex & n\\\\\n",
       "\\hline\n",
       "\t not\\_promoted & female         & 10            \\\\\n",
       "\t not\\_promoted & male           &  3            \\\\\n",
       "\t promoted     & female       & 14          \\\\\n",
       "\t promoted     & male         & 21          \\\\\n",
       "\\end{tabular}\n"
      ],
      "text/markdown": [
       "\n",
       "promote | sex | n | \n",
       "|---|---|---|---|\n",
       "| not_promoted | female       | 10           | \n",
       "| not_promoted | male         |  3           | \n",
       "| promoted     | female       | 14           | \n",
       "| promoted     | male         | 21           | \n",
       "\n",
       "\n"
      ],
      "text/plain": [
       "  promote      sex    n \n",
       "1 not_promoted female 10\n",
       "2 not_promoted male    3\n",
       "3 promoted     female 14\n",
       "4 promoted     male   21"
      ]
     },
     "metadata": {},
     "output_type": "display_data"
    }
   ],
   "source": [
    "disc %>% \n",
    "    count(promote, sex)"
   ]
  },
  {
   "cell_type": "code",
   "execution_count": 83,
   "metadata": {},
   "outputs": [
    {
     "data": {
      "text/html": [
       "<table>\n",
       "<thead><tr><th scope=col>sex</th><th scope=col>promoted_prop</th></tr></thead>\n",
       "<tbody>\n",
       "\t<tr><td>female   </td><td>0.5833333</td></tr>\n",
       "\t<tr><td>male     </td><td>0.8750000</td></tr>\n",
       "</tbody>\n",
       "</table>\n"
      ],
      "text/latex": [
       "\\begin{tabular}{r|ll}\n",
       " sex & promoted\\_prop\\\\\n",
       "\\hline\n",
       "\t female    & 0.5833333\\\\\n",
       "\t male      & 0.8750000\\\\\n",
       "\\end{tabular}\n"
      ],
      "text/markdown": [
       "\n",
       "sex | promoted_prop | \n",
       "|---|---|\n",
       "| female    | 0.5833333 | \n",
       "| male      | 0.8750000 | \n",
       "\n",
       "\n"
      ],
      "text/plain": [
       "  sex    promoted_prop\n",
       "1 female 0.5833333    \n",
       "2 male   0.8750000    "
      ]
     },
     "metadata": {},
     "output_type": "display_data"
    }
   ],
   "source": [
    "# Find proportion of each sex who were promoted\n",
    "disc %>%\n",
    "  # Group by sex\n",
    "  group_by(sex) %>%\n",
    "  # Calculate proportion promoted summary stat\n",
    "  summarise(promoted_prop = mean(promote == \"promoted\"))"
   ]
  },
  {
   "cell_type": "code",
   "execution_count": 84,
   "metadata": {},
   "outputs": [
    {
     "data": {
      "text/html": [
       "<table>\n",
       "<thead><tr><th scope=col>replicate</th><th scope=col>n</th></tr></thead>\n",
       "<tbody>\n",
       "\t<tr><td>1 </td><td>48</td></tr>\n",
       "\t<tr><td>2 </td><td>48</td></tr>\n",
       "\t<tr><td>3 </td><td>48</td></tr>\n",
       "\t<tr><td>4 </td><td>48</td></tr>\n",
       "\t<tr><td>5 </td><td>48</td></tr>\n",
       "</tbody>\n",
       "</table>\n"
      ],
      "text/latex": [
       "\\begin{tabular}{r|ll}\n",
       " replicate & n\\\\\n",
       "\\hline\n",
       "\t 1  & 48\\\\\n",
       "\t 2  & 48\\\\\n",
       "\t 3  & 48\\\\\n",
       "\t 4  & 48\\\\\n",
       "\t 5  & 48\\\\\n",
       "\\end{tabular}\n"
      ],
      "text/markdown": [
       "\n",
       "replicate | n | \n",
       "|---|---|---|---|---|\n",
       "| 1  | 48 | \n",
       "| 2  | 48 | \n",
       "| 3  | 48 | \n",
       "| 4  | 48 | \n",
       "| 5  | 48 | \n",
       "\n",
       "\n"
      ],
      "text/plain": [
       "  replicate n \n",
       "1 1         48\n",
       "2 2         48\n",
       "3 3         48\n",
       "4 4         48\n",
       "5 5         48"
      ]
     },
     "metadata": {},
     "output_type": "display_data"
    },
    {
     "data": {
      "text/html": [
       "<table>\n",
       "<thead><tr><th scope=col>replicate</th><th scope=col>stat</th></tr></thead>\n",
       "<tbody>\n",
       "\t<tr><td>1          </td><td> 0.12500000</td></tr>\n",
       "\t<tr><td>2          </td><td>-0.04166667</td></tr>\n",
       "\t<tr><td>3          </td><td>-0.20833333</td></tr>\n",
       "\t<tr><td>4          </td><td>-0.12500000</td></tr>\n",
       "\t<tr><td>5          </td><td> 0.12500000</td></tr>\n",
       "</tbody>\n",
       "</table>\n"
      ],
      "text/latex": [
       "\\begin{tabular}{r|ll}\n",
       " replicate & stat\\\\\n",
       "\\hline\n",
       "\t 1           &  0.12500000\\\\\n",
       "\t 2           & -0.04166667\\\\\n",
       "\t 3           & -0.20833333\\\\\n",
       "\t 4           & -0.12500000\\\\\n",
       "\t 5           &  0.12500000\\\\\n",
       "\\end{tabular}\n"
      ],
      "text/markdown": [
       "\n",
       "replicate | stat | \n",
       "|---|---|---|---|---|\n",
       "| 1           |  0.12500000 | \n",
       "| 2           | -0.04166667 | \n",
       "| 3           | -0.20833333 | \n",
       "| 4           | -0.12500000 | \n",
       "| 5           |  0.12500000 | \n",
       "\n",
       "\n"
      ],
      "text/plain": [
       "  replicate stat       \n",
       "1 1          0.12500000\n",
       "2 2         -0.04166667\n",
       "3 3         -0.20833333\n",
       "4 4         -0.12500000\n",
       "5 5          0.12500000"
      ]
     },
     "metadata": {},
     "output_type": "display_data"
    }
   ],
   "source": [
    "# Replicate the entire data frame, permuting the promote variable\n",
    "disc_perm <- disc %>%\n",
    "  specify(promote ~ sex, success = \"promoted\") %>%\n",
    "  hypothesize(null = \"independence\") %>%\n",
    "  generate(reps = 5, type = \"permute\")\n",
    "\n",
    "disc_perm %>%\n",
    "  # Group by replicate\n",
    "  group_by(replicate) %>%\n",
    "  # Count per group\n",
    "  count()\n",
    "\n",
    "disc_perm %>%\n",
    "  # Calculate difference in proportion, male then female\n",
    "  calculate(stat = \"diff in props\", order = c(\"male\", \"female\"))"
   ]
  },
  {
   "cell_type": "markdown",
   "metadata": {},
   "source": [
    "### Randomizing gender discrimination\n",
    "\n",
    "Recall that we are considering a situation where the number of men and women are fixed (representing the resumes) and the number of people promoted is fixed (the managers were able to promote only 35 individuals).\n",
    "\n",
    "In this exercise, you'll create a randomization distribution of the null statistic with 1000 replicates as opposed to just 5 in the previous exercise. As a reminder, the statistic of interest is the difference in proportions promoted between genders (i.e. proportion for males minus proportion for females). From the original dataset, you can calculate how the promotion rates differ between males and females. Using the specify-hypothesis-generate-calculate workflow in infer, you can calculate the same statistic, but instead of getting a single number, you get a whole distribution. In this exercise, you'll compare that single number from the original dataset to the distribution made by the simulation."
   ]
  },
  {
   "cell_type": "code",
   "execution_count": 85,
   "metadata": {},
   "outputs": [
    {
     "data": {
      "text/html": [
       "0.291666666666667"
      ],
      "text/latex": [
       "0.291666666666667"
      ],
      "text/markdown": [
       "0.291666666666667"
      ],
      "text/plain": [
       "[1] 0.2916667"
      ]
     },
     "metadata": {},
     "output_type": "display_data"
    }
   ],
   "source": [
    "# Calculate the observed difference in promotion rate\n",
    "diff_orig <- disc %>%\n",
    "  # Group by sex\n",
    "  group_by(sex) %>%\n",
    "  # Summarize to calculate fraction promoted\n",
    "  summarise(prop_prom = mean(promote == \"promoted\")) %>%\n",
    "  # Summarize to calculate difference\n",
    "  summarise(stat = diff(prop_prom)) %>%\n",
    "    pull()\n",
    "    \n",
    "# See the result\n",
    "diff_orig"
   ]
  },
  {
   "cell_type": "code",
   "execution_count": 86,
   "metadata": {},
   "outputs": [
    {
     "data": {
      "text/html": [
       "<table>\n",
       "<thead><tr><th scope=col>replicate</th><th scope=col>stat</th></tr></thead>\n",
       "<tbody>\n",
       "\t<tr><td>1          </td><td> 0.04166667</td></tr>\n",
       "\t<tr><td>2          </td><td>-0.20833333</td></tr>\n",
       "\t<tr><td>3          </td><td> 0.04166667</td></tr>\n",
       "\t<tr><td>4          </td><td>-0.04166667</td></tr>\n",
       "\t<tr><td>5          </td><td>-0.04166667</td></tr>\n",
       "\t<tr><td>6          </td><td> 0.04166667</td></tr>\n",
       "</tbody>\n",
       "</table>\n"
      ],
      "text/latex": [
       "\\begin{tabular}{r|ll}\n",
       " replicate & stat\\\\\n",
       "\\hline\n",
       "\t 1           &  0.04166667\\\\\n",
       "\t 2           & -0.20833333\\\\\n",
       "\t 3           &  0.04166667\\\\\n",
       "\t 4           & -0.04166667\\\\\n",
       "\t 5           & -0.04166667\\\\\n",
       "\t 6           &  0.04166667\\\\\n",
       "\\end{tabular}\n"
      ],
      "text/markdown": [
       "\n",
       "replicate | stat | \n",
       "|---|---|---|---|---|---|\n",
       "| 1           |  0.04166667 | \n",
       "| 2           | -0.20833333 | \n",
       "| 3           |  0.04166667 | \n",
       "| 4           | -0.04166667 | \n",
       "| 5           | -0.04166667 | \n",
       "| 6           |  0.04166667 | \n",
       "\n",
       "\n"
      ],
      "text/plain": [
       "  replicate stat       \n",
       "1 1          0.04166667\n",
       "2 2         -0.20833333\n",
       "3 3          0.04166667\n",
       "4 4         -0.04166667\n",
       "5 5         -0.04166667\n",
       "6 6          0.04166667"
      ]
     },
     "metadata": {},
     "output_type": "display_data"
    }
   ],
   "source": [
    "# Create data frame of permuted differences in promotion rates\n",
    "disc_perm <- disc %>%\n",
    "  # Specify promote vs. sex\n",
    "  specify(promote ~ sex, success = \"promoted\") %>%\n",
    "  # Set null hypothesis as independence\n",
    "  hypothesize(null = \"independence\") %>%\n",
    "  # Generate 1000 permutations\n",
    "  generate(reps = 1000, type = \"permute\") %>%\n",
    "  # Calculate difference in proportions\n",
    "  calculate(stat = \"diff in props\", order = c(\"male\", \"female\"))\n",
    "head(disc_perm)"
   ]
  },
  {
   "cell_type": "code",
   "execution_count": 87,
   "metadata": {},
   "outputs": [
    {
     "data": {},
     "metadata": {},
     "output_type": "display_data"
    },
    {
     "data": {
      "image/png": "[encoded data removed]",
      "text/plain": [
       "plot without title"
      ]
     },
     "metadata": {},
     "output_type": "display_data"
    }
   ],
   "source": [
    "# Using permutation data, plot stat\n",
    "ggplot(disc_perm, aes(x = stat)) + \n",
    "  # Add a histogram layer\n",
    "  geom_histogram(binwidth = 0.01) +\n",
    "  # Using original data, add a vertical line at stat\n",
    "  geom_vline(aes(xintercept = diff_orig), color = \"red\")"
   ]
  },
  {
   "cell_type": "markdown",
   "metadata": {},
   "source": [
    "In the population there is evidence that women are promoted at a different rate, but we cannot tell whether the difference is due to discrimination or something else."
   ]
  },
  {
   "cell_type": "markdown",
   "metadata": {},
   "source": [
    "### Critical region\n",
    "\n",
    "It seems as though the statistic—a difference in promotion rates of 0.2917—is on the extreme end of the permutation distribution. That is, there are very few permuted differences which are as extreme as the observed difference.\n",
    "\n",
    "To quantify the extreme permuted (null) differences, we use the `quantile()` function."
   ]
  },
  {
   "cell_type": "code",
   "execution_count": 88,
   "metadata": {},
   "outputs": [
    {
     "data": {
      "text/html": [
       "<table>\n",
       "<thead><tr><th scope=col>q.90</th><th scope=col>q.95</th><th scope=col>q.99</th></tr></thead>\n",
       "<tbody>\n",
       "\t<tr><td>0.2083333</td><td>0.2083333</td><td>0.2916667</td></tr>\n",
       "</tbody>\n",
       "</table>\n"
      ],
      "text/latex": [
       "\\begin{tabular}{r|lll}\n",
       " q.90 & q.95 & q.99\\\\\n",
       "\\hline\n",
       "\t 0.2083333 & 0.2083333 & 0.2916667\\\\\n",
       "\\end{tabular}\n"
      ],
      "text/markdown": [
       "\n",
       "q.90 | q.95 | q.99 | \n",
       "|---|\n",
       "| 0.2083333 | 0.2083333 | 0.2916667 | \n",
       "\n",
       "\n"
      ],
      "text/plain": [
       "  q.90      q.95      q.99     \n",
       "1 0.2083333 0.2083333 0.2916667"
      ]
     },
     "metadata": {},
     "output_type": "display_data"
    }
   ],
   "source": [
    "disc_perm %>% \n",
    "  summarize(\n",
    "    # Find the 0.9 quantile of diff_perm's stat\n",
    "    q.90 = quantile(stat, p = 0.9),\n",
    "    # ... and the 0.95 quantile\n",
    "    q.95 = quantile(stat, p = 0.95),\n",
    "    # ... and the 0.99 quantile\n",
    "    q.99 = quantile(stat, p = 0.99)\n",
    "  )"
   ]
  },
  {
   "cell_type": "markdown",
   "metadata": {},
   "source": [
    "### Two-sided critical region\n",
    "\n",
    "For the discrimination data, the question at hand is whether or not women were promoted less often than men. However, there are often scenarios where the research question centers around a difference without directionality.\n",
    "\n",
    "For example, you might be interested in whether the rate of promotion for men and women is different. In that case, a difference in proportions of -0.29 is just as \"extreme\" as a difference of positive 0.29.\n",
    "\n",
    "If you had seen that women were promoted more often, what would the other side of the distribution of permuted differences look like? That is, what are the smallest (negative) values of the distribution of permuted differences?"
   ]
  },
  {
   "cell_type": "code",
   "execution_count": 89,
   "metadata": {},
   "outputs": [
    {
     "data": {
      "text/html": [
       "<table>\n",
       "<thead><tr><th scope=col>q.01</th><th scope=col>q.05</th><th scope=col>q.10</th></tr></thead>\n",
       "<tbody>\n",
       "\t<tr><td>-0.2916667</td><td>-0.2083333</td><td>-0.2083333</td></tr>\n",
       "</tbody>\n",
       "</table>\n"
      ],
      "text/latex": [
       "\\begin{tabular}{r|lll}\n",
       " q.01 & q.05 & q.10\\\\\n",
       "\\hline\n",
       "\t -0.2916667 & -0.2083333 & -0.2083333\\\\\n",
       "\\end{tabular}\n"
      ],
      "text/markdown": [
       "\n",
       "q.01 | q.05 | q.10 | \n",
       "|---|\n",
       "| -0.2916667 | -0.2083333 | -0.2083333 | \n",
       "\n",
       "\n"
      ],
      "text/plain": [
       "  q.01       q.05       q.10      \n",
       "1 -0.2916667 -0.2083333 -0.2083333"
      ]
     },
     "metadata": {},
     "output_type": "display_data"
    }
   ],
   "source": [
    "# Use disc_perm\n",
    "disc_perm %>% \n",
    "  # ... to calculate summary stats\n",
    "  summarise(\n",
    "    # Find the 0.01 quantile of stat\n",
    "    q.01 = quantile(stat, p = 0.01),\n",
    "    # ... and 0.05\n",
    "    q.05 = quantile(stat, p = 0.05),\n",
    "    # ... and 0.1 \n",
    "    q.10 = quantile(stat, p = 0.10)\n",
    "  )"
   ]
  },
  {
   "cell_type": "code",
   "execution_count": 107,
   "metadata": {},
   "outputs": [],
   "source": [
    "# create disc_small\n",
    "sex <- factor(rep(c(\"male\", \"female\"), c(1, 3)), level = c(\"female\", \"male\"))\n",
    "promote <- factor(rep(c(\"not_promoted\"), 4), level = c(\"not_promoted\", \"promoted\"))\n",
    "x <- data.frame(sex, promote)\n",
    "sex <- factor(rep(c(\"male\", \"female\"), c(7, 5)), level = c(\"female\", \"male\"))\n",
    "promote <- factor(rep(c(\"promoted\"), 12), level = c(\"not_promoted\", \"promoted\"))\n",
    "y <- data.frame(sex, promote)\n",
    "disc_small <- bind_rows(y,x)\n",
    "\n",
    "# create disc_big\n",
    "sex <- factor(rep(c(\"male\", \"female\"), c(30, 100)), level = c(\"female\", \"male\"))\n",
    "promote <- factor(rep(c(\"not_promoted\"), 130), level = c(\"not_promoted\", \"promoted\"))\n",
    "x <- data.frame(sex, promote)\n",
    "sex <- factor(rep(c(\"male\", \"female\"), c(210, 140)), level = c(\"female\", \"male\"))\n",
    "promote <- factor(rep(c(\"promoted\"), 350), level = c(\"not_promoted\", \"promoted\"))\n",
    "y <- data.frame(sex, promote)\n",
    "disc_big <- bind_rows(y,x)"
   ]
  },
  {
   "cell_type": "code",
   "execution_count": 108,
   "metadata": {},
   "outputs": [
    {
     "data": {
      "text/html": [
       "<table>\n",
       "<thead><tr><th scope=col>sex</th><th scope=col>promote</th><th scope=col>n</th></tr></thead>\n",
       "<tbody>\n",
       "\t<tr><td>female      </td><td>not_promoted</td><td>3           </td></tr>\n",
       "\t<tr><td>female      </td><td>promoted    </td><td>5           </td></tr>\n",
       "\t<tr><td>male        </td><td>not_promoted</td><td>1           </td></tr>\n",
       "\t<tr><td>male        </td><td>promoted    </td><td>7           </td></tr>\n",
       "</tbody>\n",
       "</table>\n"
      ],
      "text/latex": [
       "\\begin{tabular}{r|lll}\n",
       " sex & promote & n\\\\\n",
       "\\hline\n",
       "\t female         & not\\_promoted & 3             \\\\\n",
       "\t female       & promoted     & 5           \\\\\n",
       "\t male           & not\\_promoted & 1             \\\\\n",
       "\t male         & promoted     & 7           \\\\\n",
       "\\end{tabular}\n"
      ],
      "text/markdown": [
       "\n",
       "sex | promote | n | \n",
       "|---|---|---|---|\n",
       "| female       | not_promoted | 3            | \n",
       "| female       | promoted     | 5            | \n",
       "| male         | not_promoted | 1            | \n",
       "| male         | promoted     | 7            | \n",
       "\n",
       "\n"
      ],
      "text/plain": [
       "  sex    promote      n\n",
       "1 female not_promoted 3\n",
       "2 female promoted     5\n",
       "3 male   not_promoted 1\n",
       "4 male   promoted     7"
      ]
     },
     "metadata": {},
     "output_type": "display_data"
    },
    {
     "data": {
      "text/html": [
       "<table>\n",
       "<thead><tr><th scope=col>sex</th><th scope=col>promote</th><th scope=col>n</th></tr></thead>\n",
       "<tbody>\n",
       "\t<tr><td>female      </td><td>not_promoted</td><td>100         </td></tr>\n",
       "\t<tr><td>female      </td><td>promoted    </td><td>140         </td></tr>\n",
       "\t<tr><td>male        </td><td>not_promoted</td><td> 30         </td></tr>\n",
       "\t<tr><td>male        </td><td>promoted    </td><td>210         </td></tr>\n",
       "</tbody>\n",
       "</table>\n"
      ],
      "text/latex": [
       "\\begin{tabular}{r|lll}\n",
       " sex & promote & n\\\\\n",
       "\\hline\n",
       "\t female         & not\\_promoted & 100           \\\\\n",
       "\t female       & promoted     & 140         \\\\\n",
       "\t male           & not\\_promoted &  30           \\\\\n",
       "\t male         & promoted     & 210         \\\\\n",
       "\\end{tabular}\n"
      ],
      "text/markdown": [
       "\n",
       "sex | promote | n | \n",
       "|---|---|---|---|\n",
       "| female       | not_promoted | 100          | \n",
       "| female       | promoted     | 140          | \n",
       "| male         | not_promoted |  30          | \n",
       "| male         | promoted     | 210          | \n",
       "\n",
       "\n"
      ],
      "text/plain": [
       "  sex    promote      n  \n",
       "1 female not_promoted 100\n",
       "2 female promoted     140\n",
       "3 male   not_promoted  30\n",
       "4 male   promoted     210"
      ]
     },
     "metadata": {},
     "output_type": "display_data"
    }
   ],
   "source": [
    "# Tabulate the small dataset\n",
    "disc_small %>% \n",
    "  # Select sex and promote\n",
    "  count(sex, promote)\n",
    "  \n",
    "# Do the same for disc_big\n",
    "disc_big %>%\n",
    "  count(sex, promote)"
   ]
  },
  {
   "cell_type": "code",
   "execution_count": 113,
   "metadata": {},
   "outputs": [
    {
     "data": {
      "text/html": [
       "<table>\n",
       "<thead><tr><th scope=col>replicate</th><th scope=col>stat</th></tr></thead>\n",
       "<tbody>\n",
       "\t<tr><td>1    </td><td> 0.25</td></tr>\n",
       "\t<tr><td>2    </td><td>-0.25</td></tr>\n",
       "\t<tr><td>3    </td><td> 0.00</td></tr>\n",
       "\t<tr><td>4    </td><td>-0.25</td></tr>\n",
       "\t<tr><td>5    </td><td>-0.50</td></tr>\n",
       "\t<tr><td>6    </td><td> 0.25</td></tr>\n",
       "</tbody>\n",
       "</table>\n"
      ],
      "text/latex": [
       "\\begin{tabular}{r|ll}\n",
       " replicate & stat\\\\\n",
       "\\hline\n",
       "\t 1     &  0.25\\\\\n",
       "\t 2     & -0.25\\\\\n",
       "\t 3     &  0.00\\\\\n",
       "\t 4     & -0.25\\\\\n",
       "\t 5     & -0.50\\\\\n",
       "\t 6     &  0.25\\\\\n",
       "\\end{tabular}\n"
      ],
      "text/markdown": [
       "\n",
       "replicate | stat | \n",
       "|---|---|---|---|---|---|\n",
       "| 1     |  0.25 | \n",
       "| 2     | -0.25 | \n",
       "| 3     |  0.00 | \n",
       "| 4     | -0.25 | \n",
       "| 5     | -0.50 | \n",
       "| 6     |  0.25 | \n",
       "\n",
       "\n"
      ],
      "text/plain": [
       "  replicate stat \n",
       "1 1          0.25\n",
       "2 2         -0.25\n",
       "3 3          0.00\n",
       "4 4         -0.25\n",
       "5 5         -0.50\n",
       "6 6          0.25"
      ]
     },
     "metadata": {},
     "output_type": "display_data"
    },
    {
     "data": {
      "text/html": [
       "0.25"
      ],
      "text/latex": [
       "0.25"
      ],
      "text/markdown": [
       "0.25"
      ],
      "text/plain": [
       "[1] 0.25"
      ]
     },
     "metadata": {},
     "output_type": "display_data"
    },
    {
     "data": {
      "text/html": [
       "<table>\n",
       "<thead><tr><th scope=col>replicate</th><th scope=col>stat</th></tr></thead>\n",
       "<tbody>\n",
       "\t<tr><td>1           </td><td>-0.008333333</td></tr>\n",
       "\t<tr><td>2           </td><td> 0.050000000</td></tr>\n",
       "\t<tr><td>3           </td><td>-0.041666667</td></tr>\n",
       "\t<tr><td>4           </td><td> 0.025000000</td></tr>\n",
       "\t<tr><td>5           </td><td> 0.041666667</td></tr>\n",
       "\t<tr><td>6           </td><td> 0.033333333</td></tr>\n",
       "</tbody>\n",
       "</table>\n"
      ],
      "text/latex": [
       "\\begin{tabular}{r|ll}\n",
       " replicate & stat\\\\\n",
       "\\hline\n",
       "\t 1            & -0.008333333\\\\\n",
       "\t 2            &  0.050000000\\\\\n",
       "\t 3            & -0.041666667\\\\\n",
       "\t 4            &  0.025000000\\\\\n",
       "\t 5            &  0.041666667\\\\\n",
       "\t 6            &  0.033333333\\\\\n",
       "\\end{tabular}\n"
      ],
      "text/markdown": [
       "\n",
       "replicate | stat | \n",
       "|---|---|---|---|---|---|\n",
       "| 1            | -0.008333333 | \n",
       "| 2            |  0.050000000 | \n",
       "| 3            | -0.041666667 | \n",
       "| 4            |  0.025000000 | \n",
       "| 5            |  0.041666667 | \n",
       "| 6            |  0.033333333 | \n",
       "\n",
       "\n"
      ],
      "text/plain": [
       "  replicate stat        \n",
       "1 1         -0.008333333\n",
       "2 2          0.050000000\n",
       "3 3         -0.041666667\n",
       "4 4          0.025000000\n",
       "5 5          0.041666667\n",
       "6 6          0.033333333"
      ]
     },
     "metadata": {},
     "output_type": "display_data"
    },
    {
     "data": {
      "text/html": [
       "0.291666666666667"
      ],
      "text/latex": [
       "0.291666666666667"
      ],
      "text/markdown": [
       "0.291666666666667"
      ],
      "text/plain": [
       "[1] 0.2916667"
      ]
     },
     "metadata": {},
     "output_type": "display_data"
    }
   ],
   "source": [
    "# Create data frame of permuted differences in promotion rates for the small data set\n",
    "disc_perm_small <- disc_small %>%\n",
    "  # Specify promote vs. sex\n",
    "  specify(promote ~ sex, success = \"promoted\") %>%\n",
    "  # Set null hypothesis as independence\n",
    "  hypothesize(null = \"independence\") %>%\n",
    "  # Generate 1000 permutations\n",
    "  generate(reps = 1000, type = \"permute\") %>%\n",
    "  # Calculate difference in proportions\n",
    "  calculate(stat = \"diff in props\", order = c(\"male\", \"female\"))\n",
    "\n",
    "head(disc_perm_small)\n",
    "\n",
    "# Calculate the observed difference in promotion rate\n",
    "diff_orig_small <- disc_small %>%\n",
    "  # Group by sex\n",
    "  group_by(sex) %>%\n",
    "  # Summarize to calculate fraction promoted\n",
    "  summarise(prop_prom = mean(promote == \"promoted\")) %>%\n",
    "  # Summarize to calculate difference\n",
    "  summarise(stat = diff(prop_prom)) %>%\n",
    "    pull()\n",
    "    \n",
    "# See the result\n",
    "diff_orig_small\n",
    "\n",
    "\n",
    "# Create data frame of permuted differences in promotion rates for the big data set\n",
    "disc_perm_big <- disc_big %>%\n",
    "  # Specify promote vs. sex\n",
    "  specify(promote ~ sex, success = \"promoted\") %>%\n",
    "  # Set null hypothesis as independence\n",
    "  hypothesize(null = \"independence\") %>%\n",
    "  # Generate 1000 permutations\n",
    "  generate(reps = 1000, type = \"permute\") %>%\n",
    "  # Calculate difference in proportions\n",
    "  calculate(stat = \"diff in props\", order = c(\"male\", \"female\"))\n",
    "\n",
    "head(disc_perm_big)\n",
    "\n",
    "# Calculate the observed difference in promotion rate\n",
    "diff_orig_big <- disc_big %>%\n",
    "  # Group by sex\n",
    "  group_by(sex) %>%\n",
    "  # Summarize to calculate fraction promoted\n",
    "  summarise(prop_prom = mean(promote == \"promoted\")) %>%\n",
    "  # Summarize to calculate difference\n",
    "  summarise(stat = diff(prop_prom)) %>%\n",
    "    pull()\n",
    "    \n",
    "# See the result\n",
    "diff_orig_big"
   ]
  },
  {
   "cell_type": "markdown",
   "metadata": {},
   "source": [
    "### Sample size in randomization distribution\n",
    "\n",
    "We've created two new datasets for you with essentially the same difference in proportions as the original discrimination data. However, one of the datasets (disc_small) is one third the size of the original dataset and the other (disc_big) is 10 times larger than the original dataset.\n",
    "\n",
    "Additionally, the same permutation code used previously has been run on the small and big datasets to create small and big distributions of permuted differences in promotion rates (disc_small_perm and disc_big_perm, respectively).\n",
    "\n",
    "In this exercise, you'll use these two new distributions to get a sense for how the differences vary given widely different sample sizes. In particular, notice the range of variability on the x-axis of each plot."
   ]
  },
  {
   "cell_type": "code",
   "execution_count": 114,
   "metadata": {},
   "outputs": [
    {
     "data": {},
     "metadata": {},
     "output_type": "display_data"
    },
    {
     "data": {
      "image/png": "[encoded data removed]",
      "text/plain": [
       "plot without title"
      ]
     },
     "metadata": {},
     "output_type": "display_data"
    }
   ],
   "source": [
    "# Using disc_perm_small, plot stat\n",
    "ggplot(disc_perm_small, aes(x = stat)) + \n",
    "  # Add a histogram layer with binwidth 0.01\n",
    "  geom_histogram(binwidth = 0.01) +\n",
    "  # Add a vline layer, crossing x-axis at diff_orig_small\n",
    "  geom_vline(aes(xintercept = diff_orig_small), color = \"red\")"
   ]
  },
  {
   "cell_type": "code",
   "execution_count": 115,
   "metadata": {},
   "outputs": [
    {
     "data": {},
     "metadata": {},
     "output_type": "display_data"
    },
    {
     "data": {
      "image/png": "[encoded data removed]",
      "text/plain": [
       "plot without title"
      ]
     },
     "metadata": {},
     "output_type": "display_data"
    }
   ],
   "source": [
    "# Swap the dataset to disc_perm_big\n",
    "ggplot(disc_perm_big, aes(x = stat)) + \n",
    "  geom_histogram(binwidth = 0.01) +\n",
    "  # Change the x-axis intercept to diff_orig_big\n",
    "  geom_vline(aes(xintercept = diff_orig_big), color = \"red\")"
   ]
  },
  {
   "cell_type": "markdown",
   "metadata": {},
   "source": [
    "The observed difference is consistent with differences you would see by chance if the sample size was small. The observed difference would virtually never be observed by chance if the sample size was big. "
   ]
  },
  {
   "cell_type": "markdown",
   "metadata": {},
   "source": [
    "### Sample size for critical region\n",
    "\n",
    "Using the randomization distributions with the small and big datasets, calculate different cutoffs for significance. Remember, you are most interested in a large positive difference in promotion rates, so you are calculating the upper quantiles of 0.90, 0.95, and 0.99.\n",
    "\n",
    "A function for calculating these quantiles, calc_upper_quantiles() is sown in the script."
   ]
  },
  {
   "cell_type": "code",
   "execution_count": 116,
   "metadata": {},
   "outputs": [
    {
     "data": {
      "text/html": [
       "<table>\n",
       "<thead><tr><th scope=col>q.90</th><th scope=col>q.95</th><th scope=col>q.99</th></tr></thead>\n",
       "<tbody>\n",
       "\t<tr><td>0.2083333</td><td>0.2083333</td><td>0.2916667</td></tr>\n",
       "</tbody>\n",
       "</table>\n"
      ],
      "text/latex": [
       "\\begin{tabular}{r|lll}\n",
       " q.90 & q.95 & q.99\\\\\n",
       "\\hline\n",
       "\t 0.2083333 & 0.2083333 & 0.2916667\\\\\n",
       "\\end{tabular}\n"
      ],
      "text/markdown": [
       "\n",
       "q.90 | q.95 | q.99 | \n",
       "|---|\n",
       "| 0.2083333 | 0.2083333 | 0.2916667 | \n",
       "\n",
       "\n"
      ],
      "text/plain": [
       "  q.90      q.95      q.99     \n",
       "1 0.2083333 0.2083333 0.2916667"
      ]
     },
     "metadata": {},
     "output_type": "display_data"
    },
    {
     "data": {
      "text/html": [
       "<table>\n",
       "<thead><tr><th scope=col>q.90</th><th scope=col>q.95</th><th scope=col>q.99</th></tr></thead>\n",
       "<tbody>\n",
       "\t<tr><td>0.25</td><td>0.5 </td><td>0.5 </td></tr>\n",
       "</tbody>\n",
       "</table>\n"
      ],
      "text/latex": [
       "\\begin{tabular}{r|lll}\n",
       " q.90 & q.95 & q.99\\\\\n",
       "\\hline\n",
       "\t 0.25 & 0.5  & 0.5 \\\\\n",
       "\\end{tabular}\n"
      ],
      "text/markdown": [
       "\n",
       "q.90 | q.95 | q.99 | \n",
       "|---|\n",
       "| 0.25 | 0.5  | 0.5  | \n",
       "\n",
       "\n"
      ],
      "text/plain": [
       "  q.90 q.95 q.99\n",
       "1 0.25 0.5  0.5 "
      ]
     },
     "metadata": {},
     "output_type": "display_data"
    },
    {
     "data": {
      "text/html": [
       "<table>\n",
       "<thead><tr><th scope=col>q.90</th><th scope=col>q.95</th><th scope=col>q.99</th></tr></thead>\n",
       "<tbody>\n",
       "\t<tr><td>0.05      </td><td>0.06666667</td><td>0.08341667</td></tr>\n",
       "</tbody>\n",
       "</table>\n"
      ],
      "text/latex": [
       "\\begin{tabular}{r|lll}\n",
       " q.90 & q.95 & q.99\\\\\n",
       "\\hline\n",
       "\t 0.05       & 0.06666667 & 0.08341667\\\\\n",
       "\\end{tabular}\n"
      ],
      "text/markdown": [
       "\n",
       "q.90 | q.95 | q.99 | \n",
       "|---|\n",
       "| 0.05       | 0.06666667 | 0.08341667 | \n",
       "\n",
       "\n"
      ],
      "text/plain": [
       "  q.90 q.95       q.99      \n",
       "1 0.05 0.06666667 0.08341667"
      ]
     },
     "metadata": {},
     "output_type": "display_data"
    }
   ],
   "source": [
    "calc_upper_quantiles <- function(dataset) {\n",
    "  dataset %>% \n",
    "    summarize(\n",
    "      q.90 = quantile(stat, p = 0.90),\n",
    "      q.95 = quantile(stat, p = 0.95),\n",
    "      q.99 = quantile(stat, p = 0.99)\n",
    "    )\n",
    "}\n",
    "\n",
    "# Recall the quantiles associated with the original dataset\n",
    "calc_upper_quantiles(disc_perm)\n",
    "\n",
    "# Calculate the quantiles associated with the small dataset\n",
    "calc_upper_quantiles(disc_perm_small)\n",
    "\n",
    "# Calculate the quantiles associated with the big dataset\n",
    "calc_upper_quantiles(disc_perm_big)"
   ]
  },
  {
   "cell_type": "markdown",
   "metadata": {},
   "source": [
    " Notice how the differences in proportions must be much larger to be significant if the sample size is small. With a big sample size, a small difference in proportions can be significant. "
   ]
  },
  {
   "cell_type": "markdown",
   "metadata": {},
   "source": [
    "### Calculating the p-values\n",
    "\n",
    "In the video, you learned that a p-value measures the degree of disagreement between the data and the null hypothesis. Here, you will calculate the p-value for the original discrimination dataset as well as the small and big versions, disc_small and disc_big.\n",
    "\n",
    "The original differences in proportions are available in your workspace, diff_orig, diff_orig_small, and diff_orig_big.\n",
    "\n",
    "Recall that you're only interested in the one-sided hypothesis test here. That is, you're trying to answer the question, \"Are men more likely to be promoted than women?\""
   ]
  },
  {
   "cell_type": "code",
   "execution_count": 118,
   "metadata": {},
   "outputs": [
    {
     "name": "stderr",
     "output_type": "stream",
     "text": [
      "Warning message:\n",
      "\"`visualize()` shouldn't be used to plot p-value. Arguments `obs_stat`, `obs_stat_color`, `pvalue_fill`, and `direction` are deprecated. Use `shade_p_value()` instead.\""
     ]
    },
    {
     "data": {},
     "metadata": {},
     "output_type": "display_data"
    },
    {
     "data": {
      "text/html": [
       "<table>\n",
       "<thead><tr><th scope=col>p_value</th></tr></thead>\n",
       "<tbody>\n",
       "\t<tr><td>0.026</td></tr>\n",
       "</tbody>\n",
       "</table>\n"
      ],
      "text/latex": [
       "\\begin{tabular}{r|l}\n",
       " p\\_value\\\\\n",
       "\\hline\n",
       "\t 0.026\\\\\n",
       "\\end{tabular}\n"
      ],
      "text/markdown": [
       "\n",
       "p_value | \n",
       "|---|\n",
       "| 0.026 | \n",
       "\n",
       "\n"
      ],
      "text/plain": [
       "  p_value\n",
       "1 0.026  "
      ]
     },
     "metadata": {},
     "output_type": "display_data"
    },
    {
     "data": {
      "image/png": "[encoded data removed]",
      "text/plain": [
       "plot without title"
      ]
     },
     "metadata": {},
     "output_type": "display_data"
    }
   ],
   "source": [
    "# Visualize and calculate the p-value for the original dataset\n",
    "disc_perm %>%\n",
    "  visualize(obs_stat = diff_orig,direction = \"greater\")\n",
    "\n",
    "disc_perm %>%\n",
    "  get_p_value(obs_stat = diff_orig, direction = \"greater\")"
   ]
  },
  {
   "cell_type": "code",
   "execution_count": 119,
   "metadata": {},
   "outputs": [
    {
     "name": "stderr",
     "output_type": "stream",
     "text": [
      "Warning message:\n",
      "\"`visualize()` shouldn't be used to plot p-value. Arguments `obs_stat`, `obs_stat_color`, `pvalue_fill`, and `direction` are deprecated. Use `shade_p_value()` instead.\""
     ]
    },
    {
     "data": {},
     "metadata": {},
     "output_type": "display_data"
    },
    {
     "data": {
      "text/html": [
       "<table>\n",
       "<thead><tr><th scope=col>p_value</th></tr></thead>\n",
       "<tbody>\n",
       "\t<tr><td>0.292</td></tr>\n",
       "</tbody>\n",
       "</table>\n"
      ],
      "text/latex": [
       "\\begin{tabular}{r|l}\n",
       " p\\_value\\\\\n",
       "\\hline\n",
       "\t 0.292\\\\\n",
       "\\end{tabular}\n"
      ],
      "text/markdown": [
       "\n",
       "p_value | \n",
       "|---|\n",
       "| 0.292 | \n",
       "\n",
       "\n"
      ],
      "text/plain": [
       "  p_value\n",
       "1 0.292  "
      ]
     },
     "metadata": {},
     "output_type": "display_data"
    },
    {
     "data": {
      "image/png": "[encoded data removed]",
      "text/plain": [
       "plot without title"
      ]
     },
     "metadata": {},
     "output_type": "display_data"
    }
   ],
   "source": [
    "# Visualize and calculate the p-value for the small dataset\n",
    "disc_perm_small %>%\n",
    "  visualize(obs_stat = diff_orig_small, direction = \"greater\")\n",
    "\n",
    "disc_perm_small %>%\n",
    "  get_p_value(obs_stat = diff_orig_small, direction = \"greater\")"
   ]
  },
  {
   "cell_type": "code",
   "execution_count": 120,
   "metadata": {},
   "outputs": [
    {
     "name": "stderr",
     "output_type": "stream",
     "text": [
      "Warning message:\n",
      "\"`visualize()` shouldn't be used to plot p-value. Arguments `obs_stat`, `obs_stat_color`, `pvalue_fill`, and `direction` are deprecated. Use `shade_p_value()` instead.\""
     ]
    },
    {
     "data": {},
     "metadata": {},
     "output_type": "display_data"
    },
    {
     "data": {
      "text/html": [
       "<table>\n",
       "<thead><tr><th scope=col>p_value</th></tr></thead>\n",
       "<tbody>\n",
       "\t<tr><td>0</td></tr>\n",
       "</tbody>\n",
       "</table>\n"
      ],
      "text/latex": [
       "\\begin{tabular}{r|l}\n",
       " p\\_value\\\\\n",
       "\\hline\n",
       "\t 0\\\\\n",
       "\\end{tabular}\n"
      ],
      "text/markdown": [
       "\n",
       "p_value | \n",
       "|---|\n",
       "| 0 | \n",
       "\n",
       "\n"
      ],
      "text/plain": [
       "  p_value\n",
       "1 0      "
      ]
     },
     "metadata": {},
     "output_type": "display_data"
    },
    {
     "data": {
      "image/png": "[encoded data removed]",
      "text/plain": [
       "plot without title"
      ]
     },
     "metadata": {},
     "output_type": "display_data"
    }
   ],
   "source": [
    "# Visualize and calculate the p-value for the original dataset\n",
    "disc_perm_big %>%\n",
    "  visualize(obs_stat = diff_orig_big, direction = \"greater\")\n",
    "\n",
    "disc_perm_big %>%\n",
    "  get_p_value(obs_stat = diff_orig_big, direction = \"greater\")"
   ]
  },
  {
   "cell_type": "markdown",
   "metadata": {},
   "source": [
    "You may have noticed that the observed statistic is borderline significant (p-value = 0.03) for the original data. However, the same statistic would have been very consistent with the small dataset (p-value = 0.277 ) and extremely unusual for the large dataset (p-value = 0). "
   ]
  },
  {
   "cell_type": "markdown",
   "metadata": {},
   "source": [
    "### Practice calculating p-values\n",
    "\n",
    "In the original dataset, 87.5% of the men were promoted and 58.3% of the women were promoted.\n",
    "\n",
    "Consider a situation where there are 24 men, 24 women, and 35 people are still promoted. But in this new scenario, 75% of the men are promoted and 70.8% of the women are promoted. Does the difference in promotion rates still appear to be statistically significant? That is, could this difference in promotion rates have come from random chance?\n",
    "\n",
    "You'll analyze these new data, contained in disc_new, using the same permutation algorithm from before.\n",
    "\n",
    "The disc_perm and disc_perm_new datasets are available in your workspace."
   ]
  },
  {
   "cell_type": "code",
   "execution_count": 124,
   "metadata": {},
   "outputs": [
    {
     "data": {
      "text/html": [
       "0.0416666666666666"
      ],
      "text/latex": [
       "0.0416666666666666"
      ],
      "text/markdown": [
       "0.0416666666666666"
      ],
      "text/plain": [
       "[1] 0.04166667"
      ]
     },
     "metadata": {},
     "output_type": "display_data"
    }
   ],
   "source": [
    "# create disc_small\n",
    "sex <- factor(rep(c(\"male\", \"female\"), c(6, 7)), level = c(\"female\", \"male\"))\n",
    "promote <- factor(rep(c(\"not_promoted\"), 13), level = c(\"not_promoted\", \"promoted\"))\n",
    "x <- data.frame(sex, promote)\n",
    "sex <- factor(rep(c(\"male\", \"female\"), c(18, 17)), level = c(\"female\", \"male\"))\n",
    "promote <- factor(rep(c(\"promoted\"), 35), level = c(\"not_promoted\", \"promoted\"))\n",
    "y <- data.frame(sex, promote)\n",
    "disc_new <- bind_rows(y,x)\n",
    "\n",
    "# Create data frame of permuted differences in promotion rates for the new data set\n",
    "disc_perm_new <- disc_new %>%\n",
    "  # Specify promote vs. sex\n",
    "  specify(promote ~ sex, success = \"promoted\") %>%\n",
    "  # Set null hypothesis as independence\n",
    "  hypothesize(null = \"independence\") %>%\n",
    "  # Generate 1000 permutations\n",
    "  generate(reps = 1000, type = \"permute\") %>%\n",
    "  # Calculate difference in proportions\n",
    "  calculate(stat = \"diff in props\", order = c(\"male\", \"female\"))\n",
    "\n",
    "# Calculate the observed difference in promotion rate\n",
    "diff_orig_new <- disc_new %>%\n",
    "  # Group by sex\n",
    "  group_by(sex) %>%\n",
    "  # Summarize to calculate fraction promoted\n",
    "  summarise(prop_prom = mean(promote == \"promoted\")) %>%\n",
    "  # Summarize to calculate difference\n",
    "  summarise(stat = diff(prop_prom)) %>%\n",
    "    pull()\n",
    "    \n",
    "# See the result\n",
    "diff_orig_new"
   ]
  },
  {
   "cell_type": "code",
   "execution_count": 122,
   "metadata": {},
   "outputs": [
    {
     "data": {
      "text/html": [
       "<table>\n",
       "<thead><tr><th scope=col>sex</th><th scope=col>promote</th><th scope=col>n</th></tr></thead>\n",
       "<tbody>\n",
       "\t<tr><td>female      </td><td>not_promoted</td><td>10          </td></tr>\n",
       "\t<tr><td>female      </td><td>promoted    </td><td>14          </td></tr>\n",
       "\t<tr><td>male        </td><td>not_promoted</td><td> 3          </td></tr>\n",
       "\t<tr><td>male        </td><td>promoted    </td><td>21          </td></tr>\n",
       "</tbody>\n",
       "</table>\n"
      ],
      "text/latex": [
       "\\begin{tabular}{r|lll}\n",
       " sex & promote & n\\\\\n",
       "\\hline\n",
       "\t female         & not\\_promoted & 10            \\\\\n",
       "\t female       & promoted     & 14          \\\\\n",
       "\t male           & not\\_promoted &  3            \\\\\n",
       "\t male         & promoted     & 21          \\\\\n",
       "\\end{tabular}\n"
      ],
      "text/markdown": [
       "\n",
       "sex | promote | n | \n",
       "|---|---|---|---|\n",
       "| female       | not_promoted | 10           | \n",
       "| female       | promoted     | 14           | \n",
       "| male         | not_promoted |  3           | \n",
       "| male         | promoted     | 21           | \n",
       "\n",
       "\n"
      ],
      "text/plain": [
       "  sex    promote      n \n",
       "1 female not_promoted 10\n",
       "2 female promoted     14\n",
       "3 male   not_promoted  3\n",
       "4 male   promoted     21"
      ]
     },
     "metadata": {},
     "output_type": "display_data"
    },
    {
     "data": {
      "text/html": [
       "<table>\n",
       "<thead><tr><th scope=col>sex</th><th scope=col>promote</th><th scope=col>n</th></tr></thead>\n",
       "<tbody>\n",
       "\t<tr><td>female      </td><td>not_promoted</td><td> 7          </td></tr>\n",
       "\t<tr><td>female      </td><td>promoted    </td><td>17          </td></tr>\n",
       "\t<tr><td>male        </td><td>not_promoted</td><td> 6          </td></tr>\n",
       "\t<tr><td>male        </td><td>promoted    </td><td>18          </td></tr>\n",
       "</tbody>\n",
       "</table>\n"
      ],
      "text/latex": [
       "\\begin{tabular}{r|lll}\n",
       " sex & promote & n\\\\\n",
       "\\hline\n",
       "\t female         & not\\_promoted &  7            \\\\\n",
       "\t female       & promoted     & 17          \\\\\n",
       "\t male           & not\\_promoted &  6            \\\\\n",
       "\t male         & promoted     & 18          \\\\\n",
       "\\end{tabular}\n"
      ],
      "text/markdown": [
       "\n",
       "sex | promote | n | \n",
       "|---|---|---|---|\n",
       "| female       | not_promoted |  7           | \n",
       "| female       | promoted     | 17           | \n",
       "| male         | not_promoted |  6           | \n",
       "| male         | promoted     | 18           | \n",
       "\n",
       "\n"
      ],
      "text/plain": [
       "  sex    promote      n \n",
       "1 female not_promoted  7\n",
       "2 female promoted     17\n",
       "3 male   not_promoted  6\n",
       "4 male   promoted     18"
      ]
     },
     "metadata": {},
     "output_type": "display_data"
    }
   ],
   "source": [
    "# Recall the original data\n",
    "disc %>% \n",
    "  count(sex, promote)\n",
    "\n",
    "# Tabulate the new data\n",
    "disc_new %>%\n",
    "  count(sex, promote)"
   ]
  },
  {
   "cell_type": "code",
   "execution_count": 126,
   "metadata": {},
   "outputs": [
    {
     "name": "stderr",
     "output_type": "stream",
     "text": [
      "`stat_bin()` using `bins = 30`. Pick better value with `binwidth`.\n"
     ]
    },
    {
     "data": {},
     "metadata": {},
     "output_type": "display_data"
    },
    {
     "name": "stderr",
     "output_type": "stream",
     "text": [
      "`stat_bin()` using `bins = 30`. Pick better value with `binwidth`.\n"
     ]
    },
    {
     "data": {},
     "metadata": {},
     "output_type": "display_data"
    },
    {
     "data": {
      "image/png": "[encoded data removed]",
      "text/plain": [
       "plot without title"
      ]
     },
     "metadata": {},
     "output_type": "display_data"
    },
    {
     "data": {
      "image/png": "[encoded data removed]",
      "text/plain": [
       "plot without title"
      ]
     },
     "metadata": {},
     "output_type": "display_data"
    }
   ],
   "source": [
    "# Recall the distribution of the original permuted differences\n",
    "ggplot(disc_perm, aes(x = stat)) + \n",
    "  geom_histogram() +\n",
    "  geom_vline(aes(xintercept = diff_orig), color = \"red\")\n",
    "\n",
    "# Plot the distribution of the new permuted differences\n",
    "ggplot(disc_perm_new, aes(x = stat)) +\n",
    "  geom_histogram() + \n",
    "  geom_vline(aes(xintercept = diff_orig_new), color = \"red\")"
   ]
  },
  {
   "cell_type": "code",
   "execution_count": 127,
   "metadata": {},
   "outputs": [
    {
     "data": {
      "text/html": [
       "<table>\n",
       "<thead><tr><th scope=col>p_value</th></tr></thead>\n",
       "<tbody>\n",
       "\t<tr><td>0.026</td></tr>\n",
       "</tbody>\n",
       "</table>\n"
      ],
      "text/latex": [
       "\\begin{tabular}{r|l}\n",
       " p\\_value\\\\\n",
       "\\hline\n",
       "\t 0.026\\\\\n",
       "\\end{tabular}\n"
      ],
      "text/markdown": [
       "\n",
       "p_value | \n",
       "|---|\n",
       "| 0.026 | \n",
       "\n",
       "\n"
      ],
      "text/plain": [
       "  p_value\n",
       "1 0.026  "
      ]
     },
     "metadata": {},
     "output_type": "display_data"
    },
    {
     "data": {
      "text/html": [
       "<table>\n",
       "<thead><tr><th scope=col>p_value</th></tr></thead>\n",
       "<tbody>\n",
       "\t<tr><td>0.483</td></tr>\n",
       "</tbody>\n",
       "</table>\n"
      ],
      "text/latex": [
       "\\begin{tabular}{r|l}\n",
       " p\\_value\\\\\n",
       "\\hline\n",
       "\t 0.483\\\\\n",
       "\\end{tabular}\n"
      ],
      "text/markdown": [
       "\n",
       "p_value | \n",
       "|---|\n",
       "| 0.483 | \n",
       "\n",
       "\n"
      ],
      "text/plain": [
       "  p_value\n",
       "1 0.483  "
      ]
     },
     "metadata": {},
     "output_type": "display_data"
    }
   ],
   "source": [
    "# Recall the p-value from the original data\n",
    "disc_perm %>%\n",
    "  summarize(p_value = mean(diff_orig <= stat))\n",
    "\n",
    "# Find the p-value from the new data\n",
    "disc_perm_new %>%\n",
    "  summarize(p_value = mean(diff_orig_new <= stat))"
   ]
  },
  {
   "cell_type": "markdown",
   "metadata": {},
   "source": [
    "### Calculating two-sided p-values\n",
    "\n",
    "What if the original research hypothesis had focused on any difference in promotion rates between men and women instead of focusing on whether men are more likely to be promoted than women? In this case, a difference like the one observed would occur twice as often (by chance) because sometimes the difference would be positive and sometimes it would be negative.\n",
    "\n",
    "When there is no directionality to the alternative hypothesis, the hypothesis and p-value are considered to be two-sided. In a two-sided setting, the p-value is double the one-sided p-value.\n",
    "\n",
    "In this exercise, you'll calculate a two-sided p-value given the original randomization distribution and dataset.\n",
    "\n",
    "The observed difference is stored in diff_orig and the difference in each permutation is the stat column of disc_perm."
   ]
  },
  {
   "cell_type": "code",
   "execution_count": 128,
   "metadata": {},
   "outputs": [
    {
     "data": {
      "text/html": [
       "<table>\n",
       "<thead><tr><th scope=col>p_value</th></tr></thead>\n",
       "<tbody>\n",
       "\t<tr><td>0.052</td></tr>\n",
       "</tbody>\n",
       "</table>\n"
      ],
      "text/latex": [
       "\\begin{tabular}{r|l}\n",
       " p\\_value\\\\\n",
       "\\hline\n",
       "\t 0.052\\\\\n",
       "\\end{tabular}\n"
      ],
      "text/markdown": [
       "\n",
       "p_value | \n",
       "|---|\n",
       "| 0.052 | \n",
       "\n",
       "\n"
      ],
      "text/plain": [
       "  p_value\n",
       "1 0.052  "
      ]
     },
     "metadata": {},
     "output_type": "display_data"
    }
   ],
   "source": [
    "# Calculate the two-sided p-value\n",
    "disc_perm %>%\n",
    "  summarize(p_value = 2 * mean(diff_orig <= stat))"
   ]
  },
  {
   "cell_type": "markdown",
   "metadata": {},
   "source": [
    " Notice, from the calculation, that the two-sided p-value is twice as big as the one-sided p-value. Often, two-sided p-values are preferred as a way of avoiding making false significance claims. "
   ]
  },
  {
   "cell_type": "markdown",
   "metadata": {},
   "source": [
    "### Casestudy - buying DVD after knowing of saving\n"
   ]
  },
  {
   "cell_type": "code",
   "execution_count": 131,
   "metadata": {},
   "outputs": [],
   "source": [
    "# create \n",
    "decision <- factor(rep(c(\"buyDVD\", \"nobuyDVD\"), c(56, 19)), level = c(\"buyDVD\", \"nobuyDVD\"))\n",
    "group <- factor(rep(c(\"control\"), 75), level = c(\"control\", \"treatment\"))\n",
    "x <- data.frame(decision, group)\n",
    "\n",
    "decision <- factor(rep(c(\"buyDVD\", \"nobuyDVD\"), c(41, 34)), level = c(\"buyDVD\", \"nobuyDVD\"))\n",
    "group <- factor(rep(c(\"treatment\"), 75), level = c(\"control\", \"treatment\"))\n",
    "y <- data.frame(decision, group)\n",
    "opportunity <- bind_rows(y,x)"
   ]
  },
  {
   "cell_type": "code",
   "execution_count": 132,
   "metadata": {},
   "outputs": [
    {
     "data": {
      "text/html": [
       "<table>\n",
       "<thead><tr><th scope=col>decision</th><th scope=col>group</th><th scope=col>n</th></tr></thead>\n",
       "<tbody>\n",
       "\t<tr><td>buyDVD   </td><td>control  </td><td>56       </td></tr>\n",
       "\t<tr><td>buyDVD   </td><td>treatment</td><td>41       </td></tr>\n",
       "\t<tr><td>nobuyDVD </td><td>control  </td><td>19       </td></tr>\n",
       "\t<tr><td>nobuyDVD </td><td>treatment</td><td>34       </td></tr>\n",
       "</tbody>\n",
       "</table>\n"
      ],
      "text/latex": [
       "\\begin{tabular}{r|lll}\n",
       " decision & group & n\\\\\n",
       "\\hline\n",
       "\t buyDVD    & control   & 56       \\\\\n",
       "\t buyDVD    & treatment & 41       \\\\\n",
       "\t nobuyDVD  & control   & 19       \\\\\n",
       "\t nobuyDVD  & treatment & 34       \\\\\n",
       "\\end{tabular}\n"
      ],
      "text/markdown": [
       "\n",
       "decision | group | n | \n",
       "|---|---|---|---|\n",
       "| buyDVD    | control   | 56        | \n",
       "| buyDVD    | treatment | 41        | \n",
       "| nobuyDVD  | control   | 19        | \n",
       "| nobuyDVD  | treatment | 34        | \n",
       "\n",
       "\n"
      ],
      "text/plain": [
       "  decision group     n \n",
       "1 buyDVD   control   56\n",
       "2 buyDVD   treatment 41\n",
       "3 nobuyDVD control   19\n",
       "4 nobuyDVD treatment 34"
      ]
     },
     "metadata": {},
     "output_type": "display_data"
    },
    {
     "data": {
      "text/html": [
       "<table>\n",
       "<thead><tr><th scope=col>group</th><th scope=col>buy_prop</th></tr></thead>\n",
       "<tbody>\n",
       "\t<tr><td>control  </td><td>0.7466667</td></tr>\n",
       "\t<tr><td>treatment</td><td>0.5466667</td></tr>\n",
       "</tbody>\n",
       "</table>\n"
      ],
      "text/latex": [
       "\\begin{tabular}{r|ll}\n",
       " group & buy\\_prop\\\\\n",
       "\\hline\n",
       "\t control   & 0.7466667\\\\\n",
       "\t treatment & 0.5466667\\\\\n",
       "\\end{tabular}\n"
      ],
      "text/markdown": [
       "\n",
       "group | buy_prop | \n",
       "|---|---|\n",
       "| control   | 0.7466667 | \n",
       "| treatment | 0.5466667 | \n",
       "\n",
       "\n"
      ],
      "text/plain": [
       "  group     buy_prop \n",
       "1 control   0.7466667\n",
       "2 treatment 0.5466667"
      ]
     },
     "metadata": {},
     "output_type": "display_data"
    }
   ],
   "source": [
    "# Tabulate the data\n",
    "opportunity %>%\n",
    "  count(decision, group)\n",
    "\n",
    "# Find the proportion who bought the DVD in each group\n",
    "opportunity %>%\n",
    "  group_by(group) %>%\n",
    "  summarize(buy_prop = mean(decision == \"buyDVD\"))"
   ]
  },
  {
   "cell_type": "markdown",
   "metadata": {},
   "source": [
    "About 75% of the control group bought the DVD and about 55% of the treatment group (i.e. The group that was reminded that the money could be saved) bought the DVD. Interesting!"
   ]
  },
  {
   "cell_type": "code",
   "execution_count": 133,
   "metadata": {},
   "outputs": [
    {
     "data": {},
     "metadata": {},
     "output_type": "display_data"
    },
    {
     "data": {
      "image/png": "[encoded data removed]",
      "text/plain": [
       "plot without title"
      ]
     },
     "metadata": {},
     "output_type": "display_data"
    }
   ],
   "source": [
    "# Plot group, filled by decision\n",
    "ggplot(opportunity, aes(x = group, fill = decision)) + \n",
    "  # Add a bar layer, with position \"fill\"\n",
    "  geom_bar(position = \"fill\")"
   ]
  },
  {
   "cell_type": "markdown",
   "metadata": {},
   "source": [
    "The barplot better displays the results from the study. The treatment seems like it might have had an effect. "
   ]
  },
  {
   "cell_type": "markdown",
   "metadata": {},
   "source": [
    "### Randomizing opportunity cost\n",
    "\n",
    "As in Chapter 2 Exercise 5, you will permute the data to generate a distribution of differences as if the null hypothesis were true.\n",
    "\n",
    "In the study, the number of individuals in each of the control and treatment groups is fixed. Additionally, when you assume that the null hypothesis is true—that is, the experiment had no effect on the outcome of buying a DVD—it is reasonable to infer that the number of individuals who would buy a DVD is also fixed. That is, 97 people were going to buy a DVD regardless of which treatment group they were in.\n",
    "\n",
    "Using the new data and the methods from the previous chapter, create a randomization distribution of the difference in proportions calculated on permuted data."
   ]
  },
  {
   "cell_type": "code",
   "execution_count": 134,
   "metadata": {},
   "outputs": [],
   "source": [
    "# Calculate the observed difference in purchase rate\n",
    "diff_obs <- opportunity %>%\n",
    "  # Group by group\n",
    "  group_by(group) %>%\n",
    "  # Calculate proportion deciding to buy a DVD\n",
    "  summarise(prop_buy = mean(decision == \"buyDVD\")) %>%\n",
    "  # Calculate difference between groups\n",
    "  summarise(stat = diff(prop_buy)) %>% \n",
    "  pull()"
   ]
  },
  {
   "cell_type": "code",
   "execution_count": 141,
   "metadata": {},
   "outputs": [
    {
     "data": {
      "text/html": [
       "-0.2"
      ],
      "text/latex": [
       "-0.2"
      ],
      "text/markdown": [
       "-0.2"
      ],
      "text/plain": [
       "[1] -0.2"
      ]
     },
     "metadata": {},
     "output_type": "display_data"
    }
   ],
   "source": [
    "diff_obs"
   ]
  },
  {
   "cell_type": "code",
   "execution_count": 137,
   "metadata": {},
   "outputs": [
    {
     "data": {
      "text/html": [
       "<table>\n",
       "<thead><tr><th scope=col>replicate</th><th scope=col>stat</th></tr></thead>\n",
       "<tbody>\n",
       "\t<tr><td>1          </td><td> 0.09333333</td></tr>\n",
       "\t<tr><td>2          </td><td>-0.09333333</td></tr>\n",
       "\t<tr><td>3          </td><td>-0.09333333</td></tr>\n",
       "\t<tr><td>4          </td><td>-0.01333333</td></tr>\n",
       "\t<tr><td>5          </td><td>-0.09333333</td></tr>\n",
       "\t<tr><td>6          </td><td>-0.06666667</td></tr>\n",
       "</tbody>\n",
       "</table>\n"
      ],
      "text/latex": [
       "\\begin{tabular}{r|ll}\n",
       " replicate & stat\\\\\n",
       "\\hline\n",
       "\t 1           &  0.09333333\\\\\n",
       "\t 2           & -0.09333333\\\\\n",
       "\t 3           & -0.09333333\\\\\n",
       "\t 4           & -0.01333333\\\\\n",
       "\t 5           & -0.09333333\\\\\n",
       "\t 6           & -0.06666667\\\\\n",
       "\\end{tabular}\n"
      ],
      "text/markdown": [
       "\n",
       "replicate | stat | \n",
       "|---|---|---|---|---|---|\n",
       "| 1           |  0.09333333 | \n",
       "| 2           | -0.09333333 | \n",
       "| 3           | -0.09333333 | \n",
       "| 4           | -0.01333333 | \n",
       "| 5           | -0.09333333 | \n",
       "| 6           | -0.06666667 | \n",
       "\n",
       "\n"
      ],
      "text/plain": [
       "  replicate stat       \n",
       "1 1          0.09333333\n",
       "2 2         -0.09333333\n",
       "3 3         -0.09333333\n",
       "4 4         -0.01333333\n",
       "5 5         -0.09333333\n",
       "6 6         -0.06666667"
      ]
     },
     "metadata": {},
     "output_type": "display_data"
    }
   ],
   "source": [
    "# Create data frame of permuted differences in purchase rates\n",
    "opp_perm <- opportunity %>%\n",
    "  # Specify decision vs. group, where success is buying a DVD\n",
    "  specify(decision ~ group, success = \"buyDVD\") %>%\n",
    "  # Set the null hypothesis to independence\n",
    "  hypothesize(null = \"independence\") %>%\n",
    "  # Generate 1000 reps of type permute\n",
    "  generate(reps = 1000, type = \"permute\") %>%\n",
    "  # Calculate the summary stat difference in proportions\n",
    "  calculate(stat = \"diff in props\", order = c(\"treatment\", \"control\"))\n",
    "    \n",
    "# Review the result\n",
    "head(opp_perm)"
   ]
  },
  {
   "cell_type": "code",
   "execution_count": 138,
   "metadata": {},
   "outputs": [
    {
     "data": {},
     "metadata": {},
     "output_type": "display_data"
    },
    {
     "data": {
      "image/png": "[encoded data removed]",
      "text/plain": [
       "plot without title"
      ]
     },
     "metadata": {},
     "output_type": "display_data"
    }
   ],
   "source": [
    "# Using the permuation data, plot stat\n",
    "ggplot(opp_perm, aes(x = stat)) + \n",
    "  # Add a histogram layer with binwidth 0.005\n",
    "  geom_histogram(binwidth = 0.005) +\n",
    "  # Add a vline layer with intercept diff_obs\n",
    "  geom_vline(aes(xintercept = diff_obs), color = \"red\")"
   ]
  },
  {
   "cell_type": "code",
   "execution_count": 140,
   "metadata": {},
   "outputs": [
    {
     "name": "stderr",
     "output_type": "stream",
     "text": [
      "Warning message:\n",
      "\"`visualize()` shouldn't be used to plot p-value. Arguments `obs_stat`, `obs_stat_color`, `pvalue_fill`, and `direction` are deprecated. Use `shade_p_value()` instead.\""
     ]
    },
    {
     "data": {},
     "metadata": {},
     "output_type": "display_data"
    },
    {
     "data": {
      "text/html": [
       "<table>\n",
       "<thead><tr><th scope=col>p_value</th></tr></thead>\n",
       "<tbody>\n",
       "\t<tr><td>0.008</td></tr>\n",
       "</tbody>\n",
       "</table>\n"
      ],
      "text/latex": [
       "\\begin{tabular}{r|l}\n",
       " p\\_value\\\\\n",
       "\\hline\n",
       "\t 0.008\\\\\n",
       "\\end{tabular}\n"
      ],
      "text/markdown": [
       "\n",
       "p_value | \n",
       "|---|\n",
       "| 0.008 | \n",
       "\n",
       "\n"
      ],
      "text/plain": [
       "  p_value\n",
       "1 0.008  "
      ]
     },
     "metadata": {},
     "output_type": "display_data"
    },
    {
     "data": {
      "text/html": [
       "<table>\n",
       "<thead><tr><th scope=col>p_value</th></tr></thead>\n",
       "<tbody>\n",
       "\t<tr><td>0.008</td></tr>\n",
       "</tbody>\n",
       "</table>\n"
      ],
      "text/latex": [
       "\\begin{tabular}{r|l}\n",
       " p\\_value\\\\\n",
       "\\hline\n",
       "\t 0.008\\\\\n",
       "\\end{tabular}\n"
      ],
      "text/markdown": [
       "\n",
       "p_value | \n",
       "|---|\n",
       "| 0.008 | \n",
       "\n",
       "\n"
      ],
      "text/plain": [
       "  p_value\n",
       "1 0.008  "
      ]
     },
     "metadata": {},
     "output_type": "display_data"
    },
    {
     "data": {
      "image/png": "[encoded data removed]",
      "text/plain": [
       "plot without title"
      ]
     },
     "metadata": {},
     "output_type": "display_data"
    }
   ],
   "source": [
    "# Visualize the statistic \n",
    "opp_perm %>%\n",
    "  visualize(obs_stat = diff_obs, direction = \"less\")\n",
    "\n",
    "# Calculate the p-value using `get_p_value`\n",
    "opp_perm %>%\n",
    "  get_p_value(obs_stat = diff_obs, direction = \"less\")\n",
    "\n",
    "# Calculate the p-value using `summarize`\n",
    "opp_perm %>%\n",
    "  summarize(p_value = mean(stat <= diff_obs))"
   ]
  },
  {
   "cell_type": "markdown",
   "metadata": {},
   "source": [
    "The small p-value indicates that the observed data are inconsistent with the null hypothesis. We should reject the null claim and conclude that financial advice does affect the likelihood of purchase. "
   ]
  },
  {
   "cell_type": "markdown",
   "metadata": {},
   "source": [
    "Based on this result of 0.008, what can you conclude from the study about the effect of reminding students to save money?\n",
    "* Reminding them causes them to be less likely to buy the DVD"
   ]
  },
  {
   "cell_type": "markdown",
   "metadata": {},
   "source": [
    "#  interval estimate - Bootstrapping \n",
    "### Resampling from a sample\n",
    "\n",
    "To investigate how much the estimates of a population proportion change from sample to sample, you will set up two sampling experiments.\n",
    "\n",
    "In the first experiment, you will simulate repeated samples from a population. In the second, you will choose a single sample from the first experiment and repeatedly resample from that sample: a method called bootstrapping. More specifically:\n",
    "\n",
    "<b>Experiment 1</b>: Assume the true proportion of people who will vote for Candidate X is 0.6. Repeatedly sample 30 people from the population and measure the variability of $\\hat{p}$(the *sample* proportion).\n",
    "\n",
    "<b>Experiment 2</b>: Take one sample of size 30 from the same population. Repeatedly sample 30 people (with replacement!) from the original sample and measure the variability of $\\hat{p}^∗$ (the *resample* proportion).\n",
    "\n",
    "It's important to realize that the first experiment relies on knowing the population and is typically impossible in practice. The second relies only on the sample of data and is therefore easy to implement for any statistic. Fortunately, as you will see, the variability in $\\hat{p}$, or the proportion of \"successes\" in a sample, is approximately the same whether we sample from the population or resample from a sample."
   ]
  },
  {
   "cell_type": "code",
   "execution_count": null,
   "metadata": {},
   "outputs": [],
   "source": []
  }
 ],
 "metadata": {
  "kernelspec": {
   "display_name": "R",
   "language": "R",
   "name": "ir"
  },
  "language_info": {
   "codemirror_mode": "r",
   "file_extension": ".r",
   "mimetype": "text/x-r-source",
   "name": "R",
   "pygments_lexer": "r",
   "version": "3.5.1"
  }
 },
 "nbformat": 4,
 "nbformat_minor": 2
}
